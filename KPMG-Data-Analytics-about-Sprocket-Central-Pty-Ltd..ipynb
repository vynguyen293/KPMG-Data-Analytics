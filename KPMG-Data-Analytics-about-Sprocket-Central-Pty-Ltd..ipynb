{
 "cells": [
  {
   "cell_type": "code",
   "execution_count": 1,
   "id": "6382d7ff",
   "metadata": {},
   "outputs": [],
   "source": [
    "import pandas as pd\n",
    "import numpy as np\n",
    "import seaborn as sns\n",
    "import matplotlib.pyplot as plt\n",
    "from datetime import datetime\n",
    "\n",
    "import warnings\n",
    "warnings.filterwarnings('ignore')"
   ]
  },
  {
   "cell_type": "markdown",
   "id": "fe4d6e40",
   "metadata": {},
   "source": [
    "## 1. PREPARE DATA"
   ]
  },
  {
   "cell_type": "markdown",
   "id": "703a1463",
   "metadata": {},
   "source": [
    "### 1.1. Read CustomerDemographic Table"
   ]
  },
  {
   "cell_type": "code",
   "execution_count": 2,
   "id": "c0beb918",
   "metadata": {},
   "outputs": [
    {
     "data": {
      "text/html": [
       "<div>\n",
       "<style scoped>\n",
       "    .dataframe tbody tr th:only-of-type {\n",
       "        vertical-align: middle;\n",
       "    }\n",
       "\n",
       "    .dataframe tbody tr th {\n",
       "        vertical-align: top;\n",
       "    }\n",
       "\n",
       "    .dataframe thead th {\n",
       "        text-align: right;\n",
       "    }\n",
       "</style>\n",
       "<table border=\"1\" class=\"dataframe\">\n",
       "  <thead>\n",
       "    <tr style=\"text-align: right;\">\n",
       "      <th></th>\n",
       "      <th>customer_id</th>\n",
       "      <th>first_name</th>\n",
       "      <th>last_name</th>\n",
       "      <th>gender</th>\n",
       "      <th>past_3_years_bike_related_purchases</th>\n",
       "      <th>DOB</th>\n",
       "      <th>job_title</th>\n",
       "      <th>job_industry_category</th>\n",
       "      <th>wealth_segment</th>\n",
       "      <th>deceased_indicator</th>\n",
       "      <th>default</th>\n",
       "      <th>owns_car</th>\n",
       "      <th>tenure</th>\n",
       "    </tr>\n",
       "  </thead>\n",
       "  <tbody>\n",
       "    <tr>\n",
       "      <th>0</th>\n",
       "      <td>1</td>\n",
       "      <td>Laraine</td>\n",
       "      <td>Medendorp</td>\n",
       "      <td>F</td>\n",
       "      <td>93</td>\n",
       "      <td>1953-10-12</td>\n",
       "      <td>Executive Secretary</td>\n",
       "      <td>Health</td>\n",
       "      <td>Mass Customer</td>\n",
       "      <td>N</td>\n",
       "      <td>\"'</td>\n",
       "      <td>Yes</td>\n",
       "      <td>11.0</td>\n",
       "    </tr>\n",
       "    <tr>\n",
       "      <th>1</th>\n",
       "      <td>2</td>\n",
       "      <td>Eli</td>\n",
       "      <td>Bockman</td>\n",
       "      <td>Male</td>\n",
       "      <td>81</td>\n",
       "      <td>1980-12-16</td>\n",
       "      <td>Administrative Officer</td>\n",
       "      <td>Financial Services</td>\n",
       "      <td>Mass Customer</td>\n",
       "      <td>N</td>\n",
       "      <td>&lt;script&gt;alert('hi')&lt;/script&gt;</td>\n",
       "      <td>Yes</td>\n",
       "      <td>16.0</td>\n",
       "    </tr>\n",
       "    <tr>\n",
       "      <th>2</th>\n",
       "      <td>3</td>\n",
       "      <td>Arlin</td>\n",
       "      <td>Dearle</td>\n",
       "      <td>Male</td>\n",
       "      <td>61</td>\n",
       "      <td>1954-01-20</td>\n",
       "      <td>Recruiting Manager</td>\n",
       "      <td>Property</td>\n",
       "      <td>Mass Customer</td>\n",
       "      <td>N</td>\n",
       "      <td>2018-02-01 00:00:00</td>\n",
       "      <td>Yes</td>\n",
       "      <td>15.0</td>\n",
       "    </tr>\n",
       "    <tr>\n",
       "      <th>3</th>\n",
       "      <td>4</td>\n",
       "      <td>Talbot</td>\n",
       "      <td>NaN</td>\n",
       "      <td>Male</td>\n",
       "      <td>33</td>\n",
       "      <td>1961-10-03</td>\n",
       "      <td>NaN</td>\n",
       "      <td>IT</td>\n",
       "      <td>Mass Customer</td>\n",
       "      <td>N</td>\n",
       "      <td>() { _; } &gt;_[$($())] { touch /tmp/blns.shellsh...</td>\n",
       "      <td>No</td>\n",
       "      <td>7.0</td>\n",
       "    </tr>\n",
       "    <tr>\n",
       "      <th>4</th>\n",
       "      <td>5</td>\n",
       "      <td>Sheila-kathryn</td>\n",
       "      <td>Calton</td>\n",
       "      <td>Female</td>\n",
       "      <td>56</td>\n",
       "      <td>1977-05-13</td>\n",
       "      <td>Senior Editor</td>\n",
       "      <td>NaN</td>\n",
       "      <td>Affluent Customer</td>\n",
       "      <td>N</td>\n",
       "      <td>NIL</td>\n",
       "      <td>Yes</td>\n",
       "      <td>8.0</td>\n",
       "    </tr>\n",
       "  </tbody>\n",
       "</table>\n",
       "</div>"
      ],
      "text/plain": [
       "   customer_id      first_name  last_name  gender  \\\n",
       "0            1         Laraine  Medendorp       F   \n",
       "1            2             Eli    Bockman    Male   \n",
       "2            3           Arlin     Dearle    Male   \n",
       "3            4          Talbot        NaN    Male   \n",
       "4            5  Sheila-kathryn     Calton  Female   \n",
       "\n",
       "   past_3_years_bike_related_purchases        DOB               job_title  \\\n",
       "0                                   93 1953-10-12     Executive Secretary   \n",
       "1                                   81 1980-12-16  Administrative Officer   \n",
       "2                                   61 1954-01-20      Recruiting Manager   \n",
       "3                                   33 1961-10-03                     NaN   \n",
       "4                                   56 1977-05-13           Senior Editor   \n",
       "\n",
       "  job_industry_category     wealth_segment deceased_indicator  \\\n",
       "0                Health      Mass Customer                  N   \n",
       "1    Financial Services      Mass Customer                  N   \n",
       "2              Property      Mass Customer                  N   \n",
       "3                    IT      Mass Customer                  N   \n",
       "4                   NaN  Affluent Customer                  N   \n",
       "\n",
       "                                             default owns_car  tenure  \n",
       "0                                                 \"'      Yes    11.0  \n",
       "1                       <script>alert('hi')</script>      Yes    16.0  \n",
       "2                                2018-02-01 00:00:00      Yes    15.0  \n",
       "3  () { _; } >_[$($())] { touch /tmp/blns.shellsh...       No     7.0  \n",
       "4                                                NIL      Yes     8.0  "
      ]
     },
     "execution_count": 2,
     "metadata": {},
     "output_type": "execute_result"
    }
   ],
   "source": [
    "df_dem = pd.read_excel('./data/KPMG_VI_New_raw_data_update_final.xlsx', sheet_name=3, skiprows=[0], usecols='A:M', engine='openpyxl')\n",
    "df_dem.head()"
   ]
  },
  {
   "cell_type": "code",
   "execution_count": 3,
   "id": "cf915549",
   "metadata": {},
   "outputs": [
    {
     "name": "stdout",
     "output_type": "stream",
     "text": [
      "<class 'pandas.core.frame.DataFrame'>\n",
      "RangeIndex: 4000 entries, 0 to 3999\n",
      "Data columns (total 13 columns):\n",
      " #   Column                               Non-Null Count  Dtype         \n",
      "---  ------                               --------------  -----         \n",
      " 0   customer_id                          4000 non-null   int64         \n",
      " 1   first_name                           4000 non-null   object        \n",
      " 2   last_name                            3875 non-null   object        \n",
      " 3   gender                               4000 non-null   object        \n",
      " 4   past_3_years_bike_related_purchases  4000 non-null   int64         \n",
      " 5   DOB                                  3913 non-null   datetime64[ns]\n",
      " 6   job_title                            3494 non-null   object        \n",
      " 7   job_industry_category                3344 non-null   object        \n",
      " 8   wealth_segment                       4000 non-null   object        \n",
      " 9   deceased_indicator                   4000 non-null   object        \n",
      " 10  default                              3698 non-null   object        \n",
      " 11  owns_car                             4000 non-null   object        \n",
      " 12  tenure                               3913 non-null   float64       \n",
      "dtypes: datetime64[ns](1), float64(1), int64(2), object(9)\n",
      "memory usage: 406.4+ KB\n"
     ]
    }
   ],
   "source": [
    "df_dem.info()"
   ]
  },
  {
   "cell_type": "code",
   "execution_count": 4,
   "id": "419dcb86",
   "metadata": {},
   "outputs": [
    {
     "name": "stdout",
     "output_type": "stream",
     "text": [
      "The CustomerDemographic Table has 4000 rows and 13 columns.\n"
     ]
    }
   ],
   "source": [
    "print('The CustomerDemographic Table has', df_dem.shape[0], 'rows and', df_dem.shape[1], 'columns.')"
   ]
  },
  {
   "cell_type": "markdown",
   "id": "380f2537",
   "metadata": {},
   "source": [
    "### 1.2. Read CustomerAddress Table"
   ]
  },
  {
   "cell_type": "code",
   "execution_count": 5,
   "id": "c14b95f1",
   "metadata": {},
   "outputs": [
    {
     "data": {
      "text/html": [
       "<div>\n",
       "<style scoped>\n",
       "    .dataframe tbody tr th:only-of-type {\n",
       "        vertical-align: middle;\n",
       "    }\n",
       "\n",
       "    .dataframe tbody tr th {\n",
       "        vertical-align: top;\n",
       "    }\n",
       "\n",
       "    .dataframe thead th {\n",
       "        text-align: right;\n",
       "    }\n",
       "</style>\n",
       "<table border=\"1\" class=\"dataframe\">\n",
       "  <thead>\n",
       "    <tr style=\"text-align: right;\">\n",
       "      <th></th>\n",
       "      <th>customer_id</th>\n",
       "      <th>address</th>\n",
       "      <th>postcode</th>\n",
       "      <th>state</th>\n",
       "      <th>country</th>\n",
       "      <th>property_valuation</th>\n",
       "    </tr>\n",
       "  </thead>\n",
       "  <tbody>\n",
       "    <tr>\n",
       "      <th>0</th>\n",
       "      <td>1</td>\n",
       "      <td>060 Morning Avenue</td>\n",
       "      <td>2016</td>\n",
       "      <td>New South Wales</td>\n",
       "      <td>Australia</td>\n",
       "      <td>10</td>\n",
       "    </tr>\n",
       "    <tr>\n",
       "      <th>1</th>\n",
       "      <td>2</td>\n",
       "      <td>6 Meadow Vale Court</td>\n",
       "      <td>2153</td>\n",
       "      <td>New South Wales</td>\n",
       "      <td>Australia</td>\n",
       "      <td>10</td>\n",
       "    </tr>\n",
       "    <tr>\n",
       "      <th>2</th>\n",
       "      <td>4</td>\n",
       "      <td>0 Holy Cross Court</td>\n",
       "      <td>4211</td>\n",
       "      <td>QLD</td>\n",
       "      <td>Australia</td>\n",
       "      <td>9</td>\n",
       "    </tr>\n",
       "    <tr>\n",
       "      <th>3</th>\n",
       "      <td>5</td>\n",
       "      <td>17979 Del Mar Point</td>\n",
       "      <td>2448</td>\n",
       "      <td>New South Wales</td>\n",
       "      <td>Australia</td>\n",
       "      <td>4</td>\n",
       "    </tr>\n",
       "    <tr>\n",
       "      <th>4</th>\n",
       "      <td>6</td>\n",
       "      <td>9 Oakridge Court</td>\n",
       "      <td>3216</td>\n",
       "      <td>VIC</td>\n",
       "      <td>Australia</td>\n",
       "      <td>9</td>\n",
       "    </tr>\n",
       "  </tbody>\n",
       "</table>\n",
       "</div>"
      ],
      "text/plain": [
       "   customer_id              address  postcode            state    country  \\\n",
       "0            1   060 Morning Avenue      2016  New South Wales  Australia   \n",
       "1            2  6 Meadow Vale Court      2153  New South Wales  Australia   \n",
       "2            4   0 Holy Cross Court      4211              QLD  Australia   \n",
       "3            5  17979 Del Mar Point      2448  New South Wales  Australia   \n",
       "4            6     9 Oakridge Court      3216              VIC  Australia   \n",
       "\n",
       "   property_valuation  \n",
       "0                  10  \n",
       "1                  10  \n",
       "2                   9  \n",
       "3                   4  \n",
       "4                   9  "
      ]
     },
     "execution_count": 5,
     "metadata": {},
     "output_type": "execute_result"
    }
   ],
   "source": [
    "df_add = pd.read_excel('./data/KPMG_VI_New_raw_data_update_final.xlsx', sheet_name=4, skiprows=[0], usecols='A:F', engine='openpyxl')\n",
    "df_add.head()"
   ]
  },
  {
   "cell_type": "code",
   "execution_count": 6,
   "id": "a1228555",
   "metadata": {},
   "outputs": [
    {
     "name": "stdout",
     "output_type": "stream",
     "text": [
      "<class 'pandas.core.frame.DataFrame'>\n",
      "RangeIndex: 3999 entries, 0 to 3998\n",
      "Data columns (total 6 columns):\n",
      " #   Column              Non-Null Count  Dtype \n",
      "---  ------              --------------  ----- \n",
      " 0   customer_id         3999 non-null   int64 \n",
      " 1   address             3999 non-null   object\n",
      " 2   postcode            3999 non-null   int64 \n",
      " 3   state               3999 non-null   object\n",
      " 4   country             3999 non-null   object\n",
      " 5   property_valuation  3999 non-null   int64 \n",
      "dtypes: int64(3), object(3)\n",
      "memory usage: 187.6+ KB\n"
     ]
    }
   ],
   "source": [
    "df_add.info()"
   ]
  },
  {
   "cell_type": "code",
   "execution_count": 7,
   "id": "a8aaa2cc",
   "metadata": {},
   "outputs": [
    {
     "name": "stdout",
     "output_type": "stream",
     "text": [
      "The CustomerAddress Table has 3999 rows and 6 columns.\n"
     ]
    }
   ],
   "source": [
    "print('The CustomerAddress Table has', df_add.shape[0], 'rows and', df_add.shape[1], 'columns.')"
   ]
  },
  {
   "cell_type": "markdown",
   "id": "2bb4188f",
   "metadata": {},
   "source": [
    "### 1.3. Read Transactions Table"
   ]
  },
  {
   "cell_type": "code",
   "execution_count": 8,
   "id": "d6678614",
   "metadata": {},
   "outputs": [
    {
     "data": {
      "text/html": [
       "<div>\n",
       "<style scoped>\n",
       "    .dataframe tbody tr th:only-of-type {\n",
       "        vertical-align: middle;\n",
       "    }\n",
       "\n",
       "    .dataframe tbody tr th {\n",
       "        vertical-align: top;\n",
       "    }\n",
       "\n",
       "    .dataframe thead th {\n",
       "        text-align: right;\n",
       "    }\n",
       "</style>\n",
       "<table border=\"1\" class=\"dataframe\">\n",
       "  <thead>\n",
       "    <tr style=\"text-align: right;\">\n",
       "      <th></th>\n",
       "      <th>transaction_id</th>\n",
       "      <th>product_id</th>\n",
       "      <th>customer_id</th>\n",
       "      <th>transaction_date</th>\n",
       "      <th>online_order</th>\n",
       "      <th>order_status</th>\n",
       "      <th>brand</th>\n",
       "      <th>product_line</th>\n",
       "      <th>product_class</th>\n",
       "      <th>product_size</th>\n",
       "      <th>list_price</th>\n",
       "      <th>standard_cost</th>\n",
       "      <th>product_first_sold_date</th>\n",
       "    </tr>\n",
       "  </thead>\n",
       "  <tbody>\n",
       "    <tr>\n",
       "      <th>0</th>\n",
       "      <td>1</td>\n",
       "      <td>2</td>\n",
       "      <td>2950</td>\n",
       "      <td>2017-02-25</td>\n",
       "      <td>0.0</td>\n",
       "      <td>Approved</td>\n",
       "      <td>Solex</td>\n",
       "      <td>Standard</td>\n",
       "      <td>medium</td>\n",
       "      <td>medium</td>\n",
       "      <td>71.49</td>\n",
       "      <td>53.62</td>\n",
       "      <td>41245.0</td>\n",
       "    </tr>\n",
       "    <tr>\n",
       "      <th>1</th>\n",
       "      <td>2</td>\n",
       "      <td>3</td>\n",
       "      <td>3120</td>\n",
       "      <td>2017-05-21</td>\n",
       "      <td>1.0</td>\n",
       "      <td>Approved</td>\n",
       "      <td>Trek Bicycles</td>\n",
       "      <td>Standard</td>\n",
       "      <td>medium</td>\n",
       "      <td>large</td>\n",
       "      <td>2091.47</td>\n",
       "      <td>388.92</td>\n",
       "      <td>41701.0</td>\n",
       "    </tr>\n",
       "    <tr>\n",
       "      <th>2</th>\n",
       "      <td>3</td>\n",
       "      <td>37</td>\n",
       "      <td>402</td>\n",
       "      <td>2017-10-16</td>\n",
       "      <td>0.0</td>\n",
       "      <td>Approved</td>\n",
       "      <td>OHM Cycles</td>\n",
       "      <td>Standard</td>\n",
       "      <td>low</td>\n",
       "      <td>medium</td>\n",
       "      <td>1793.43</td>\n",
       "      <td>248.82</td>\n",
       "      <td>36361.0</td>\n",
       "    </tr>\n",
       "    <tr>\n",
       "      <th>3</th>\n",
       "      <td>4</td>\n",
       "      <td>88</td>\n",
       "      <td>3135</td>\n",
       "      <td>2017-08-31</td>\n",
       "      <td>0.0</td>\n",
       "      <td>Approved</td>\n",
       "      <td>Norco Bicycles</td>\n",
       "      <td>Standard</td>\n",
       "      <td>medium</td>\n",
       "      <td>medium</td>\n",
       "      <td>1198.46</td>\n",
       "      <td>381.10</td>\n",
       "      <td>36145.0</td>\n",
       "    </tr>\n",
       "    <tr>\n",
       "      <th>4</th>\n",
       "      <td>5</td>\n",
       "      <td>78</td>\n",
       "      <td>787</td>\n",
       "      <td>2017-10-01</td>\n",
       "      <td>1.0</td>\n",
       "      <td>Approved</td>\n",
       "      <td>Giant Bicycles</td>\n",
       "      <td>Standard</td>\n",
       "      <td>medium</td>\n",
       "      <td>large</td>\n",
       "      <td>1765.30</td>\n",
       "      <td>709.48</td>\n",
       "      <td>42226.0</td>\n",
       "    </tr>\n",
       "  </tbody>\n",
       "</table>\n",
       "</div>"
      ],
      "text/plain": [
       "   transaction_id  product_id  customer_id transaction_date  online_order  \\\n",
       "0               1           2         2950       2017-02-25           0.0   \n",
       "1               2           3         3120       2017-05-21           1.0   \n",
       "2               3          37          402       2017-10-16           0.0   \n",
       "3               4          88         3135       2017-08-31           0.0   \n",
       "4               5          78          787       2017-10-01           1.0   \n",
       "\n",
       "  order_status           brand product_line product_class product_size  \\\n",
       "0     Approved           Solex     Standard        medium       medium   \n",
       "1     Approved   Trek Bicycles     Standard        medium        large   \n",
       "2     Approved      OHM Cycles     Standard           low       medium   \n",
       "3     Approved  Norco Bicycles     Standard        medium       medium   \n",
       "4     Approved  Giant Bicycles     Standard        medium        large   \n",
       "\n",
       "   list_price  standard_cost  product_first_sold_date  \n",
       "0       71.49          53.62                  41245.0  \n",
       "1     2091.47         388.92                  41701.0  \n",
       "2     1793.43         248.82                  36361.0  \n",
       "3     1198.46         381.10                  36145.0  \n",
       "4     1765.30         709.48                  42226.0  "
      ]
     },
     "execution_count": 8,
     "metadata": {},
     "output_type": "execute_result"
    }
   ],
   "source": [
    "df_trans = pd.read_excel('./data/KPMG_VI_New_raw_data_update_final.xlsx', sheet_name=1, skiprows=[0], usecols='A:M', engine='openpyxl')\n",
    "df_trans.head()"
   ]
  },
  {
   "cell_type": "code",
   "execution_count": 9,
   "id": "decfe486",
   "metadata": {},
   "outputs": [
    {
     "name": "stdout",
     "output_type": "stream",
     "text": [
      "<class 'pandas.core.frame.DataFrame'>\n",
      "RangeIndex: 20000 entries, 0 to 19999\n",
      "Data columns (total 13 columns):\n",
      " #   Column                   Non-Null Count  Dtype         \n",
      "---  ------                   --------------  -----         \n",
      " 0   transaction_id           20000 non-null  int64         \n",
      " 1   product_id               20000 non-null  int64         \n",
      " 2   customer_id              20000 non-null  int64         \n",
      " 3   transaction_date         20000 non-null  datetime64[ns]\n",
      " 4   online_order             19640 non-null  float64       \n",
      " 5   order_status             20000 non-null  object        \n",
      " 6   brand                    19803 non-null  object        \n",
      " 7   product_line             19803 non-null  object        \n",
      " 8   product_class            19803 non-null  object        \n",
      " 9   product_size             19803 non-null  object        \n",
      " 10  list_price               20000 non-null  float64       \n",
      " 11  standard_cost            19803 non-null  float64       \n",
      " 12  product_first_sold_date  19803 non-null  float64       \n",
      "dtypes: datetime64[ns](1), float64(4), int64(3), object(5)\n",
      "memory usage: 2.0+ MB\n"
     ]
    }
   ],
   "source": [
    "df_trans.info()"
   ]
  },
  {
   "cell_type": "code",
   "execution_count": 10,
   "id": "08cb241f",
   "metadata": {},
   "outputs": [
    {
     "name": "stdout",
     "output_type": "stream",
     "text": [
      "The Transactions Table has 20000 rows and 13 columns.\n"
     ]
    }
   ],
   "source": [
    "print('The Transactions Table has', df_trans.shape[0], 'rows and', df_trans.shape[1], 'columns.')"
   ]
  },
  {
   "cell_type": "markdown",
   "id": "651364c1",
   "metadata": {},
   "source": [
    "### 1.4. Read NewCustomerList Table"
   ]
  },
  {
   "cell_type": "code",
   "execution_count": 11,
   "id": "c0b8b5fa",
   "metadata": {},
   "outputs": [
    {
     "data": {
      "text/html": [
       "<div>\n",
       "<style scoped>\n",
       "    .dataframe tbody tr th:only-of-type {\n",
       "        vertical-align: middle;\n",
       "    }\n",
       "\n",
       "    .dataframe tbody tr th {\n",
       "        vertical-align: top;\n",
       "    }\n",
       "\n",
       "    .dataframe thead th {\n",
       "        text-align: right;\n",
       "    }\n",
       "</style>\n",
       "<table border=\"1\" class=\"dataframe\">\n",
       "  <thead>\n",
       "    <tr style=\"text-align: right;\">\n",
       "      <th></th>\n",
       "      <th>first_name</th>\n",
       "      <th>last_name</th>\n",
       "      <th>gender</th>\n",
       "      <th>past_3_years_bike_related_purchases</th>\n",
       "      <th>DOB</th>\n",
       "      <th>job_title</th>\n",
       "      <th>job_industry_category</th>\n",
       "      <th>wealth_segment</th>\n",
       "      <th>deceased_indicator</th>\n",
       "      <th>owns_car</th>\n",
       "      <th>...</th>\n",
       "      <th>state</th>\n",
       "      <th>country</th>\n",
       "      <th>property_valuation</th>\n",
       "      <th>Unnamed: 16</th>\n",
       "      <th>Unnamed: 17</th>\n",
       "      <th>Unnamed: 18</th>\n",
       "      <th>Unnamed: 19</th>\n",
       "      <th>Unnamed: 20</th>\n",
       "      <th>Rank</th>\n",
       "      <th>Value</th>\n",
       "    </tr>\n",
       "  </thead>\n",
       "  <tbody>\n",
       "    <tr>\n",
       "      <th>0</th>\n",
       "      <td>Chickie</td>\n",
       "      <td>Brister</td>\n",
       "      <td>Male</td>\n",
       "      <td>86</td>\n",
       "      <td>1957-07-12</td>\n",
       "      <td>General Manager</td>\n",
       "      <td>Manufacturing</td>\n",
       "      <td>Mass Customer</td>\n",
       "      <td>N</td>\n",
       "      <td>Yes</td>\n",
       "      <td>...</td>\n",
       "      <td>QLD</td>\n",
       "      <td>Australia</td>\n",
       "      <td>6</td>\n",
       "      <td>0.49</td>\n",
       "      <td>0.6125</td>\n",
       "      <td>0.765625</td>\n",
       "      <td>0.650781</td>\n",
       "      <td>1</td>\n",
       "      <td>1</td>\n",
       "      <td>1.718750</td>\n",
       "    </tr>\n",
       "    <tr>\n",
       "      <th>1</th>\n",
       "      <td>Morly</td>\n",
       "      <td>Genery</td>\n",
       "      <td>Male</td>\n",
       "      <td>69</td>\n",
       "      <td>1970-03-22</td>\n",
       "      <td>Structural Engineer</td>\n",
       "      <td>Property</td>\n",
       "      <td>Mass Customer</td>\n",
       "      <td>N</td>\n",
       "      <td>No</td>\n",
       "      <td>...</td>\n",
       "      <td>NSW</td>\n",
       "      <td>Australia</td>\n",
       "      <td>11</td>\n",
       "      <td>0.53</td>\n",
       "      <td>0.5300</td>\n",
       "      <td>0.662500</td>\n",
       "      <td>0.563125</td>\n",
       "      <td>1</td>\n",
       "      <td>1</td>\n",
       "      <td>1.718750</td>\n",
       "    </tr>\n",
       "    <tr>\n",
       "      <th>2</th>\n",
       "      <td>Ardelis</td>\n",
       "      <td>Forrester</td>\n",
       "      <td>Female</td>\n",
       "      <td>10</td>\n",
       "      <td>1974-08-28</td>\n",
       "      <td>Senior Cost Accountant</td>\n",
       "      <td>Financial Services</td>\n",
       "      <td>Affluent Customer</td>\n",
       "      <td>N</td>\n",
       "      <td>No</td>\n",
       "      <td>...</td>\n",
       "      <td>VIC</td>\n",
       "      <td>Australia</td>\n",
       "      <td>5</td>\n",
       "      <td>0.49</td>\n",
       "      <td>0.4900</td>\n",
       "      <td>0.490000</td>\n",
       "      <td>0.490000</td>\n",
       "      <td>1</td>\n",
       "      <td>1</td>\n",
       "      <td>1.718750</td>\n",
       "    </tr>\n",
       "    <tr>\n",
       "      <th>3</th>\n",
       "      <td>Lucine</td>\n",
       "      <td>Stutt</td>\n",
       "      <td>Female</td>\n",
       "      <td>64</td>\n",
       "      <td>1979-01-28</td>\n",
       "      <td>Account Representative III</td>\n",
       "      <td>Manufacturing</td>\n",
       "      <td>Affluent Customer</td>\n",
       "      <td>N</td>\n",
       "      <td>Yes</td>\n",
       "      <td>...</td>\n",
       "      <td>QLD</td>\n",
       "      <td>Australia</td>\n",
       "      <td>1</td>\n",
       "      <td>0.69</td>\n",
       "      <td>0.8625</td>\n",
       "      <td>0.862500</td>\n",
       "      <td>0.862500</td>\n",
       "      <td>4</td>\n",
       "      <td>4</td>\n",
       "      <td>1.703125</td>\n",
       "    </tr>\n",
       "    <tr>\n",
       "      <th>4</th>\n",
       "      <td>Melinda</td>\n",
       "      <td>Hadlee</td>\n",
       "      <td>Female</td>\n",
       "      <td>34</td>\n",
       "      <td>1965-09-21</td>\n",
       "      <td>Financial Analyst</td>\n",
       "      <td>Financial Services</td>\n",
       "      <td>Affluent Customer</td>\n",
       "      <td>N</td>\n",
       "      <td>No</td>\n",
       "      <td>...</td>\n",
       "      <td>NSW</td>\n",
       "      <td>Australia</td>\n",
       "      <td>9</td>\n",
       "      <td>0.46</td>\n",
       "      <td>0.4600</td>\n",
       "      <td>0.575000</td>\n",
       "      <td>0.575000</td>\n",
       "      <td>4</td>\n",
       "      <td>4</td>\n",
       "      <td>1.703125</td>\n",
       "    </tr>\n",
       "  </tbody>\n",
       "</table>\n",
       "<p>5 rows × 23 columns</p>\n",
       "</div>"
      ],
      "text/plain": [
       "  first_name  last_name  gender  past_3_years_bike_related_purchases  \\\n",
       "0    Chickie    Brister    Male                                   86   \n",
       "1      Morly     Genery    Male                                   69   \n",
       "2    Ardelis  Forrester  Female                                   10   \n",
       "3     Lucine      Stutt  Female                                   64   \n",
       "4    Melinda     Hadlee  Female                                   34   \n",
       "\n",
       "         DOB                   job_title job_industry_category  \\\n",
       "0 1957-07-12             General Manager         Manufacturing   \n",
       "1 1970-03-22         Structural Engineer              Property   \n",
       "2 1974-08-28      Senior Cost Accountant    Financial Services   \n",
       "3 1979-01-28  Account Representative III         Manufacturing   \n",
       "4 1965-09-21           Financial Analyst    Financial Services   \n",
       "\n",
       "      wealth_segment deceased_indicator owns_car  ...  state    country  \\\n",
       "0      Mass Customer                  N      Yes  ...    QLD  Australia   \n",
       "1      Mass Customer                  N       No  ...    NSW  Australia   \n",
       "2  Affluent Customer                  N       No  ...    VIC  Australia   \n",
       "3  Affluent Customer                  N      Yes  ...    QLD  Australia   \n",
       "4  Affluent Customer                  N       No  ...    NSW  Australia   \n",
       "\n",
       "   property_valuation Unnamed: 16 Unnamed: 17  Unnamed: 18  Unnamed: 19  \\\n",
       "0                   6        0.49      0.6125     0.765625     0.650781   \n",
       "1                  11        0.53      0.5300     0.662500     0.563125   \n",
       "2                   5        0.49      0.4900     0.490000     0.490000   \n",
       "3                   1        0.69      0.8625     0.862500     0.862500   \n",
       "4                   9        0.46      0.4600     0.575000     0.575000   \n",
       "\n",
       "   Unnamed: 20  Rank     Value  \n",
       "0            1     1  1.718750  \n",
       "1            1     1  1.718750  \n",
       "2            1     1  1.718750  \n",
       "3            4     4  1.703125  \n",
       "4            4     4  1.703125  \n",
       "\n",
       "[5 rows x 23 columns]"
      ]
     },
     "execution_count": 11,
     "metadata": {},
     "output_type": "execute_result"
    }
   ],
   "source": [
    "df_newlist = pd.read_excel('./data/KPMG_VI_New_raw_data_update_final.xlsx', sheet_name=2, skiprows=[0], usecols='A:W', engine='openpyxl')\n",
    "df_newlist.head()"
   ]
  },
  {
   "cell_type": "code",
   "execution_count": 12,
   "id": "9ddd973b",
   "metadata": {},
   "outputs": [
    {
     "name": "stdout",
     "output_type": "stream",
     "text": [
      "<class 'pandas.core.frame.DataFrame'>\n",
      "RangeIndex: 1000 entries, 0 to 999\n",
      "Data columns (total 23 columns):\n",
      " #   Column                               Non-Null Count  Dtype         \n",
      "---  ------                               --------------  -----         \n",
      " 0   first_name                           1000 non-null   object        \n",
      " 1   last_name                            971 non-null    object        \n",
      " 2   gender                               1000 non-null   object        \n",
      " 3   past_3_years_bike_related_purchases  1000 non-null   int64         \n",
      " 4   DOB                                  983 non-null    datetime64[ns]\n",
      " 5   job_title                            894 non-null    object        \n",
      " 6   job_industry_category                835 non-null    object        \n",
      " 7   wealth_segment                       1000 non-null   object        \n",
      " 8   deceased_indicator                   1000 non-null   object        \n",
      " 9   owns_car                             1000 non-null   object        \n",
      " 10  tenure                               1000 non-null   int64         \n",
      " 11  address                              1000 non-null   object        \n",
      " 12  postcode                             1000 non-null   int64         \n",
      " 13  state                                1000 non-null   object        \n",
      " 14  country                              1000 non-null   object        \n",
      " 15  property_valuation                   1000 non-null   int64         \n",
      " 16  Unnamed: 16                          1000 non-null   float64       \n",
      " 17  Unnamed: 17                          1000 non-null   float64       \n",
      " 18  Unnamed: 18                          1000 non-null   float64       \n",
      " 19  Unnamed: 19                          1000 non-null   float64       \n",
      " 20  Unnamed: 20                          1000 non-null   int64         \n",
      " 21  Rank                                 1000 non-null   int64         \n",
      " 22  Value                                1000 non-null   float64       \n",
      "dtypes: datetime64[ns](1), float64(5), int64(6), object(11)\n",
      "memory usage: 179.8+ KB\n"
     ]
    }
   ],
   "source": [
    "df_newlist.info()"
   ]
  },
  {
   "cell_type": "code",
   "execution_count": 13,
   "id": "d8a05201",
   "metadata": {},
   "outputs": [
    {
     "name": "stdout",
     "output_type": "stream",
     "text": [
      "The NewCustomerList Table has 1000 rows and 23 columns.\n"
     ]
    }
   ],
   "source": [
    "print('The NewCustomerList Table has', df_newlist.shape[0], 'rows and', df_newlist.shape[1], 'columns.')"
   ]
  },
  {
   "cell_type": "markdown",
   "id": "79096e4b",
   "metadata": {},
   "source": [
    "## 2. PROCESS DATA"
   ]
  },
  {
   "cell_type": "markdown",
   "id": "305fe87e",
   "metadata": {},
   "source": [
    "### 2.1. Check data in 3 tables"
   ]
  },
  {
   "cell_type": "markdown",
   "id": "534aface",
   "metadata": {},
   "source": [
    "**CustomerDemographic**"
   ]
  },
  {
   "cell_type": "code",
   "execution_count": 14,
   "id": "b4bd4967",
   "metadata": {},
   "outputs": [
    {
     "name": "stdout",
     "output_type": "stream",
     "text": [
      "Shape before dropping duplicates (4000, 13)\n",
      "Shape after dropping duplicates (4000, 13)\n"
     ]
    }
   ],
   "source": [
    "# Check the data for duplicates\n",
    "print('Shape before dropping duplicates', df_dem.shape)\n",
    "df_dem = df_dem.drop_duplicates()\n",
    "print('Shape after dropping duplicates', df_dem.shape)"
   ]
  },
  {
   "cell_type": "markdown",
   "id": "6269cace",
   "metadata": {},
   "source": [
    "CustomerDemographic Table has no duplicates"
   ]
  },
  {
   "cell_type": "code",
   "execution_count": 15,
   "id": "ab725301",
   "metadata": {},
   "outputs": [
    {
     "name": "stdout",
     "output_type": "stream",
     "text": [
      "customer_id                              0\n",
      "first_name                               0\n",
      "last_name                              125\n",
      "gender                                   0\n",
      "past_3_years_bike_related_purchases      0\n",
      "DOB                                     87\n",
      "job_title                              506\n",
      "job_industry_category                  656\n",
      "wealth_segment                           0\n",
      "deceased_indicator                       0\n",
      "default                                302\n",
      "owns_car                                 0\n",
      "tenure                                  87\n",
      "dtype: int64 \n",
      "\n"
     ]
    }
   ],
   "source": [
    "# Check the data for missing values\n",
    "print(np.sum(df_dem.isnull()), '\\n')"
   ]
  },
  {
   "cell_type": "markdown",
   "id": "1ddb4bbc",
   "metadata": {},
   "source": [
    " There are lots of missing data records in CustomerDemographic Table"
   ]
  },
  {
   "cell_type": "markdown",
   "id": "826bff1e",
   "metadata": {},
   "source": [
    "**CustomerAddress**"
   ]
  },
  {
   "cell_type": "code",
   "execution_count": 16,
   "id": "a429303d",
   "metadata": {},
   "outputs": [
    {
     "name": "stdout",
     "output_type": "stream",
     "text": [
      "Shape before dropping duplicates (3999, 6)\n",
      "Shape after dropping duplicates (3999, 6)\n"
     ]
    }
   ],
   "source": [
    "# Check the data for duplicates\n",
    "print('Shape before dropping duplicates', df_add.shape)\n",
    "df_add = df_add.drop_duplicates()\n",
    "print('Shape after dropping duplicates', df_add.shape)"
   ]
  },
  {
   "cell_type": "markdown",
   "id": "ce5fa840",
   "metadata": {},
   "source": [
    "CustomerAddress Table has no duplicates"
   ]
  },
  {
   "cell_type": "code",
   "execution_count": 17,
   "id": "accb33ec",
   "metadata": {},
   "outputs": [
    {
     "name": "stdout",
     "output_type": "stream",
     "text": [
      "customer_id           0\n",
      "address               0\n",
      "postcode              0\n",
      "state                 0\n",
      "country               0\n",
      "property_valuation    0\n",
      "dtype: int64 \n",
      "\n"
     ]
    }
   ],
   "source": [
    "# Check the data for missing values\n",
    "print(np.sum(df_add.isnull()), '\\n')"
   ]
  },
  {
   "cell_type": "markdown",
   "id": "4df770df",
   "metadata": {},
   "source": [
    " There are no missing data records in CustomerAddress Table"
   ]
  },
  {
   "cell_type": "markdown",
   "id": "74753b08",
   "metadata": {},
   "source": [
    "**Transactions**"
   ]
  },
  {
   "cell_type": "code",
   "execution_count": 18,
   "id": "9c915e88",
   "metadata": {},
   "outputs": [
    {
     "name": "stdout",
     "output_type": "stream",
     "text": [
      "Shape before dropping duplicates (20000, 13)\n",
      "Shape after dropping duplicates (20000, 13)\n"
     ]
    }
   ],
   "source": [
    "# Check the data for duplicates\n",
    "print('Shape before dropping duplicates', df_trans.shape)\n",
    "df_trans = df_trans.drop_duplicates()\n",
    "print('Shape after dropping duplicates', df_trans.shape)"
   ]
  },
  {
   "cell_type": "markdown",
   "id": "e9cf4ece",
   "metadata": {},
   "source": [
    "Transactions Table has no duplicates"
   ]
  },
  {
   "cell_type": "code",
   "execution_count": 19,
   "id": "bb9a2633",
   "metadata": {},
   "outputs": [
    {
     "name": "stdout",
     "output_type": "stream",
     "text": [
      "transaction_id               0\n",
      "product_id                   0\n",
      "customer_id                  0\n",
      "transaction_date             0\n",
      "online_order               360\n",
      "order_status                 0\n",
      "brand                      197\n",
      "product_line               197\n",
      "product_class              197\n",
      "product_size               197\n",
      "list_price                   0\n",
      "standard_cost              197\n",
      "product_first_sold_date    197\n",
      "dtype: int64 \n",
      "\n"
     ]
    }
   ],
   "source": [
    "# Check the data for missing values\n",
    "print(np.sum(df_trans.isnull()), '\\n')"
   ]
  },
  {
   "cell_type": "markdown",
   "id": "00b54753",
   "metadata": {},
   "source": [
    " There are lots of missing data records in Transactions Table"
   ]
  },
  {
   "cell_type": "markdown",
   "id": "e8d1b5ba",
   "metadata": {},
   "source": [
    "### 2.2. Merge 3 tables into 1 table"
   ]
  },
  {
   "cell_type": "code",
   "execution_count": 20,
   "id": "9aab9ef1",
   "metadata": {},
   "outputs": [],
   "source": [
    "df_1 = pd.merge(df_dem, df_add, how='outer', on=['customer_id'])"
   ]
  },
  {
   "cell_type": "code",
   "execution_count": 21,
   "id": "4c77e289",
   "metadata": {},
   "outputs": [
    {
     "data": {
      "text/plain": [
       "(4000, 13)"
      ]
     },
     "execution_count": 21,
     "metadata": {},
     "output_type": "execute_result"
    }
   ],
   "source": [
    "df_dem.shape"
   ]
  },
  {
   "cell_type": "code",
   "execution_count": 22,
   "id": "95c036a2",
   "metadata": {},
   "outputs": [
    {
     "data": {
      "text/plain": [
       "(3999, 6)"
      ]
     },
     "execution_count": 22,
     "metadata": {},
     "output_type": "execute_result"
    }
   ],
   "source": [
    "df_add.shape"
   ]
  },
  {
   "cell_type": "code",
   "execution_count": 23,
   "id": "86f361ec",
   "metadata": {},
   "outputs": [
    {
     "data": {
      "text/plain": [
       "(4003, 18)"
      ]
     },
     "execution_count": 23,
     "metadata": {},
     "output_type": "execute_result"
    }
   ],
   "source": [
    "df_1.shape"
   ]
  },
  {
   "cell_type": "code",
   "execution_count": 24,
   "id": "e422bc51",
   "metadata": {},
   "outputs": [],
   "source": [
    "df_all = pd.merge(df_trans, df_1, how='outer', on=['customer_id'])"
   ]
  },
  {
   "cell_type": "code",
   "execution_count": 25,
   "id": "d67945a6",
   "metadata": {},
   "outputs": [
    {
     "data": {
      "text/plain": [
       "(20000, 13)"
      ]
     },
     "execution_count": 25,
     "metadata": {},
     "output_type": "execute_result"
    }
   ],
   "source": [
    "df_trans.shape"
   ]
  },
  {
   "cell_type": "code",
   "execution_count": 26,
   "id": "bc5a75d1",
   "metadata": {},
   "outputs": [
    {
     "data": {
      "text/plain": [
       "(20510, 30)"
      ]
     },
     "execution_count": 26,
     "metadata": {},
     "output_type": "execute_result"
    }
   ],
   "source": [
    "df_all.shape"
   ]
  },
  {
   "cell_type": "code",
   "execution_count": 27,
   "id": "271dd8b8",
   "metadata": {},
   "outputs": [
    {
     "data": {
      "text/plain": [
       "Index(['customer_id', 'first_name', 'last_name', 'gender',\n",
       "       'past_3_years_bike_related_purchases', 'DOB', 'job_title',\n",
       "       'job_industry_category', 'wealth_segment', 'deceased_indicator',\n",
       "       'default', 'owns_car', 'tenure', 'address', 'postcode', 'state',\n",
       "       'country', 'property_valuation'],\n",
       "      dtype='object')"
      ]
     },
     "execution_count": 27,
     "metadata": {},
     "output_type": "execute_result"
    }
   ],
   "source": [
    "df_1.columns"
   ]
  },
  {
   "cell_type": "code",
   "execution_count": 28,
   "id": "44dd53ea",
   "metadata": {},
   "outputs": [
    {
     "data": {
      "text/plain": [
       "Index(['transaction_id', 'product_id', 'customer_id', 'transaction_date',\n",
       "       'online_order', 'order_status', 'brand', 'product_line',\n",
       "       'product_class', 'product_size', 'list_price', 'standard_cost',\n",
       "       'product_first_sold_date'],\n",
       "      dtype='object')"
      ]
     },
     "execution_count": 28,
     "metadata": {},
     "output_type": "execute_result"
    }
   ],
   "source": [
    "df_trans.columns"
   ]
  },
  {
   "cell_type": "code",
   "execution_count": 29,
   "id": "8a3f8fa5",
   "metadata": {},
   "outputs": [
    {
     "data": {
      "text/html": [
       "<div>\n",
       "<style scoped>\n",
       "    .dataframe tbody tr th:only-of-type {\n",
       "        vertical-align: middle;\n",
       "    }\n",
       "\n",
       "    .dataframe tbody tr th {\n",
       "        vertical-align: top;\n",
       "    }\n",
       "\n",
       "    .dataframe thead th {\n",
       "        text-align: right;\n",
       "    }\n",
       "</style>\n",
       "<table border=\"1\" class=\"dataframe\">\n",
       "  <thead>\n",
       "    <tr style=\"text-align: right;\">\n",
       "      <th></th>\n",
       "      <th>transaction_id</th>\n",
       "      <th>product_id</th>\n",
       "      <th>customer_id</th>\n",
       "      <th>transaction_date</th>\n",
       "      <th>online_order</th>\n",
       "      <th>order_status</th>\n",
       "      <th>brand</th>\n",
       "      <th>product_line</th>\n",
       "      <th>product_class</th>\n",
       "      <th>product_size</th>\n",
       "      <th>...</th>\n",
       "      <th>wealth_segment</th>\n",
       "      <th>deceased_indicator</th>\n",
       "      <th>default</th>\n",
       "      <th>owns_car</th>\n",
       "      <th>tenure</th>\n",
       "      <th>address</th>\n",
       "      <th>postcode</th>\n",
       "      <th>state</th>\n",
       "      <th>country</th>\n",
       "      <th>property_valuation</th>\n",
       "    </tr>\n",
       "  </thead>\n",
       "  <tbody>\n",
       "    <tr>\n",
       "      <th>0</th>\n",
       "      <td>1.0</td>\n",
       "      <td>2.0</td>\n",
       "      <td>2950</td>\n",
       "      <td>2017-02-25</td>\n",
       "      <td>0.0</td>\n",
       "      <td>Approved</td>\n",
       "      <td>Solex</td>\n",
       "      <td>Standard</td>\n",
       "      <td>medium</td>\n",
       "      <td>medium</td>\n",
       "      <td>...</td>\n",
       "      <td>Mass Customer</td>\n",
       "      <td>N</td>\n",
       "      <td>ã»(ï¿£âï¿£)ã»:*:</td>\n",
       "      <td>Yes</td>\n",
       "      <td>10.0</td>\n",
       "      <td>984 Hoepker Court</td>\n",
       "      <td>3064.0</td>\n",
       "      <td>VIC</td>\n",
       "      <td>Australia</td>\n",
       "      <td>6.0</td>\n",
       "    </tr>\n",
       "    <tr>\n",
       "      <th>1</th>\n",
       "      <td>11065.0</td>\n",
       "      <td>1.0</td>\n",
       "      <td>2950</td>\n",
       "      <td>2017-10-16</td>\n",
       "      <td>0.0</td>\n",
       "      <td>Approved</td>\n",
       "      <td>Giant Bicycles</td>\n",
       "      <td>Standard</td>\n",
       "      <td>medium</td>\n",
       "      <td>medium</td>\n",
       "      <td>...</td>\n",
       "      <td>Mass Customer</td>\n",
       "      <td>N</td>\n",
       "      <td>ã»(ï¿£âï¿£)ã»:*:</td>\n",
       "      <td>Yes</td>\n",
       "      <td>10.0</td>\n",
       "      <td>984 Hoepker Court</td>\n",
       "      <td>3064.0</td>\n",
       "      <td>VIC</td>\n",
       "      <td>Australia</td>\n",
       "      <td>6.0</td>\n",
       "    </tr>\n",
       "    <tr>\n",
       "      <th>2</th>\n",
       "      <td>18923.0</td>\n",
       "      <td>62.0</td>\n",
       "      <td>2950</td>\n",
       "      <td>2017-04-26</td>\n",
       "      <td>0.0</td>\n",
       "      <td>Approved</td>\n",
       "      <td>Solex</td>\n",
       "      <td>Standard</td>\n",
       "      <td>medium</td>\n",
       "      <td>medium</td>\n",
       "      <td>...</td>\n",
       "      <td>Mass Customer</td>\n",
       "      <td>N</td>\n",
       "      <td>ã»(ï¿£âï¿£)ã»:*:</td>\n",
       "      <td>Yes</td>\n",
       "      <td>10.0</td>\n",
       "      <td>984 Hoepker Court</td>\n",
       "      <td>3064.0</td>\n",
       "      <td>VIC</td>\n",
       "      <td>Australia</td>\n",
       "      <td>6.0</td>\n",
       "    </tr>\n",
       "  </tbody>\n",
       "</table>\n",
       "<p>3 rows × 30 columns</p>\n",
       "</div>"
      ],
      "text/plain": [
       "   transaction_id  product_id  customer_id transaction_date  online_order  \\\n",
       "0             1.0         2.0         2950       2017-02-25           0.0   \n",
       "1         11065.0         1.0         2950       2017-10-16           0.0   \n",
       "2         18923.0        62.0         2950       2017-04-26           0.0   \n",
       "\n",
       "  order_status           brand product_line product_class product_size  ...  \\\n",
       "0     Approved           Solex     Standard        medium       medium  ...   \n",
       "1     Approved  Giant Bicycles     Standard        medium       medium  ...   \n",
       "2     Approved           Solex     Standard        medium       medium  ...   \n",
       "\n",
       "   wealth_segment  deceased_indicator           default owns_car tenure  \\\n",
       "0   Mass Customer                   N  ã»(ï¿£âï¿£)ã»:*:      Yes   10.0   \n",
       "1   Mass Customer                   N  ã»(ï¿£âï¿£)ã»:*:      Yes   10.0   \n",
       "2   Mass Customer                   N  ã»(ï¿£âï¿£)ã»:*:      Yes   10.0   \n",
       "\n",
       "             address  postcode state    country property_valuation  \n",
       "0  984 Hoepker Court    3064.0   VIC  Australia                6.0  \n",
       "1  984 Hoepker Court    3064.0   VIC  Australia                6.0  \n",
       "2  984 Hoepker Court    3064.0   VIC  Australia                6.0  \n",
       "\n",
       "[3 rows x 30 columns]"
      ]
     },
     "execution_count": 29,
     "metadata": {},
     "output_type": "execute_result"
    }
   ],
   "source": [
    "df_all.head(3)"
   ]
  },
  {
   "cell_type": "code",
   "execution_count": 30,
   "id": "c5ddc31f",
   "metadata": {},
   "outputs": [
    {
     "name": "stdout",
     "output_type": "stream",
     "text": [
      "transaction_id                          510\n",
      "product_id                              510\n",
      "customer_id                               0\n",
      "transaction_date                        510\n",
      "online_order                            870\n",
      "order_status                            510\n",
      "brand                                   707\n",
      "product_line                            707\n",
      "product_class                           707\n",
      "product_size                            707\n",
      "list_price                              510\n",
      "standard_cost                           707\n",
      "product_first_sold_date                 707\n",
      "first_name                                6\n",
      "last_name                               661\n",
      "gender                                    6\n",
      "past_3_years_bike_related_purchases       6\n",
      "DOB                                     463\n",
      "job_title                              2483\n",
      "job_industry_category                  3330\n",
      "wealth_segment                            6\n",
      "deceased_indicator                        6\n",
      "default                                1505\n",
      "owns_car                                  6\n",
      "tenure                                  463\n",
      "address                                  32\n",
      "postcode                                 32\n",
      "state                                    32\n",
      "country                                  32\n",
      "property_valuation                       32\n",
      "dtype: int64 \n",
      "\n"
     ]
    }
   ],
   "source": [
    "# Check the data for missing values\n",
    "print(np.sum(df_all.isnull()), '\\n')"
   ]
  },
  {
   "cell_type": "markdown",
   "id": "7798f9cf",
   "metadata": {},
   "source": [
    "There are **510 customers without having any transactions** => Need to be removed 510 records where 'transaction_id' is empty"
   ]
  },
  {
   "cell_type": "markdown",
   "id": "6eb01e99",
   "metadata": {},
   "source": [
    "### 2.3. The table for analyzing"
   ]
  },
  {
   "cell_type": "code",
   "execution_count": 31,
   "id": "45390c9e",
   "metadata": {},
   "outputs": [],
   "source": [
    "df_all = df_all.loc[~df_all['transaction_id'].isnull()]"
   ]
  },
  {
   "cell_type": "code",
   "execution_count": 32,
   "id": "7bc7577b",
   "metadata": {},
   "outputs": [
    {
     "data": {
      "text/plain": [
       "(20000, 30)"
      ]
     },
     "execution_count": 32,
     "metadata": {},
     "output_type": "execute_result"
    }
   ],
   "source": [
    "df_all.shape"
   ]
  },
  {
   "cell_type": "code",
   "execution_count": 33,
   "id": "2d4f5376",
   "metadata": {},
   "outputs": [
    {
     "data": {
      "text/html": [
       "<div>\n",
       "<style scoped>\n",
       "    .dataframe tbody tr th:only-of-type {\n",
       "        vertical-align: middle;\n",
       "    }\n",
       "\n",
       "    .dataframe tbody tr th {\n",
       "        vertical-align: top;\n",
       "    }\n",
       "\n",
       "    .dataframe thead th {\n",
       "        text-align: right;\n",
       "    }\n",
       "</style>\n",
       "<table border=\"1\" class=\"dataframe\">\n",
       "  <thead>\n",
       "    <tr style=\"text-align: right;\">\n",
       "      <th></th>\n",
       "      <th>transaction_id</th>\n",
       "      <th>product_id</th>\n",
       "      <th>customer_id</th>\n",
       "      <th>transaction_date</th>\n",
       "      <th>online_order</th>\n",
       "      <th>order_status</th>\n",
       "      <th>brand</th>\n",
       "      <th>product_line</th>\n",
       "      <th>product_class</th>\n",
       "      <th>product_size</th>\n",
       "      <th>...</th>\n",
       "      <th>wealth_segment</th>\n",
       "      <th>deceased_indicator</th>\n",
       "      <th>default</th>\n",
       "      <th>owns_car</th>\n",
       "      <th>tenure</th>\n",
       "      <th>address</th>\n",
       "      <th>postcode</th>\n",
       "      <th>state</th>\n",
       "      <th>country</th>\n",
       "      <th>property_valuation</th>\n",
       "    </tr>\n",
       "  </thead>\n",
       "  <tbody>\n",
       "    <tr>\n",
       "      <th>19997</th>\n",
       "      <td>18462.0</td>\n",
       "      <td>80.0</td>\n",
       "      <td>2789</td>\n",
       "      <td>2017-06-20</td>\n",
       "      <td>0.0</td>\n",
       "      <td>Approved</td>\n",
       "      <td>OHM Cycles</td>\n",
       "      <td>Touring</td>\n",
       "      <td>low</td>\n",
       "      <td>medium</td>\n",
       "      <td>...</td>\n",
       "      <td>Affluent Customer</td>\n",
       "      <td>N</td>\n",
       "      <td>ãã¼ãã£ã¼ã¸è¡ããªãã</td>\n",
       "      <td>Yes</td>\n",
       "      <td>7.0</td>\n",
       "      <td>724 West Park</td>\n",
       "      <td>2112.0</td>\n",
       "      <td>NSW</td>\n",
       "      <td>Australia</td>\n",
       "      <td>11.0</td>\n",
       "    </tr>\n",
       "    <tr>\n",
       "      <th>19998</th>\n",
       "      <td>17981.0</td>\n",
       "      <td>69.0</td>\n",
       "      <td>3446</td>\n",
       "      <td>2017-12-26</td>\n",
       "      <td>1.0</td>\n",
       "      <td>Approved</td>\n",
       "      <td>Giant Bicycles</td>\n",
       "      <td>Road</td>\n",
       "      <td>medium</td>\n",
       "      <td>medium</td>\n",
       "      <td>...</td>\n",
       "      <td>Mass Customer</td>\n",
       "      <td>N</td>\n",
       "      <td>NaN</td>\n",
       "      <td>No</td>\n",
       "      <td>14.0</td>\n",
       "      <td>8 Becker Drive</td>\n",
       "      <td>4868.0</td>\n",
       "      <td>QLD</td>\n",
       "      <td>Australia</td>\n",
       "      <td>4.0</td>\n",
       "    </tr>\n",
       "    <tr>\n",
       "      <th>19999</th>\n",
       "      <td>18165.0</td>\n",
       "      <td>86.0</td>\n",
       "      <td>3446</td>\n",
       "      <td>2017-12-03</td>\n",
       "      <td>0.0</td>\n",
       "      <td>Approved</td>\n",
       "      <td>OHM Cycles</td>\n",
       "      <td>Standard</td>\n",
       "      <td>medium</td>\n",
       "      <td>medium</td>\n",
       "      <td>...</td>\n",
       "      <td>Mass Customer</td>\n",
       "      <td>N</td>\n",
       "      <td>NaN</td>\n",
       "      <td>No</td>\n",
       "      <td>14.0</td>\n",
       "      <td>8 Becker Drive</td>\n",
       "      <td>4868.0</td>\n",
       "      <td>QLD</td>\n",
       "      <td>Australia</td>\n",
       "      <td>4.0</td>\n",
       "    </tr>\n",
       "  </tbody>\n",
       "</table>\n",
       "<p>3 rows × 30 columns</p>\n",
       "</div>"
      ],
      "text/plain": [
       "       transaction_id  product_id  customer_id transaction_date  online_order  \\\n",
       "19997         18462.0        80.0         2789       2017-06-20           0.0   \n",
       "19998         17981.0        69.0         3446       2017-12-26           1.0   \n",
       "19999         18165.0        86.0         3446       2017-12-03           0.0   \n",
       "\n",
       "      order_status           brand product_line product_class product_size  \\\n",
       "19997     Approved      OHM Cycles      Touring           low       medium   \n",
       "19998     Approved  Giant Bicycles         Road        medium       medium   \n",
       "19999     Approved      OHM Cycles     Standard        medium       medium   \n",
       "\n",
       "       ...     wealth_segment  deceased_indicator            default owns_car  \\\n",
       "19997  ...  Affluent Customer                   N  ãã¼ãã£ã¼ã¸è¡ããªãã      Yes   \n",
       "19998  ...      Mass Customer                   N                NaN       No   \n",
       "19999  ...      Mass Customer                   N                NaN       No   \n",
       "\n",
       "      tenure         address  postcode state    country property_valuation  \n",
       "19997    7.0   724 West Park    2112.0   NSW  Australia               11.0  \n",
       "19998   14.0  8 Becker Drive    4868.0   QLD  Australia                4.0  \n",
       "19999   14.0  8 Becker Drive    4868.0   QLD  Australia                4.0  \n",
       "\n",
       "[3 rows x 30 columns]"
      ]
     },
     "execution_count": 33,
     "metadata": {},
     "output_type": "execute_result"
    }
   ],
   "source": [
    "df_all.tail(3)"
   ]
  },
  {
   "cell_type": "code",
   "execution_count": 34,
   "id": "89a6b8c0",
   "metadata": {},
   "outputs": [
    {
     "name": "stdout",
     "output_type": "stream",
     "text": [
      "The table has 20000 rows and 30 columns.\n"
     ]
    }
   ],
   "source": [
    "print('The table has', df_all.shape[0], 'rows and', df_all.shape[1], 'columns.')"
   ]
  },
  {
   "cell_type": "code",
   "execution_count": 35,
   "id": "0259a048",
   "metadata": {},
   "outputs": [
    {
     "name": "stdout",
     "output_type": "stream",
     "text": [
      "<class 'pandas.core.frame.DataFrame'>\n",
      "Int64Index: 20000 entries, 0 to 19999\n",
      "Data columns (total 30 columns):\n",
      " #   Column                               Non-Null Count  Dtype         \n",
      "---  ------                               --------------  -----         \n",
      " 0   transaction_id                       20000 non-null  float64       \n",
      " 1   product_id                           20000 non-null  float64       \n",
      " 2   customer_id                          20000 non-null  int64         \n",
      " 3   transaction_date                     20000 non-null  datetime64[ns]\n",
      " 4   online_order                         19640 non-null  float64       \n",
      " 5   order_status                         20000 non-null  object        \n",
      " 6   brand                                19803 non-null  object        \n",
      " 7   product_line                         19803 non-null  object        \n",
      " 8   product_class                        19803 non-null  object        \n",
      " 9   product_size                         19803 non-null  object        \n",
      " 10  list_price                           20000 non-null  float64       \n",
      " 11  standard_cost                        19803 non-null  float64       \n",
      " 12  product_first_sold_date              19803 non-null  float64       \n",
      " 13  first_name                           19997 non-null  object        \n",
      " 14  last_name                            19355 non-null  object        \n",
      " 15  gender                               19997 non-null  object        \n",
      " 16  past_3_years_bike_related_purchases  19997 non-null  float64       \n",
      " 17  DOB                                  19551 non-null  datetime64[ns]\n",
      " 18  job_title                            17603 non-null  object        \n",
      " 19  job_industry_category                16768 non-null  object        \n",
      " 20  wealth_segment                       19997 non-null  object        \n",
      " 21  deceased_indicator                   19997 non-null  object        \n",
      " 22  default                              18546 non-null  object        \n",
      " 23  owns_car                             19997 non-null  object        \n",
      " 24  tenure                               19551 non-null  float64       \n",
      " 25  address                              19968 non-null  object        \n",
      " 26  postcode                             19968 non-null  float64       \n",
      " 27  state                                19968 non-null  object        \n",
      " 28  country                              19968 non-null  object        \n",
      " 29  property_valuation                   19968 non-null  float64       \n",
      "dtypes: datetime64[ns](2), float64(10), int64(1), object(17)\n",
      "memory usage: 4.7+ MB\n"
     ]
    }
   ],
   "source": [
    "df_all.info()"
   ]
  },
  {
   "cell_type": "code",
   "execution_count": 36,
   "id": "e1a17ceb",
   "metadata": {},
   "outputs": [
    {
     "data": {
      "text/html": [
       "<div>\n",
       "<style scoped>\n",
       "    .dataframe tbody tr th:only-of-type {\n",
       "        vertical-align: middle;\n",
       "    }\n",
       "\n",
       "    .dataframe tbody tr th {\n",
       "        vertical-align: top;\n",
       "    }\n",
       "\n",
       "    .dataframe thead th {\n",
       "        text-align: right;\n",
       "    }\n",
       "</style>\n",
       "<table border=\"1\" class=\"dataframe\">\n",
       "  <thead>\n",
       "    <tr style=\"text-align: right;\">\n",
       "      <th></th>\n",
       "      <th>transaction_id</th>\n",
       "      <th>product_id</th>\n",
       "      <th>customer_id</th>\n",
       "      <th>online_order</th>\n",
       "      <th>list_price</th>\n",
       "      <th>standard_cost</th>\n",
       "      <th>product_first_sold_date</th>\n",
       "      <th>past_3_years_bike_related_purchases</th>\n",
       "      <th>tenure</th>\n",
       "      <th>postcode</th>\n",
       "      <th>property_valuation</th>\n",
       "    </tr>\n",
       "  </thead>\n",
       "  <tbody>\n",
       "    <tr>\n",
       "      <th>count</th>\n",
       "      <td>20000.00</td>\n",
       "      <td>20000.00</td>\n",
       "      <td>20000.00</td>\n",
       "      <td>19640.00</td>\n",
       "      <td>20000.00</td>\n",
       "      <td>19803.00</td>\n",
       "      <td>19803.00</td>\n",
       "      <td>19997.00</td>\n",
       "      <td>19551.00</td>\n",
       "      <td>19968.00</td>\n",
       "      <td>19968.00</td>\n",
       "    </tr>\n",
       "    <tr>\n",
       "      <th>mean</th>\n",
       "      <td>10000.50</td>\n",
       "      <td>45.36</td>\n",
       "      <td>1738.25</td>\n",
       "      <td>0.50</td>\n",
       "      <td>1107.83</td>\n",
       "      <td>556.05</td>\n",
       "      <td>38199.78</td>\n",
       "      <td>48.77</td>\n",
       "      <td>10.68</td>\n",
       "      <td>2987.62</td>\n",
       "      <td>7.52</td>\n",
       "    </tr>\n",
       "    <tr>\n",
       "      <th>std</th>\n",
       "      <td>5773.65</td>\n",
       "      <td>30.75</td>\n",
       "      <td>1011.95</td>\n",
       "      <td>0.50</td>\n",
       "      <td>582.83</td>\n",
       "      <td>405.96</td>\n",
       "      <td>2875.20</td>\n",
       "      <td>28.60</td>\n",
       "      <td>5.68</td>\n",
       "      <td>851.31</td>\n",
       "      <td>2.82</td>\n",
       "    </tr>\n",
       "    <tr>\n",
       "      <th>min</th>\n",
       "      <td>1.00</td>\n",
       "      <td>0.00</td>\n",
       "      <td>1.00</td>\n",
       "      <td>0.00</td>\n",
       "      <td>12.01</td>\n",
       "      <td>7.21</td>\n",
       "      <td>33259.00</td>\n",
       "      <td>0.00</td>\n",
       "      <td>1.00</td>\n",
       "      <td>2000.00</td>\n",
       "      <td>1.00</td>\n",
       "    </tr>\n",
       "    <tr>\n",
       "      <th>25%</th>\n",
       "      <td>5000.75</td>\n",
       "      <td>18.00</td>\n",
       "      <td>857.75</td>\n",
       "      <td>0.00</td>\n",
       "      <td>575.27</td>\n",
       "      <td>215.14</td>\n",
       "      <td>35667.00</td>\n",
       "      <td>24.00</td>\n",
       "      <td>6.00</td>\n",
       "      <td>2200.00</td>\n",
       "      <td>6.00</td>\n",
       "    </tr>\n",
       "    <tr>\n",
       "      <th>50%</th>\n",
       "      <td>10000.50</td>\n",
       "      <td>44.00</td>\n",
       "      <td>1736.00</td>\n",
       "      <td>1.00</td>\n",
       "      <td>1163.89</td>\n",
       "      <td>507.58</td>\n",
       "      <td>38216.00</td>\n",
       "      <td>48.00</td>\n",
       "      <td>11.00</td>\n",
       "      <td>2767.00</td>\n",
       "      <td>8.00</td>\n",
       "    </tr>\n",
       "    <tr>\n",
       "      <th>75%</th>\n",
       "      <td>15000.25</td>\n",
       "      <td>72.00</td>\n",
       "      <td>2613.00</td>\n",
       "      <td>1.00</td>\n",
       "      <td>1635.30</td>\n",
       "      <td>795.10</td>\n",
       "      <td>40672.00</td>\n",
       "      <td>73.00</td>\n",
       "      <td>15.00</td>\n",
       "      <td>3754.00</td>\n",
       "      <td>10.00</td>\n",
       "    </tr>\n",
       "    <tr>\n",
       "      <th>max</th>\n",
       "      <td>20000.00</td>\n",
       "      <td>100.00</td>\n",
       "      <td>5034.00</td>\n",
       "      <td>1.00</td>\n",
       "      <td>2091.47</td>\n",
       "      <td>1759.85</td>\n",
       "      <td>42710.00</td>\n",
       "      <td>99.00</td>\n",
       "      <td>22.00</td>\n",
       "      <td>4883.00</td>\n",
       "      <td>12.00</td>\n",
       "    </tr>\n",
       "  </tbody>\n",
       "</table>\n",
       "</div>"
      ],
      "text/plain": [
       "      transaction_id product_id customer_id online_order list_price  \\\n",
       "count       20000.00   20000.00    20000.00     19640.00   20000.00   \n",
       "mean        10000.50      45.36     1738.25         0.50    1107.83   \n",
       "std          5773.65      30.75     1011.95         0.50     582.83   \n",
       "min             1.00       0.00        1.00         0.00      12.01   \n",
       "25%          5000.75      18.00      857.75         0.00     575.27   \n",
       "50%         10000.50      44.00     1736.00         1.00    1163.89   \n",
       "75%         15000.25      72.00     2613.00         1.00    1635.30   \n",
       "max         20000.00     100.00     5034.00         1.00    2091.47   \n",
       "\n",
       "      standard_cost product_first_sold_date  \\\n",
       "count      19803.00                19803.00   \n",
       "mean         556.05                38199.78   \n",
       "std          405.96                 2875.20   \n",
       "min            7.21                33259.00   \n",
       "25%          215.14                35667.00   \n",
       "50%          507.58                38216.00   \n",
       "75%          795.10                40672.00   \n",
       "max         1759.85                42710.00   \n",
       "\n",
       "      past_3_years_bike_related_purchases    tenure  postcode  \\\n",
       "count                            19997.00  19551.00  19968.00   \n",
       "mean                                48.77     10.68   2987.62   \n",
       "std                                 28.60      5.68    851.31   \n",
       "min                                  0.00      1.00   2000.00   \n",
       "25%                                 24.00      6.00   2200.00   \n",
       "50%                                 48.00     11.00   2767.00   \n",
       "75%                                 73.00     15.00   3754.00   \n",
       "max                                 99.00     22.00   4883.00   \n",
       "\n",
       "      property_valuation  \n",
       "count           19968.00  \n",
       "mean                7.52  \n",
       "std                 2.82  \n",
       "min                 1.00  \n",
       "25%                 6.00  \n",
       "50%                 8.00  \n",
       "75%                10.00  \n",
       "max                12.00  "
      ]
     },
     "execution_count": 36,
     "metadata": {},
     "output_type": "execute_result"
    }
   ],
   "source": [
    "df_all.describe().applymap(lambda x: f'{x:0.2f}')"
   ]
  },
  {
   "cell_type": "markdown",
   "id": "05593f27",
   "metadata": {},
   "source": [
    "### 2.4. Convert"
   ]
  },
  {
   "cell_type": "code",
   "execution_count": 91,
   "id": "15c136ff",
   "metadata": {},
   "outputs": [],
   "source": [
    "# Convert 'transaction_id', 'product_id', 'customer_id' into string\n",
    "df_all['transaction_id'] = df_all['transaction_id'].astype(str)\n",
    "df_all['product_id'] = df_all['product_id'].astype(str)\n",
    "df_all['customer_id'] = df_all['customer_id'].astype(str)\n",
    "df_all['postcode'] = df_all['postcode'].astype(str)"
   ]
  },
  {
   "cell_type": "code",
   "execution_count": 39,
   "id": "d4693a95",
   "metadata": {},
   "outputs": [
    {
     "data": {
      "text/plain": [
       "'transaction_date, online_order, list_price, standard_cost, product_first_sold_date, past_3_years_bike_related_purchases, DOB, tenure, postcode, property_valuation'"
      ]
     },
     "execution_count": 39,
     "metadata": {},
     "output_type": "execute_result"
    }
   ],
   "source": [
    "# Numerical columns\n",
    "number_vars = [f for f in df_all.columns if df_all.dtypes[f] != 'object']\n",
    "list_nums = ', '.join(number_vars)\n",
    "list_nums"
   ]
  },
  {
   "cell_type": "code",
   "execution_count": 40,
   "id": "742b68b5",
   "metadata": {},
   "outputs": [
    {
     "data": {
      "text/plain": [
       "'transaction_id, product_id, customer_id, order_status, brand, product_line, product_class, product_size, first_name, last_name, gender, job_title, job_industry_category, wealth_segment, deceased_indicator, default, owns_car, address, state, country'"
      ]
     },
     "execution_count": 40,
     "metadata": {},
     "output_type": "execute_result"
    }
   ],
   "source": [
    "# Categorical columns\n",
    "object_vars = [f for f in df_all.columns if df_all.dtypes[f] == 'object']\n",
    "list_objs = ', '.join(object_vars)\n",
    "list_objs"
   ]
  },
  {
   "cell_type": "code",
   "execution_count": 41,
   "id": "dce26b5e",
   "metadata": {},
   "outputs": [
    {
     "name": "stdout",
     "output_type": "stream",
     "text": [
      "1 / transaction_id \t 20000 : ['1.0' '11065.0' '18923.0' ... '18462.0' '17981.0' '18165.0']\n",
      "2 / product_id \t 101 : ['2.0' '1.0' '62.0' '3.0' '4.0' '91.0' '95.0' '38.0' '41.0' '10.0' '37.0'\n",
      " '47.0' '12.0' '61.0' '77.0' '88.0' '59.0' '98.0' '73.0' '71.0' '78.0'\n",
      " '54.0' '83.0' '40.0' '45.0' '22.0' '31.0' '39.0' '23.0' '25.0' '60.0'\n",
      " '53.0' '90.0' '16.0' '68.0' '29.0' '69.0' '28.0' '55.0' '15.0' '50.0'\n",
      " '0.0' '30.0' '99.0' '14.0' '5.0' '96.0' '67.0' '81.0' '21.0' '84.0' '8.0'\n",
      " '19.0' '79.0' '18.0' '6.0' '89.0' '56.0' '86.0' '42.0' '80.0' '51.0'\n",
      " '35.0' '11.0' '44.0' '32.0' '66.0' '57.0' '33.0' '26.0' '58.0' '48.0'\n",
      " '65.0' '74.0' '43.0' '27.0' '17.0' '64.0' '82.0' '34.0' '72.0' '7.0'\n",
      " '49.0' '36.0' '70.0' '76.0' '97.0' '92.0' '63.0' '46.0' '9.0' '93.0'\n",
      " '94.0' '20.0' '87.0' '13.0' '85.0' '100.0' '75.0' '52.0' '24.0']\n",
      "3 / customer_id \t 3494 : ['2950' '3120' '402' ... '130' '2789' '3446']\n",
      "4 / order_status \t 2 : ['Approved' 'Cancelled']\n",
      "5 / brand \t 7 : ['Solex' 'Giant Bicycles' 'Trek Bicycles' 'WeareA2B' 'OHM Cycles'\n",
      " 'Norco Bicycles' nan]\n",
      "6 / product_line \t 5 : ['Standard' 'Road' 'Touring' 'Mountain' nan]\n",
      "7 / product_class \t 4 : ['medium' 'high' 'low' nan]\n",
      "8 / product_size \t 4 : ['medium' 'large' 'small' nan]\n",
      "9 / first_name \t 2840 : ['Kristos' 'Lauree' 'Berne' ... 'Dave' 'Raddy' 'Violetta']\n",
      "10 / last_name \t 3268 : ['Anthony' \"O'Donnell\" 'Donegan' ... 'Delete' 'Bucksey' 'Tidy']\n",
      "11 / gender \t 7 : ['Male' 'Female' 'U' 'F' 'M' 'Femal' nan]\n",
      "12 / job_title \t 196 : ['Software Engineer I' 'Clinical Specialist' 'Desktop Support Technician'\n",
      " 'Staff Scientist' nan 'Web Designer II' 'Food Chemist' 'Quality Engineer'\n",
      " 'Executive Secretary' 'Product Engineer' 'Sales Representative'\n",
      " 'Research Assistant II' 'Registered Nurse' 'Staff Accountant II'\n",
      " 'Assistant Manager' 'Accountant IV' 'Pharmacist' 'Paralegal'\n",
      " 'Office Assistant III' 'VP Marketing' 'Analog Circuit Design manager'\n",
      " 'Help Desk Operator' 'Professor' 'Assistant Professor'\n",
      " 'Occupational Therapist' 'Statistician II' 'Technical Writer'\n",
      " 'Statistician IV' 'Software Engineer III' 'Statistician III'\n",
      " 'Safety Technician II' 'Assistant Media Planner'\n",
      " 'Structural Analysis Engineer' 'Administrative Officer'\n",
      " 'Marketing Assistant' 'Account Coordinator' 'Nuclear Power Engineer'\n",
      " 'Accounting Assistant III' 'General Manager' 'Legal Assistant'\n",
      " 'Business Systems Development Analyst' 'Associate Professor'\n",
      " 'Junior Executive' 'Internal Auditor' 'Safety Technician III'\n",
      " 'Computer Systems Analyst IV' 'Account Executive' 'VP Product Management'\n",
      " 'Nurse' 'Community Outreach Specialist' 'Analyst Programmer'\n",
      " 'Administrative Assistant IV' 'Cost Accountant'\n",
      " 'Quality Control Specialist' 'Environmental Specialist'\n",
      " 'Geological Engineer' 'Accounting Assistant I' 'Accountant III'\n",
      " 'GIS Technical Architect' 'Payment Adjustment Coordinator'\n",
      " 'Recruiting Manager' 'Environmental Tech' 'Staff Accountant III'\n",
      " 'Sales Associate' 'Programmer Analyst I' 'Health Coach IV'\n",
      " 'Social Worker' 'Financial Advisor' 'Financial Analyst'\n",
      " 'Speech Pathologist' 'Civil Engineer' 'Information Systems Manager'\n",
      " 'Operator' 'Accounting Assistant II' 'Engineer I'\n",
      " 'Computer Systems Analyst I' 'Editor' 'Budget/Accounting Analyst I'\n",
      " 'Programmer Analyst III' 'Programmer Analyst IV'\n",
      " 'Account Representative IV' 'Research Nurse' 'Teacher'\n",
      " 'Physical Therapy Assistant' 'Structural Engineer'\n",
      " 'Chief Design Engineer' 'Accountant II' 'Geologist III' 'Senior Editor'\n",
      " 'Project Manager' 'Programmer I' 'Systems Administrator III'\n",
      " 'Senior Developer' 'Database Administrator IV' 'Automation Specialist I'\n",
      " 'Geologist I' 'Data Coordiator' 'Budget/Accounting Analyst IV'\n",
      " 'Electrical Engineer' 'Research Associate' 'Director of Sales'\n",
      " 'Senior Financial Analyst' 'Design Engineer' 'Nurse Practicioner'\n",
      " 'Software Engineer II' 'Actuary' 'Graphic Designer' 'VP Accounting'\n",
      " 'VP Quality Control' 'Chemical Engineer' 'Dental Hygienist'\n",
      " 'Compensation Analyst' 'Web Developer III' 'Media Manager III' 'VP Sales'\n",
      " 'Developer II' 'Programmer Analyst II' 'Software Test Engineer III'\n",
      " 'Web Developer IV' 'Engineer IV' 'Mechanical Systems Engineer'\n",
      " 'Software Test Engineer II' 'Web Developer I' 'Help Desk Technician'\n",
      " 'Office Assistant IV' 'Engineer II' 'Librarian' 'Health Coach II'\n",
      " 'Office Assistant II' 'Software Consultant' 'Database Administrator III'\n",
      " 'Automation Specialist II' 'Web Designer III' 'Senior Quality Engineer'\n",
      " 'Software Test Engineer I' 'Systems Administrator IV' 'Statistician I'\n",
      " 'Tax Accountant' 'Research Assistant IV' 'Account Representative II'\n",
      " 'Staff Accountant I' 'Recruiter' 'Computer Systems Analyst II'\n",
      " 'Senior Sales Associate' 'Human Resources Assistant III'\n",
      " 'Administrative Assistant III' 'Programmer II' 'Software Engineer IV'\n",
      " 'Human Resources Assistant II' 'Developer IV' 'Human Resources Manager'\n",
      " 'Web Developer II' 'Marketing Manager' 'Database Administrator I'\n",
      " 'Web Designer I' 'Developer III' 'Account Representative III'\n",
      " 'Accountant I' 'Database Administrator II' 'Research Assistant I'\n",
      " 'Software Test Engineer IV' 'Geologist IV' 'Media Manager II'\n",
      " 'Automation Specialist III' 'Budget/Accounting Analyst III'\n",
      " 'Senior Cost Accountant' 'Biostatistician II' 'Safety Technician IV'\n",
      " 'Web Designer IV' 'Biostatistician I' 'Health Coach I'\n",
      " 'Human Resources Assistant I' 'Health Coach III' 'Engineer III'\n",
      " 'Administrative Assistant I' 'Systems Administrator I'\n",
      " 'Biostatistician IV' 'Systems Administrator II'\n",
      " 'Budget/Accounting Analyst II' 'Safety Technician I'\n",
      " 'Accounting Assistant IV' 'Media Manager IV' 'Programmer III'\n",
      " 'Staff Accountant IV' 'Account Representative I' 'Media Manager I'\n",
      " 'Geologist II' 'Human Resources Assistant IV' 'Biostatistician III'\n",
      " 'Administrative Assistant II' 'Programmer IV'\n",
      " 'Computer Systems Analyst III' 'Office Assistant I'\n",
      " 'Automation Specialist IV' 'Research Assistant III' 'Developer I']\n",
      "13 / job_industry_category \t 10 : ['Financial Services' 'Health' 'Retail' 'Property' 'Manufacturing'\n",
      " 'Entertainment' 'IT' nan 'Argiculture' 'Telecommunications']\n",
      "14 / wealth_segment \t 4 : ['Mass Customer' 'Affluent Customer' 'High Net Worth' nan]\n",
      "15 / deceased_indicator \t 3 : ['N' 'Y' nan]\n",
      "16 / default \t 91 : ['ã»(ï¿£âï¿£)ã»:*:' 'ZÌ®ÌÍÌ\\xa0ÍÍAÌ¥ÌÌÍÌ»ÌLÌ£ÍÍÌ¯Ì¹ÌÍGÌ»OÌ\\xadÌÌ®'\n",
      " 'testâ\\xa0testâ«' 'â°â´âµâââ'\n",
      " 'Ì¡ÍÍÌIÍÌÌÌ¦nÍÍÍvÌ®Ì«okÌ²Ì«ÌÍiÌÍÌ\\xadÌ¹Ì\\xa0ÌnÌ¡Ì»Ì®Ì£ÌºgÌ²ÍÍÌ\\xadÍÌ¬Í Ì°tÍÌ¦hÌÌ²eÌ¢Ì¤ ÍÌ¬Ì²ÍfÌ´ÌÍÌ£eÍÍeÌ£Ì¥Ì©lÍÍÍiÍ\\xa0ÍÍÌ¦nÍÍÌÍÌ³Ì®gÍ Ì¨oÍ¡ÍÌªfÌÌ£Ì¬ ÌÌÍÌÍÌ®cÒÍÌ«ÍÍÍÍÍhÌµÌ¤Ì£ÍÍaÍÌÌ¼ÍÍoÌ¼Ì£Ì¥sÍ¢Ì±ÍÌºÌÌ¦Ì».ÌÌ'\n",
      " 'á' 'Ù¡Ù¢Ù£' nan '1/0' '\\'\"\\'\\'\\'\\'\"' datetime.datetime(2018, 2, 1, 0, 0)\n",
      " '\"\\'' '(ï½¡â â âï½¡)' 'ï½ï½¨(Â´âï½â©' 'â°â´âµ' 100 'á\\xa0' 'é¨è½æ\\xa0¼'\n",
      " 'ð¾ ð ð ð ð ð ð ð§' 'ãã¼ãã£ã¼ã¸è¡ããªãã' '(ï¾à²¥çà²¥ï¼ï¾ï»¿ â»ââ»' 'â¢'\n",
      " -100 \"'\" '\\'\\'\\'\\'\"' 'â©testâ©'\n",
      " '() { 0; }; touch /tmp/blns.shellshock1.fail;' 'ðµ ð ð ð'\n",
      " 'TÌÌ\\xadÌºÌºoÍ Ì·iÌ²Ì¬ÍÌªÍnÌÌÍvÍÌÌÌÌ¦oÌ¶ÌÌ°Ì\\xa0keÍÍÌ®ÌºÌªÌ¹Ì±Ì¤ ÌtÍÌÍÌ³Ì£Ì»ÌªhÌ¼ÍÌ²Ì¦Ì³ÌÌ²eÍÌ£Ì°Ì¦Ì¬Í Ì¢Ì¼Ì»Ì±ÌhÍÍÍÍÌÌ£Ì²iÌ¦Ì²Ì£Ì°Ì¤vÌ»ÍeÌºÌ\\xadÌ³ÌªÌ°-mÌ¢iÍnÌÌºÌÌ²Ì¯Ì°dÌµÌ¼ÌÍÌ©Ì¼ÌÌ³ ÌÌ¥Ì±Ì³Ì\\xadrÌÌÌeÍpÍ\\xa0rÌ¼ÌÌ»Ì\\xadÌeÍÌºÌ\\xa0Ì£sÌ'\n",
      " 'Ì¦HÍÌ¬Ì¤ÌÌ¤eÍ ÍÌÌ¥ÌÌ»ÍÌwÌhÌÌ¯ÍoÌÍÌÍÌ±Ì® ÒÌºÌÌÌÍWÌ·Ì¼Ì\\xadaÌºÌªÍiÌ¨ÍÍÌ\\xadÍÌ¯ÌtÌ¶Ì¼Ì®sÌÌÍÍ Ì\\xa0Ì«Ì\\xa0BÌ»ÍÍÍÍÌ³eÌµhÌµÌ¬ÍÌ«ÍiÌÌ¹ÍÌ³Ì³Ì®ÍÌ«nÍdÌ´ÌªÌÌ ÍÌ°ÍÌ©ÍÍÍÌ²TÍ¢ÍÌ¼ÍÌªhÍÍÌ®Ì»eÌ¬ÌÍÌ Ì¤Ì¹ÌWÍÍÍÌÌÍÍaÍÍÍÌ¹Ì¼'\n",
      " -1 'ð©ð½' '__ï¾(,_,*)' 'ï»¿'\n",
      " 1000000000000000049861653971908893017010268485438462151574892930611988399099305815384459015356416\n",
      " 'âð¿ ðªð¿ ðð¿ ðð¿ ðð¿ ðð¿' '/dev/null; touch /tmp/blns.fail ; echo'\n",
      " 'Î©âÃ§ââ«ËÂµâ¤â¥Ã·' 'ï¼ï¼ï¼' '(â¯Â°â¡Â°ï¼â¯ï¸µ â»ââ»)' '0/0'\n",
      " ',ãã»:*:ã»ãâ( â» Ï â» )ãã»:*:ã»ãâ'\n",
      " '×Ö¼Ö°×¨Öµ××©×Ö´××ª, ×Ö¼Ö¸×¨Ö¸× ×Ö±×Ö¹×Ö´××, ×Öµ×ª ×Ö·×©Ö¼×Ö¸×Ö·×Ö´×, ×Ö°×Öµ×ª ×Ö¸×Ö¸×¨Ö¶×¥'\n",
      " '../../../../../../../../../../../etc/passwd%00' 'âââ'\n",
      " '×Ö¸×Ö°×ªÖ¸×testØ§ÙØµÙØ\\xadØ§Øª Ø§ÙØªÙØ\\xadÙÙ'\n",
      " \"ËÉnbá´lÉ ÉuÆÉÉ¯ ÇÉ¹olop ÊÇ ÇÉ¹oqÉl Ên Êunpá´pá´Éuá´ É¹odÉ¯ÇÊ poÉ¯sná´Ç op pÇs 'Êá´lÇ Æuá´Ésá´dá´pÉ É¹nÊÇÊÉÇsuoÉ 'ÊÇÉ¯É Êá´s É¹olop É¯nsdá´ É¯ÇÉ¹oË¥\"\n",
      " \",./;'[]\\\\-=\" '00ËÆ$-' \"1'; DROP TABLE users--\" 'Â¸ËÃâÄ±ËÃÂ¯ËÂ¿'\n",
      " 'ð\\xa0ð\\xa0±ð\\xa0¹ð\\xa0±ð\\xa0±¸ð\\xa0²ð\\xa0³'\n",
      " '() { _; } >_[$($())] { touch /tmp/blns.shellshock2.fail; }'\n",
      " 'ÅâÂ´Â®â\\xa0Â¥Â¨ËÃ¸Ïââ' 'ã½à¼¼àºÙÍàºà¼½ï¾ ã½à¼¼àºÙÍàºà¼½ï¾'\n",
      " 'â¤ï¸ ð ð ð ð ð ð ð ð ð ð ð ð ð ð' 'â¦testâ§' -0.5\n",
      " '0ï¸â£ 1ï¸â£ 2ï¸â£ 3ï¸â£ 4ï¸â£ 5ï¸â£ 6ï¸â£ 7ï¸â£ 8ï¸â£ 9ï¸â£ ð'\n",
      " \"<svg><script>0<1>alert('XSS')</script>\"\n",
      " 'ÌÌºÍÌ¹Ì¯ÍTÌ±Ì¤ÍÌ¥ÍÍhÍÌ²eÍÍÌ¼ÌÌÌ¼Ì£Í ÍÌÌ±Ì\\xa0ÍÍÍNÍ\\xa0ÍeÌÌ±zÌÌÌÌºÍpÌ¤ÌºÌ¹ÍÌ¯ÍeÍÌ\\xa0Ì»Ì\\xa0rÌ¨Ì¤ÍÌºÌÍÌÌdÍÌ\\xa0ÌÌ\\xadÌ¬ÌiÌ¦ÍÌ©ÍÍÌ¤aÌ\\xa0ÌÌ¬ÍÌnÍÍ Ì»ÌÌ°ÍÍhÌµÍiÌ³ÌvÌ¢ÍeÍÌ\\xadÍ-ÒÌ\\xadÌ©Ì¼ÍmÌ¤Ì\\xadÌ«iÍÍÌÌ¦nÌÍdÌ£Ì ÍÌ¯Ì²ÍoÌ¨ÌÌ¯Ì°Ì²'\n",
      " 'Â¡â¢Â£Â¢âÂ§Â¶â¢ÂªÂºââ\\xa0' \"<img src=x onerror=alert('hi') />\" 1\n",
      " 'ï¾ï½¥â¿ã¾â²(ï½¡ââ¿âï½¡)â±â¿ï½¥ï¾' 0 'â«testâ«' 'ã'\n",
      " 'ç¤¾æç§å\\xad¸é¢èªå\\xad¸ç\\xa0ç©¶æ'\n",
      " '../../../../../../../../../../../etc/hosts' '<>?:\"{}|_+' 'â' 'åè£½æ¼¢èª'\n",
      " 'ÅâÂ´â°ËÃÂ¨ËÃâââ' 'ð' 'âªâªtestâª' 'ç°ä¸\\xadããã«ããã¦ä¸ãã'\n",
      " 'ì¬íê³¼íì ì´íì°êµ¬ì' 'Ã¥ÃâÆÂ©ËâËÂ¬â¦Ã¦' 'â£' '`ââ¬â¹âºï¬ï¬â¡Â°Â·ââÂ±'\n",
      " '1;DROP TABLE users' '!@#$%^&*()' 'â¡'\n",
      " 'Ø«Ù ÙÙØ³ Ø³ÙØ·Øª ÙØ¨Ø§ÙØªØ\\xadØ¯ÙØ¯Ø, Ø¬Ø²ÙØ±ØªÙ Ø¨Ø§Ø³ØªØ®Ø¯Ø§Ù Ø£Ù Ø¯ÙÙ. Ø¥Ø° ÙÙØ§Ø Ø§ÙØ³ØªØ§Ø± ÙØªÙØµÙØ¨ ÙØ§Ù. Ø£ÙÙÙ Ø§ÙØ·Ø§ÙÙØ§Ø Ø¨Ø±ÙØ·Ø§ÙÙØ§-ÙØ±ÙØ³Ø§ ÙØ¯ Ø£Ø®Ø°. Ø³ÙÙÙØ§ÙØ Ø¥ØªÙØ§ÙÙØ© Ø¨ÙÙ ÙØ§, ÙØ°ÙØ± Ø'\n",
      " 'ÃÃÃÃËÃÃï£¿ÃÃÃâ' 'nil' 'NIL' 'ð¾ ð ð ð ð ð ð ð'\n",
      " \"<script>alert('hi')</script>\" 'ì¸ëë°í\\xa0ë¥´']\n",
      "17 / owns_car \t 3 : ['Yes' 'No' nan]\n",
      "18 / address \t 3488 : ['984 Hoepker Court' '4 Shopko Circle' '586 Miller Parkway' ...\n",
      " '58 Helena Hill' '724 West Park' '8 Becker Drive']\n",
      "19 / state \t 6 : ['VIC' 'NSW' 'QLD' 'Victoria' 'New South Wales' nan]\n",
      "20 / country \t 2 : ['Australia' nan]\n"
     ]
    }
   ],
   "source": [
    "# Components in categorical columns\n",
    "i = 1\n",
    "for ob in object_vars:\n",
    " print(i, '/', ob, '\\t',len(df_all[ob].unique()),':', df_all[ob].unique())\n",
    " i = i+1"
   ]
  },
  {
   "cell_type": "markdown",
   "id": "6a48ac67",
   "metadata": {},
   "source": [
    "**Categorical variables** include: 'order_status', 'brand', 'product_line', 'product_class', 'product_size', 'gender', 'job_industry_category', 'wealth_segment', 'deceased_indicator', 'owns_car', 'state', 'country'"
   ]
  },
  {
   "cell_type": "markdown",
   "id": "e93c7c08",
   "metadata": {},
   "source": [
    "## 3. ANALYZE"
   ]
  },
  {
   "cell_type": "markdown",
   "id": "4db03c9c",
   "metadata": {},
   "source": [
    "_Analyzing variables based on NewCustomerList table_"
   ]
  },
  {
   "cell_type": "markdown",
   "id": "0852f9e2",
   "metadata": {},
   "source": [
    "### 3.1. 'order_status'"
   ]
  },
  {
   "cell_type": "code",
   "execution_count": 62,
   "id": "39dc225d",
   "metadata": {},
   "outputs": [
    {
     "data": {
      "text/plain": [
       "order_status\n",
       "Approved     19821\n",
       "Cancelled      179\n",
       "Name: order_status, dtype: int64"
      ]
     },
     "execution_count": 62,
     "metadata": {},
     "output_type": "execute_result"
    }
   ],
   "source": [
    "df_all_status = df_all.groupby(['order_status']).order_status.count()\n",
    "df_all_status"
   ]
  },
  {
   "cell_type": "code",
   "execution_count": 63,
   "id": "38b17de1",
   "metadata": {},
   "outputs": [
    {
     "data": {
      "image/png": "[encoded data removed]",
      "text/plain": [
       "<Figure size 432x288 with 1 Axes>"
      ]
     },
     "metadata": {
      "needs_background": "light"
     },
     "output_type": "display_data"
    }
   ],
   "source": [
    "plt.figure(figsize=(6,4))\n",
    "df_all_status.plot.bar(color=['coral', 'sienna'], title='Approved Vs. Cancelled')\n",
    "plt.xlabel('Order Status')\n",
    "plt.ylabel('Count');"
   ]
  },
  {
   "cell_type": "markdown",
   "id": "3ddec2ec",
   "metadata": {},
   "source": [
    "- Number of approved status is much greater than cancelled status"
   ]
  },
  {
   "cell_type": "markdown",
   "id": "bd8b8865",
   "metadata": {},
   "source": [
    "### 3.2. 'brand'"
   ]
  },
  {
   "cell_type": "code",
   "execution_count": 64,
   "id": "9efc62dc",
   "metadata": {},
   "outputs": [
    {
     "data": {
      "text/plain": [
       "brand\n",
       "Norco Bicycles    2910\n",
       "Trek Bicycles     2990\n",
       "OHM Cycles        3043\n",
       "WeareA2B          3295\n",
       "Giant Bicycles    3312\n",
       "Solex             4253\n",
       "Name: brand, dtype: int64"
      ]
     },
     "execution_count": 64,
     "metadata": {},
     "output_type": "execute_result"
    }
   ],
   "source": [
    "df_all_brand = df_all.groupby(['brand']).brand.count().sort_values()\n",
    "df_all_brand"
   ]
  },
  {
   "cell_type": "code",
   "execution_count": 65,
   "id": "ebef016f",
   "metadata": {},
   "outputs": [
    {
     "data": {
      "image/png": "[encoded data removed]",
      "text/plain": [
       "<Figure size 432x288 with 1 Axes>"
      ]
     },
     "metadata": {
      "needs_background": "light"
     },
     "output_type": "display_data"
    }
   ],
   "source": [
    "plt.figure(figsize=(6,4))\n",
    "df_all_brand.plot.bar(color=['coral', 'sienna'], title='Comparasion of Brands')\n",
    "plt.xlabel('Brands')\n",
    "plt.ylabel('Count');"
   ]
  },
  {
   "cell_type": "markdown",
   "id": "925e30e8",
   "metadata": {},
   "source": [
    "- Solex has highest number of customers (4253)\n",
    "- Norco Bicycles has smallest number of customers (2910)"
   ]
  },
  {
   "cell_type": "markdown",
   "id": "09d28a4f",
   "metadata": {},
   "source": [
    "### 3.3. 'gender'"
   ]
  },
  {
   "cell_type": "code",
   "execution_count": 72,
   "id": "630bddd3",
   "metadata": {},
   "outputs": [
    {
     "data": {
      "text/plain": [
       "array(['Male', 'Female', 'U', 'F', 'M', 'Femal', nan], dtype=object)"
      ]
     },
     "execution_count": 72,
     "metadata": {},
     "output_type": "execute_result"
    }
   ],
   "source": [
    "df_all['gender'].unique()"
   ]
  },
  {
   "cell_type": "markdown",
   "id": "d386cd9a",
   "metadata": {},
   "source": [
    "**Transform 'M' to 'Male'; 'Femal' and 'F' to 'Female'**"
   ]
  },
  {
   "cell_type": "code",
   "execution_count": 77,
   "id": "42960517",
   "metadata": {},
   "outputs": [],
   "source": [
    "df_all['gender'] = df_all['gender'].replace('M', 'Male')\n",
    "df_all['gender'] = df_all['gender'].replace('F', 'Female')\n",
    "df_all['gender'] = df_all['gender'].replace('Femal', 'Female')"
   ]
  },
  {
   "cell_type": "code",
   "execution_count": 78,
   "id": "9e3c7cdb",
   "metadata": {},
   "outputs": [
    {
     "data": {
      "text/plain": [
       "gender\n",
       "U           455\n",
       "Male       9531\n",
       "Female    10011\n",
       "Name: gender, dtype: int64"
      ]
     },
     "execution_count": 78,
     "metadata": {},
     "output_type": "execute_result"
    }
   ],
   "source": [
    "df_all_gen = df_all.groupby(['gender']).gender.count().sort_values()\n",
    "df_all_gen"
   ]
  },
  {
   "cell_type": "code",
   "execution_count": 79,
   "id": "d8d0524e",
   "metadata": {},
   "outputs": [
    {
     "data": {
      "image/png": "[encoded data removed]",
      "text/plain": [
       "<Figure size 432x288 with 1 Axes>"
      ]
     },
     "metadata": {
      "needs_background": "light"
     },
     "output_type": "display_data"
    }
   ],
   "source": [
    "plt.figure(figsize=(6,4))\n",
    "df_all_gen.plot.bar(color=['coral', 'sienna'], title='Comparison of Gender')\n",
    "plt.xlabel('Gender')\n",
    "plt.ylabel('Count');"
   ]
  },
  {
   "cell_type": "markdown",
   "id": "4d99a436",
   "metadata": {},
   "source": [
    "- Gender records where ‘U’ have been replaced based on the distribution from the training dataset\n",
    "- Male and Female have similar number of customers"
   ]
  },
  {
   "cell_type": "markdown",
   "id": "0094fe20",
   "metadata": {},
   "source": [
    "### 3.4. 'job_industry_category'"
   ]
  },
  {
   "cell_type": "code",
   "execution_count": 80,
   "id": "24011b69",
   "metadata": {},
   "outputs": [
    {
     "data": {
      "text/plain": [
       "job_industry_category\n",
       "Telecommunications     354\n",
       "Argiculture            578\n",
       "Entertainment          698\n",
       "IT                    1084\n",
       "Property              1297\n",
       "Retail                1758\n",
       "Health                3099\n",
       "Financial Services    3886\n",
       "Manufacturing         4014\n",
       "Name: job_industry_category, dtype: int64"
      ]
     },
     "execution_count": 80,
     "metadata": {},
     "output_type": "execute_result"
    }
   ],
   "source": [
    "df_all_jobcate = df_all.groupby(['job_industry_category']).job_industry_category.count().sort_values()\n",
    "df_all_jobcate"
   ]
  },
  {
   "cell_type": "code",
   "execution_count": 81,
   "id": "c4d47cf9",
   "metadata": {},
   "outputs": [
    {
     "data": {
      "image/png": "[encoded data removed]",
      "text/plain": [
       "<Figure size 432x288 with 1 Axes>"
      ]
     },
     "metadata": {
      "needs_background": "light"
     },
     "output_type": "display_data"
    }
   ],
   "source": [
    "plt.figure(figsize=(6,4))\n",
    "df_all_jobcate.plot.bar(color=['coral', 'sienna'], title='Comparasion of Job Industry Categories')\n",
    "plt.xlabel('Categories')\n",
    "plt.ylabel('Count');"
   ]
  },
  {
   "cell_type": "markdown",
   "id": "c9962ff3",
   "metadata": {},
   "source": [
    "- There are lots of customers are working at Financial Services and Manufacturing."
   ]
  },
  {
   "cell_type": "markdown",
   "id": "54a859e2",
   "metadata": {},
   "source": [
    "### 3.5. 'wealth_segment'"
   ]
  },
  {
   "cell_type": "code",
   "execution_count": 82,
   "id": "9fea8df4",
   "metadata": {},
   "outputs": [
    {
     "data": {
      "text/plain": [
       "wealth_segment\n",
       "Affluent Customer     4858\n",
       "High Net Worth        5088\n",
       "Mass Customer        10051\n",
       "Name: wealth_segment, dtype: int64"
      ]
     },
     "execution_count": 82,
     "metadata": {},
     "output_type": "execute_result"
    }
   ],
   "source": [
    "df_all_wealthseg = df_all.groupby(['wealth_segment']).wealth_segment.count().sort_values()\n",
    "df_all_wealthseg"
   ]
  },
  {
   "cell_type": "code",
   "execution_count": 83,
   "id": "dc3d1f47",
   "metadata": {},
   "outputs": [
    {
     "data": {
      "image/png": "[encoded data removed]",
      "text/plain": [
       "<Figure size 432x288 with 1 Axes>"
      ]
     },
     "metadata": {
      "needs_background": "light"
     },
     "output_type": "display_data"
    }
   ],
   "source": [
    "plt.figure(figsize=(6,4))\n",
    "df_all_wealthseg.plot.bar(color=['coral', 'sienna'], title='Comparasion of Wealth Segments')\n",
    "plt.xlabel('Segments')\n",
    "plt.ylabel('Count');"
   ]
  },
  {
   "cell_type": "markdown",
   "id": "d776125c",
   "metadata": {},
   "source": [
    "- Mass Customer is the highest"
   ]
  },
  {
   "cell_type": "markdown",
   "id": "6e22969a",
   "metadata": {},
   "source": [
    "### 3.6. 'deceased_indicator'"
   ]
  },
  {
   "cell_type": "code",
   "execution_count": 84,
   "id": "bb121e07",
   "metadata": {},
   "outputs": [
    {
     "data": {
      "text/plain": [
       "deceased_indicator\n",
       "Y        8\n",
       "N    19989\n",
       "Name: deceased_indicator, dtype: int64"
      ]
     },
     "execution_count": 84,
     "metadata": {},
     "output_type": "execute_result"
    }
   ],
   "source": [
    "df_all_decind = df_all.groupby(['deceased_indicator']).deceased_indicator.count().sort_values()\n",
    "df_all_decind"
   ]
  },
  {
   "cell_type": "code",
   "execution_count": 85,
   "id": "803feafa",
   "metadata": {},
   "outputs": [
    {
     "data": {
      "image/png": "[encoded data removed]",
      "text/plain": [
       "<Figure size 432x288 with 1 Axes>"
      ]
     },
     "metadata": {
      "needs_background": "light"
     },
     "output_type": "display_data"
    }
   ],
   "source": [
    "plt.figure(figsize=(6,4))\n",
    "df_all_decind.plot.bar(color=['coral', 'sienna'], title='Deceased Indicator')\n",
    "plt.xlabel('Yes/No')\n",
    "plt.ylabel('Count');"
   ]
  },
  {
   "cell_type": "markdown",
   "id": "1409c428",
   "metadata": {},
   "source": [
    "### 3.7. 'owns_car'"
   ]
  },
  {
   "cell_type": "code",
   "execution_count": 86,
   "id": "d4a5db8c",
   "metadata": {},
   "outputs": [
    {
     "data": {
      "text/plain": [
       "owns_car\n",
       "No      9934\n",
       "Yes    10063\n",
       "Name: owns_car, dtype: int64"
      ]
     },
     "execution_count": 86,
     "metadata": {},
     "output_type": "execute_result"
    }
   ],
   "source": [
    "df_all_own = df_all.groupby(['owns_car']).owns_car.count().sort_values()\n",
    "df_all_own"
   ]
  },
  {
   "cell_type": "code",
   "execution_count": 87,
   "id": "5f6330e1",
   "metadata": {},
   "outputs": [
    {
     "data": {
      "image/png": "[encoded data removed]",
      "text/plain": [
       "<Figure size 432x288 with 1 Axes>"
      ]
     },
     "metadata": {
      "needs_background": "light"
     },
     "output_type": "display_data"
    }
   ],
   "source": [
    "plt.figure(figsize=(6,4))\n",
    "df_all_own.plot.bar(color=['coral', 'sienna'], title='Customer Owns Car')\n",
    "plt.xlabel('Yes/No')\n",
    "plt.ylabel('Count');"
   ]
  },
  {
   "cell_type": "markdown",
   "id": "d4f9a915",
   "metadata": {},
   "source": [
    "### 3.8. 'state'"
   ]
  },
  {
   "cell_type": "code",
   "execution_count": 88,
   "id": "98b6fa9c",
   "metadata": {},
   "outputs": [
    {
     "data": {
      "text/plain": [
       "state\n",
       "Victoria             480\n",
       "New South Wales      485\n",
       "QLD                 4262\n",
       "VIC                 4541\n",
       "NSW                10200\n",
       "Name: state, dtype: int64"
      ]
     },
     "execution_count": 88,
     "metadata": {},
     "output_type": "execute_result"
    }
   ],
   "source": [
    "df_all_state = df_all.groupby(['state']).state.count().sort_values()\n",
    "df_all_state"
   ]
  },
  {
   "cell_type": "code",
   "execution_count": 89,
   "id": "702f48ce",
   "metadata": {},
   "outputs": [
    {
     "data": {
      "image/png": "[encoded data removed]",
      "text/plain": [
       "<Figure size 432x288 with 1 Axes>"
      ]
     },
     "metadata": {
      "needs_background": "light"
     },
     "output_type": "display_data"
    }
   ],
   "source": [
    "plt.figure(figsize=(6,4))\n",
    "df_all_state.plot.bar(color=['coral', 'sienna'], title='Comparasion of States')\n",
    "plt.xlabel('States')\n",
    "plt.ylabel('Count');"
   ]
  },
  {
   "cell_type": "markdown",
   "id": "1e28793c",
   "metadata": {},
   "source": [
    "'transaction_date, online_order, list_price, standard_cost, product_first_sold_date, past_3_years_bike_related_purchases, DOB, tenure, postcode, property_valuation'"
   ]
  },
  {
   "cell_type": "markdown",
   "id": "aefaf3ab",
   "metadata": {},
   "source": [
    "### 3.10. 'postcode'"
   ]
  },
  {
   "cell_type": "code",
   "execution_count": 92,
   "id": "e009b2d9",
   "metadata": {},
   "outputs": [
    {
     "data": {
      "text/plain": [
       "postcode\n",
       "2850.0      1\n",
       "3194.0      1\n",
       "3818.0      1\n",
       "3616.0      1\n",
       "4159.0      1\n",
       "         ... \n",
       "3977.0    128\n",
       "2155.0    136\n",
       "2170.0    140\n",
       "2770.0    146\n",
       "2153.0    169\n",
       "Name: postcode, Length: 836, dtype: int64"
      ]
     },
     "execution_count": 92,
     "metadata": {},
     "output_type": "execute_result"
    }
   ],
   "source": [
    "df_all_pcode = df_all.groupby(['postcode']).postcode.count().sort_values()\n",
    "df_all_pcode"
   ]
  },
  {
   "cell_type": "code",
   "execution_count": null,
   "id": "69847ed0",
   "metadata": {},
   "outputs": [],
   "source": [
    "plt.figure(figsize=(6,4))\n",
    "df_all_brand.plot.bar(color=['coral', 'sienna'], title='Comparasion of Brands')\n",
    "plt.xlabel('Brands')\n",
    "plt.ylabel('Count');"
   ]
  },
  {
   "cell_type": "markdown",
   "id": "4cce42e7",
   "metadata": {},
   "source": []
  },
  {
   "cell_type": "markdown",
   "id": "aeb8296e",
   "metadata": {},
   "source": [
    "### 3.11. 'DOB'"
   ]
  },
  {
   "cell_type": "markdown",
   "id": "024bd0c1",
   "metadata": {},
   "source": [
    "### 3.12. 'tenure'"
   ]
  },
  {
   "cell_type": "markdown",
   "id": "f901ccf0",
   "metadata": {},
   "source": [
    "### 3.13. 'past_3_years_bike_related_purchases'"
   ]
  },
  {
   "cell_type": "markdown",
   "id": "72abe7d2",
   "metadata": {},
   "source": [
    "### 3.14. 'property_valuation'"
   ]
  }
 ],
 "metadata": {
  "kernelspec": {
   "display_name": "Python 3",
   "language": "python",
   "name": "python3"
  },
  "language_info": {
   "codemirror_mode": {
    "name": "ipython",
    "version": 3
   },
   "file_extension": ".py",
   "mimetype": "text/x-python",
   "name": "python",
   "nbconvert_exporter": "python",
   "pygments_lexer": "ipython3",
   "version": "3.6.8"
  }
 },
 "nbformat": 4,
 "nbformat_minor": 5
}

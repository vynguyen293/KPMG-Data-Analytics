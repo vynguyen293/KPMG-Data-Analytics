{
 "cells": [
  {
   "cell_type": "code",
   "execution_count": 1,
   "id": "6382d7ff",
   "metadata": {},
   "outputs": [],
   "source": [
    "import pandas as pd\n",
    "import numpy as np\n",
    "import seaborn as sns\n",
    "import matplotlib.pyplot as plt\n",
    "from datetime import datetime, date\n",
    "\n",
    "import warnings\n",
    "warnings.filterwarnings('ignore')"
   ]
  },
  {
   "cell_type": "markdown",
   "id": "fe4d6e40",
   "metadata": {},
   "source": [
    "## 1. PREPARE DATA"
   ]
  },
  {
   "cell_type": "markdown",
   "id": "703a1463",
   "metadata": {},
   "source": [
    "### 1.1. Read CustomerDemographic Table"
   ]
  },
  {
   "cell_type": "code",
   "execution_count": 2,
   "id": "c0beb918",
   "metadata": {},
   "outputs": [
    {
     "data": {
      "text/html": [
       "<div>\n",
       "<style scoped>\n",
       "    .dataframe tbody tr th:only-of-type {\n",
       "        vertical-align: middle;\n",
       "    }\n",
       "\n",
       "    .dataframe tbody tr th {\n",
       "        vertical-align: top;\n",
       "    }\n",
       "\n",
       "    .dataframe thead th {\n",
       "        text-align: right;\n",
       "    }\n",
       "</style>\n",
       "<table border=\"1\" class=\"dataframe\">\n",
       "  <thead>\n",
       "    <tr style=\"text-align: right;\">\n",
       "      <th></th>\n",
       "      <th>customer_id</th>\n",
       "      <th>first_name</th>\n",
       "      <th>last_name</th>\n",
       "      <th>gender</th>\n",
       "      <th>past_3_years_bike_related_purchases</th>\n",
       "      <th>DOB</th>\n",
       "      <th>job_title</th>\n",
       "      <th>job_industry_category</th>\n",
       "      <th>wealth_segment</th>\n",
       "      <th>deceased_indicator</th>\n",
       "      <th>default</th>\n",
       "      <th>owns_car</th>\n",
       "      <th>tenure</th>\n",
       "    </tr>\n",
       "  </thead>\n",
       "  <tbody>\n",
       "    <tr>\n",
       "      <th>0</th>\n",
       "      <td>1</td>\n",
       "      <td>Laraine</td>\n",
       "      <td>Medendorp</td>\n",
       "      <td>F</td>\n",
       "      <td>93</td>\n",
       "      <td>1953-10-12</td>\n",
       "      <td>Executive Secretary</td>\n",
       "      <td>Health</td>\n",
       "      <td>Mass Customer</td>\n",
       "      <td>N</td>\n",
       "      <td>\"'</td>\n",
       "      <td>Yes</td>\n",
       "      <td>11.0</td>\n",
       "    </tr>\n",
       "    <tr>\n",
       "      <th>1</th>\n",
       "      <td>2</td>\n",
       "      <td>Eli</td>\n",
       "      <td>Bockman</td>\n",
       "      <td>Male</td>\n",
       "      <td>81</td>\n",
       "      <td>1980-12-16</td>\n",
       "      <td>Administrative Officer</td>\n",
       "      <td>Financial Services</td>\n",
       "      <td>Mass Customer</td>\n",
       "      <td>N</td>\n",
       "      <td>&lt;script&gt;alert('hi')&lt;/script&gt;</td>\n",
       "      <td>Yes</td>\n",
       "      <td>16.0</td>\n",
       "    </tr>\n",
       "    <tr>\n",
       "      <th>2</th>\n",
       "      <td>3</td>\n",
       "      <td>Arlin</td>\n",
       "      <td>Dearle</td>\n",
       "      <td>Male</td>\n",
       "      <td>61</td>\n",
       "      <td>1954-01-20</td>\n",
       "      <td>Recruiting Manager</td>\n",
       "      <td>Property</td>\n",
       "      <td>Mass Customer</td>\n",
       "      <td>N</td>\n",
       "      <td>2018-02-01 00:00:00</td>\n",
       "      <td>Yes</td>\n",
       "      <td>15.0</td>\n",
       "    </tr>\n",
       "    <tr>\n",
       "      <th>3</th>\n",
       "      <td>4</td>\n",
       "      <td>Talbot</td>\n",
       "      <td>NaN</td>\n",
       "      <td>Male</td>\n",
       "      <td>33</td>\n",
       "      <td>1961-10-03</td>\n",
       "      <td>NaN</td>\n",
       "      <td>IT</td>\n",
       "      <td>Mass Customer</td>\n",
       "      <td>N</td>\n",
       "      <td>() { _; } &gt;_[$($())] { touch /tmp/blns.shellsh...</td>\n",
       "      <td>No</td>\n",
       "      <td>7.0</td>\n",
       "    </tr>\n",
       "    <tr>\n",
       "      <th>4</th>\n",
       "      <td>5</td>\n",
       "      <td>Sheila-kathryn</td>\n",
       "      <td>Calton</td>\n",
       "      <td>Female</td>\n",
       "      <td>56</td>\n",
       "      <td>1977-05-13</td>\n",
       "      <td>Senior Editor</td>\n",
       "      <td>NaN</td>\n",
       "      <td>Affluent Customer</td>\n",
       "      <td>N</td>\n",
       "      <td>NIL</td>\n",
       "      <td>Yes</td>\n",
       "      <td>8.0</td>\n",
       "    </tr>\n",
       "  </tbody>\n",
       "</table>\n",
       "</div>"
      ],
      "text/plain": [
       "   customer_id      first_name  last_name  gender  \\\n",
       "0            1         Laraine  Medendorp       F   \n",
       "1            2             Eli    Bockman    Male   \n",
       "2            3           Arlin     Dearle    Male   \n",
       "3            4          Talbot        NaN    Male   \n",
       "4            5  Sheila-kathryn     Calton  Female   \n",
       "\n",
       "   past_3_years_bike_related_purchases        DOB               job_title  \\\n",
       "0                                   93 1953-10-12     Executive Secretary   \n",
       "1                                   81 1980-12-16  Administrative Officer   \n",
       "2                                   61 1954-01-20      Recruiting Manager   \n",
       "3                                   33 1961-10-03                     NaN   \n",
       "4                                   56 1977-05-13           Senior Editor   \n",
       "\n",
       "  job_industry_category     wealth_segment deceased_indicator  \\\n",
       "0                Health      Mass Customer                  N   \n",
       "1    Financial Services      Mass Customer                  N   \n",
       "2              Property      Mass Customer                  N   \n",
       "3                    IT      Mass Customer                  N   \n",
       "4                   NaN  Affluent Customer                  N   \n",
       "\n",
       "                                             default owns_car  tenure  \n",
       "0                                                 \"'      Yes    11.0  \n",
       "1                       <script>alert('hi')</script>      Yes    16.0  \n",
       "2                                2018-02-01 00:00:00      Yes    15.0  \n",
       "3  () { _; } >_[$($())] { touch /tmp/blns.shellsh...       No     7.0  \n",
       "4                                                NIL      Yes     8.0  "
      ]
     },
     "execution_count": 2,
     "metadata": {},
     "output_type": "execute_result"
    }
   ],
   "source": [
    "df_dem = pd.read_excel('./data/KPMG_VI_New_raw_data_update_final.xlsx', sheet_name=3, skiprows=[0], usecols='A:M', engine='openpyxl')\n",
    "df_dem.head()"
   ]
  },
  {
   "cell_type": "code",
   "execution_count": 3,
   "id": "cf915549",
   "metadata": {},
   "outputs": [
    {
     "name": "stdout",
     "output_type": "stream",
     "text": [
      "<class 'pandas.core.frame.DataFrame'>\n",
      "RangeIndex: 4000 entries, 0 to 3999\n",
      "Data columns (total 13 columns):\n",
      " #   Column                               Non-Null Count  Dtype         \n",
      "---  ------                               --------------  -----         \n",
      " 0   customer_id                          4000 non-null   int64         \n",
      " 1   first_name                           4000 non-null   object        \n",
      " 2   last_name                            3875 non-null   object        \n",
      " 3   gender                               4000 non-null   object        \n",
      " 4   past_3_years_bike_related_purchases  4000 non-null   int64         \n",
      " 5   DOB                                  3913 non-null   datetime64[ns]\n",
      " 6   job_title                            3494 non-null   object        \n",
      " 7   job_industry_category                3344 non-null   object        \n",
      " 8   wealth_segment                       4000 non-null   object        \n",
      " 9   deceased_indicator                   4000 non-null   object        \n",
      " 10  default                              3698 non-null   object        \n",
      " 11  owns_car                             4000 non-null   object        \n",
      " 12  tenure                               3913 non-null   float64       \n",
      "dtypes: datetime64[ns](1), float64(1), int64(2), object(9)\n",
      "memory usage: 406.4+ KB\n"
     ]
    }
   ],
   "source": [
    "df_dem.info()"
   ]
  },
  {
   "cell_type": "code",
   "execution_count": 4,
   "id": "419dcb86",
   "metadata": {},
   "outputs": [
    {
     "name": "stdout",
     "output_type": "stream",
     "text": [
      "The CustomerDemographic Table has 4000 rows and 13 columns.\n"
     ]
    }
   ],
   "source": [
    "print('The CustomerDemographic Table has', df_dem.shape[0], 'rows and', df_dem.shape[1], 'columns.')"
   ]
  },
  {
   "cell_type": "markdown",
   "id": "380f2537",
   "metadata": {},
   "source": [
    "### 1.2. Read CustomerAddress Table"
   ]
  },
  {
   "cell_type": "code",
   "execution_count": 5,
   "id": "c14b95f1",
   "metadata": {},
   "outputs": [
    {
     "data": {
      "text/html": [
       "<div>\n",
       "<style scoped>\n",
       "    .dataframe tbody tr th:only-of-type {\n",
       "        vertical-align: middle;\n",
       "    }\n",
       "\n",
       "    .dataframe tbody tr th {\n",
       "        vertical-align: top;\n",
       "    }\n",
       "\n",
       "    .dataframe thead th {\n",
       "        text-align: right;\n",
       "    }\n",
       "</style>\n",
       "<table border=\"1\" class=\"dataframe\">\n",
       "  <thead>\n",
       "    <tr style=\"text-align: right;\">\n",
       "      <th></th>\n",
       "      <th>customer_id</th>\n",
       "      <th>address</th>\n",
       "      <th>postcode</th>\n",
       "      <th>state</th>\n",
       "      <th>country</th>\n",
       "      <th>property_valuation</th>\n",
       "    </tr>\n",
       "  </thead>\n",
       "  <tbody>\n",
       "    <tr>\n",
       "      <th>0</th>\n",
       "      <td>1</td>\n",
       "      <td>060 Morning Avenue</td>\n",
       "      <td>2016</td>\n",
       "      <td>New South Wales</td>\n",
       "      <td>Australia</td>\n",
       "      <td>10</td>\n",
       "    </tr>\n",
       "    <tr>\n",
       "      <th>1</th>\n",
       "      <td>2</td>\n",
       "      <td>6 Meadow Vale Court</td>\n",
       "      <td>2153</td>\n",
       "      <td>New South Wales</td>\n",
       "      <td>Australia</td>\n",
       "      <td>10</td>\n",
       "    </tr>\n",
       "    <tr>\n",
       "      <th>2</th>\n",
       "      <td>4</td>\n",
       "      <td>0 Holy Cross Court</td>\n",
       "      <td>4211</td>\n",
       "      <td>QLD</td>\n",
       "      <td>Australia</td>\n",
       "      <td>9</td>\n",
       "    </tr>\n",
       "    <tr>\n",
       "      <th>3</th>\n",
       "      <td>5</td>\n",
       "      <td>17979 Del Mar Point</td>\n",
       "      <td>2448</td>\n",
       "      <td>New South Wales</td>\n",
       "      <td>Australia</td>\n",
       "      <td>4</td>\n",
       "    </tr>\n",
       "    <tr>\n",
       "      <th>4</th>\n",
       "      <td>6</td>\n",
       "      <td>9 Oakridge Court</td>\n",
       "      <td>3216</td>\n",
       "      <td>VIC</td>\n",
       "      <td>Australia</td>\n",
       "      <td>9</td>\n",
       "    </tr>\n",
       "  </tbody>\n",
       "</table>\n",
       "</div>"
      ],
      "text/plain": [
       "   customer_id              address  postcode            state    country  \\\n",
       "0            1   060 Morning Avenue      2016  New South Wales  Australia   \n",
       "1            2  6 Meadow Vale Court      2153  New South Wales  Australia   \n",
       "2            4   0 Holy Cross Court      4211              QLD  Australia   \n",
       "3            5  17979 Del Mar Point      2448  New South Wales  Australia   \n",
       "4            6     9 Oakridge Court      3216              VIC  Australia   \n",
       "\n",
       "   property_valuation  \n",
       "0                  10  \n",
       "1                  10  \n",
       "2                   9  \n",
       "3                   4  \n",
       "4                   9  "
      ]
     },
     "execution_count": 5,
     "metadata": {},
     "output_type": "execute_result"
    }
   ],
   "source": [
    "df_add = pd.read_excel('./data/KPMG_VI_New_raw_data_update_final.xlsx', sheet_name=4, skiprows=[0], usecols='A:F', engine='openpyxl')\n",
    "df_add.head()"
   ]
  },
  {
   "cell_type": "code",
   "execution_count": 6,
   "id": "a1228555",
   "metadata": {},
   "outputs": [
    {
     "name": "stdout",
     "output_type": "stream",
     "text": [
      "<class 'pandas.core.frame.DataFrame'>\n",
      "RangeIndex: 3999 entries, 0 to 3998\n",
      "Data columns (total 6 columns):\n",
      " #   Column              Non-Null Count  Dtype \n",
      "---  ------              --------------  ----- \n",
      " 0   customer_id         3999 non-null   int64 \n",
      " 1   address             3999 non-null   object\n",
      " 2   postcode            3999 non-null   int64 \n",
      " 3   state               3999 non-null   object\n",
      " 4   country             3999 non-null   object\n",
      " 5   property_valuation  3999 non-null   int64 \n",
      "dtypes: int64(3), object(3)\n",
      "memory usage: 187.6+ KB\n"
     ]
    }
   ],
   "source": [
    "df_add.info()"
   ]
  },
  {
   "cell_type": "code",
   "execution_count": 7,
   "id": "a8aaa2cc",
   "metadata": {},
   "outputs": [
    {
     "name": "stdout",
     "output_type": "stream",
     "text": [
      "The CustomerAddress Table has 3999 rows and 6 columns.\n"
     ]
    }
   ],
   "source": [
    "print('The CustomerAddress Table has', df_add.shape[0], 'rows and', df_add.shape[1], 'columns.')"
   ]
  },
  {
   "cell_type": "markdown",
   "id": "2bb4188f",
   "metadata": {},
   "source": [
    "### 1.3. Read Transactions Table"
   ]
  },
  {
   "cell_type": "code",
   "execution_count": 8,
   "id": "d6678614",
   "metadata": {},
   "outputs": [
    {
     "data": {
      "text/html": [
       "<div>\n",
       "<style scoped>\n",
       "    .dataframe tbody tr th:only-of-type {\n",
       "        vertical-align: middle;\n",
       "    }\n",
       "\n",
       "    .dataframe tbody tr th {\n",
       "        vertical-align: top;\n",
       "    }\n",
       "\n",
       "    .dataframe thead th {\n",
       "        text-align: right;\n",
       "    }\n",
       "</style>\n",
       "<table border=\"1\" class=\"dataframe\">\n",
       "  <thead>\n",
       "    <tr style=\"text-align: right;\">\n",
       "      <th></th>\n",
       "      <th>transaction_id</th>\n",
       "      <th>product_id</th>\n",
       "      <th>customer_id</th>\n",
       "      <th>transaction_date</th>\n",
       "      <th>online_order</th>\n",
       "      <th>order_status</th>\n",
       "      <th>brand</th>\n",
       "      <th>product_line</th>\n",
       "      <th>product_class</th>\n",
       "      <th>product_size</th>\n",
       "      <th>list_price</th>\n",
       "      <th>standard_cost</th>\n",
       "      <th>product_first_sold_date</th>\n",
       "    </tr>\n",
       "  </thead>\n",
       "  <tbody>\n",
       "    <tr>\n",
       "      <th>0</th>\n",
       "      <td>1</td>\n",
       "      <td>2</td>\n",
       "      <td>2950</td>\n",
       "      <td>2017-02-25</td>\n",
       "      <td>0.0</td>\n",
       "      <td>Approved</td>\n",
       "      <td>Solex</td>\n",
       "      <td>Standard</td>\n",
       "      <td>medium</td>\n",
       "      <td>medium</td>\n",
       "      <td>71.49</td>\n",
       "      <td>53.62</td>\n",
       "      <td>41245.0</td>\n",
       "    </tr>\n",
       "    <tr>\n",
       "      <th>1</th>\n",
       "      <td>2</td>\n",
       "      <td>3</td>\n",
       "      <td>3120</td>\n",
       "      <td>2017-05-21</td>\n",
       "      <td>1.0</td>\n",
       "      <td>Approved</td>\n",
       "      <td>Trek Bicycles</td>\n",
       "      <td>Standard</td>\n",
       "      <td>medium</td>\n",
       "      <td>large</td>\n",
       "      <td>2091.47</td>\n",
       "      <td>388.92</td>\n",
       "      <td>41701.0</td>\n",
       "    </tr>\n",
       "    <tr>\n",
       "      <th>2</th>\n",
       "      <td>3</td>\n",
       "      <td>37</td>\n",
       "      <td>402</td>\n",
       "      <td>2017-10-16</td>\n",
       "      <td>0.0</td>\n",
       "      <td>Approved</td>\n",
       "      <td>OHM Cycles</td>\n",
       "      <td>Standard</td>\n",
       "      <td>low</td>\n",
       "      <td>medium</td>\n",
       "      <td>1793.43</td>\n",
       "      <td>248.82</td>\n",
       "      <td>36361.0</td>\n",
       "    </tr>\n",
       "    <tr>\n",
       "      <th>3</th>\n",
       "      <td>4</td>\n",
       "      <td>88</td>\n",
       "      <td>3135</td>\n",
       "      <td>2017-08-31</td>\n",
       "      <td>0.0</td>\n",
       "      <td>Approved</td>\n",
       "      <td>Norco Bicycles</td>\n",
       "      <td>Standard</td>\n",
       "      <td>medium</td>\n",
       "      <td>medium</td>\n",
       "      <td>1198.46</td>\n",
       "      <td>381.10</td>\n",
       "      <td>36145.0</td>\n",
       "    </tr>\n",
       "    <tr>\n",
       "      <th>4</th>\n",
       "      <td>5</td>\n",
       "      <td>78</td>\n",
       "      <td>787</td>\n",
       "      <td>2017-10-01</td>\n",
       "      <td>1.0</td>\n",
       "      <td>Approved</td>\n",
       "      <td>Giant Bicycles</td>\n",
       "      <td>Standard</td>\n",
       "      <td>medium</td>\n",
       "      <td>large</td>\n",
       "      <td>1765.30</td>\n",
       "      <td>709.48</td>\n",
       "      <td>42226.0</td>\n",
       "    </tr>\n",
       "  </tbody>\n",
       "</table>\n",
       "</div>"
      ],
      "text/plain": [
       "   transaction_id  product_id  customer_id transaction_date  online_order  \\\n",
       "0               1           2         2950       2017-02-25           0.0   \n",
       "1               2           3         3120       2017-05-21           1.0   \n",
       "2               3          37          402       2017-10-16           0.0   \n",
       "3               4          88         3135       2017-08-31           0.0   \n",
       "4               5          78          787       2017-10-01           1.0   \n",
       "\n",
       "  order_status           brand product_line product_class product_size  \\\n",
       "0     Approved           Solex     Standard        medium       medium   \n",
       "1     Approved   Trek Bicycles     Standard        medium        large   \n",
       "2     Approved      OHM Cycles     Standard           low       medium   \n",
       "3     Approved  Norco Bicycles     Standard        medium       medium   \n",
       "4     Approved  Giant Bicycles     Standard        medium        large   \n",
       "\n",
       "   list_price  standard_cost  product_first_sold_date  \n",
       "0       71.49          53.62                  41245.0  \n",
       "1     2091.47         388.92                  41701.0  \n",
       "2     1793.43         248.82                  36361.0  \n",
       "3     1198.46         381.10                  36145.0  \n",
       "4     1765.30         709.48                  42226.0  "
      ]
     },
     "execution_count": 8,
     "metadata": {},
     "output_type": "execute_result"
    }
   ],
   "source": [
    "df_trans = pd.read_excel('./data/KPMG_VI_New_raw_data_update_final.xlsx', sheet_name=1, skiprows=[0], usecols='A:M', engine='openpyxl')\n",
    "df_trans.head()"
   ]
  },
  {
   "cell_type": "code",
   "execution_count": 9,
   "id": "decfe486",
   "metadata": {},
   "outputs": [
    {
     "name": "stdout",
     "output_type": "stream",
     "text": [
      "<class 'pandas.core.frame.DataFrame'>\n",
      "RangeIndex: 20000 entries, 0 to 19999\n",
      "Data columns (total 13 columns):\n",
      " #   Column                   Non-Null Count  Dtype         \n",
      "---  ------                   --------------  -----         \n",
      " 0   transaction_id           20000 non-null  int64         \n",
      " 1   product_id               20000 non-null  int64         \n",
      " 2   customer_id              20000 non-null  int64         \n",
      " 3   transaction_date         20000 non-null  datetime64[ns]\n",
      " 4   online_order             19640 non-null  float64       \n",
      " 5   order_status             20000 non-null  object        \n",
      " 6   brand                    19803 non-null  object        \n",
      " 7   product_line             19803 non-null  object        \n",
      " 8   product_class            19803 non-null  object        \n",
      " 9   product_size             19803 non-null  object        \n",
      " 10  list_price               20000 non-null  float64       \n",
      " 11  standard_cost            19803 non-null  float64       \n",
      " 12  product_first_sold_date  19803 non-null  float64       \n",
      "dtypes: datetime64[ns](1), float64(4), int64(3), object(5)\n",
      "memory usage: 2.0+ MB\n"
     ]
    }
   ],
   "source": [
    "df_trans.info()"
   ]
  },
  {
   "cell_type": "code",
   "execution_count": 10,
   "id": "08cb241f",
   "metadata": {},
   "outputs": [
    {
     "name": "stdout",
     "output_type": "stream",
     "text": [
      "The Transactions Table has 20000 rows and 13 columns.\n"
     ]
    }
   ],
   "source": [
    "print('The Transactions Table has', df_trans.shape[0], 'rows and', df_trans.shape[1], 'columns.')"
   ]
  },
  {
   "cell_type": "markdown",
   "id": "651364c1",
   "metadata": {},
   "source": [
    "### 1.4. Read NewCustomerList Table"
   ]
  },
  {
   "cell_type": "code",
   "execution_count": 11,
   "id": "c0b8b5fa",
   "metadata": {},
   "outputs": [
    {
     "data": {
      "text/html": [
       "<div>\n",
       "<style scoped>\n",
       "    .dataframe tbody tr th:only-of-type {\n",
       "        vertical-align: middle;\n",
       "    }\n",
       "\n",
       "    .dataframe tbody tr th {\n",
       "        vertical-align: top;\n",
       "    }\n",
       "\n",
       "    .dataframe thead th {\n",
       "        text-align: right;\n",
       "    }\n",
       "</style>\n",
       "<table border=\"1\" class=\"dataframe\">\n",
       "  <thead>\n",
       "    <tr style=\"text-align: right;\">\n",
       "      <th></th>\n",
       "      <th>first_name</th>\n",
       "      <th>last_name</th>\n",
       "      <th>gender</th>\n",
       "      <th>past_3_years_bike_related_purchases</th>\n",
       "      <th>DOB</th>\n",
       "      <th>job_title</th>\n",
       "      <th>job_industry_category</th>\n",
       "      <th>wealth_segment</th>\n",
       "      <th>deceased_indicator</th>\n",
       "      <th>owns_car</th>\n",
       "      <th>...</th>\n",
       "      <th>state</th>\n",
       "      <th>country</th>\n",
       "      <th>property_valuation</th>\n",
       "      <th>Unnamed: 16</th>\n",
       "      <th>Unnamed: 17</th>\n",
       "      <th>Unnamed: 18</th>\n",
       "      <th>Unnamed: 19</th>\n",
       "      <th>Unnamed: 20</th>\n",
       "      <th>Rank</th>\n",
       "      <th>Value</th>\n",
       "    </tr>\n",
       "  </thead>\n",
       "  <tbody>\n",
       "    <tr>\n",
       "      <th>0</th>\n",
       "      <td>Chickie</td>\n",
       "      <td>Brister</td>\n",
       "      <td>Male</td>\n",
       "      <td>86</td>\n",
       "      <td>1957-07-12</td>\n",
       "      <td>General Manager</td>\n",
       "      <td>Manufacturing</td>\n",
       "      <td>Mass Customer</td>\n",
       "      <td>N</td>\n",
       "      <td>Yes</td>\n",
       "      <td>...</td>\n",
       "      <td>QLD</td>\n",
       "      <td>Australia</td>\n",
       "      <td>6</td>\n",
       "      <td>0.49</td>\n",
       "      <td>0.6125</td>\n",
       "      <td>0.765625</td>\n",
       "      <td>0.650781</td>\n",
       "      <td>1</td>\n",
       "      <td>1</td>\n",
       "      <td>1.718750</td>\n",
       "    </tr>\n",
       "    <tr>\n",
       "      <th>1</th>\n",
       "      <td>Morly</td>\n",
       "      <td>Genery</td>\n",
       "      <td>Male</td>\n",
       "      <td>69</td>\n",
       "      <td>1970-03-22</td>\n",
       "      <td>Structural Engineer</td>\n",
       "      <td>Property</td>\n",
       "      <td>Mass Customer</td>\n",
       "      <td>N</td>\n",
       "      <td>No</td>\n",
       "      <td>...</td>\n",
       "      <td>NSW</td>\n",
       "      <td>Australia</td>\n",
       "      <td>11</td>\n",
       "      <td>0.53</td>\n",
       "      <td>0.5300</td>\n",
       "      <td>0.662500</td>\n",
       "      <td>0.563125</td>\n",
       "      <td>1</td>\n",
       "      <td>1</td>\n",
       "      <td>1.718750</td>\n",
       "    </tr>\n",
       "    <tr>\n",
       "      <th>2</th>\n",
       "      <td>Ardelis</td>\n",
       "      <td>Forrester</td>\n",
       "      <td>Female</td>\n",
       "      <td>10</td>\n",
       "      <td>1974-08-28</td>\n",
       "      <td>Senior Cost Accountant</td>\n",
       "      <td>Financial Services</td>\n",
       "      <td>Affluent Customer</td>\n",
       "      <td>N</td>\n",
       "      <td>No</td>\n",
       "      <td>...</td>\n",
       "      <td>VIC</td>\n",
       "      <td>Australia</td>\n",
       "      <td>5</td>\n",
       "      <td>0.49</td>\n",
       "      <td>0.4900</td>\n",
       "      <td>0.490000</td>\n",
       "      <td>0.490000</td>\n",
       "      <td>1</td>\n",
       "      <td>1</td>\n",
       "      <td>1.718750</td>\n",
       "    </tr>\n",
       "    <tr>\n",
       "      <th>3</th>\n",
       "      <td>Lucine</td>\n",
       "      <td>Stutt</td>\n",
       "      <td>Female</td>\n",
       "      <td>64</td>\n",
       "      <td>1979-01-28</td>\n",
       "      <td>Account Representative III</td>\n",
       "      <td>Manufacturing</td>\n",
       "      <td>Affluent Customer</td>\n",
       "      <td>N</td>\n",
       "      <td>Yes</td>\n",
       "      <td>...</td>\n",
       "      <td>QLD</td>\n",
       "      <td>Australia</td>\n",
       "      <td>1</td>\n",
       "      <td>0.69</td>\n",
       "      <td>0.8625</td>\n",
       "      <td>0.862500</td>\n",
       "      <td>0.862500</td>\n",
       "      <td>4</td>\n",
       "      <td>4</td>\n",
       "      <td>1.703125</td>\n",
       "    </tr>\n",
       "    <tr>\n",
       "      <th>4</th>\n",
       "      <td>Melinda</td>\n",
       "      <td>Hadlee</td>\n",
       "      <td>Female</td>\n",
       "      <td>34</td>\n",
       "      <td>1965-09-21</td>\n",
       "      <td>Financial Analyst</td>\n",
       "      <td>Financial Services</td>\n",
       "      <td>Affluent Customer</td>\n",
       "      <td>N</td>\n",
       "      <td>No</td>\n",
       "      <td>...</td>\n",
       "      <td>NSW</td>\n",
       "      <td>Australia</td>\n",
       "      <td>9</td>\n",
       "      <td>0.46</td>\n",
       "      <td>0.4600</td>\n",
       "      <td>0.575000</td>\n",
       "      <td>0.575000</td>\n",
       "      <td>4</td>\n",
       "      <td>4</td>\n",
       "      <td>1.703125</td>\n",
       "    </tr>\n",
       "  </tbody>\n",
       "</table>\n",
       "<p>5 rows × 23 columns</p>\n",
       "</div>"
      ],
      "text/plain": [
       "  first_name  last_name  gender  past_3_years_bike_related_purchases  \\\n",
       "0    Chickie    Brister    Male                                   86   \n",
       "1      Morly     Genery    Male                                   69   \n",
       "2    Ardelis  Forrester  Female                                   10   \n",
       "3     Lucine      Stutt  Female                                   64   \n",
       "4    Melinda     Hadlee  Female                                   34   \n",
       "\n",
       "         DOB                   job_title job_industry_category  \\\n",
       "0 1957-07-12             General Manager         Manufacturing   \n",
       "1 1970-03-22         Structural Engineer              Property   \n",
       "2 1974-08-28      Senior Cost Accountant    Financial Services   \n",
       "3 1979-01-28  Account Representative III         Manufacturing   \n",
       "4 1965-09-21           Financial Analyst    Financial Services   \n",
       "\n",
       "      wealth_segment deceased_indicator owns_car  ...  state    country  \\\n",
       "0      Mass Customer                  N      Yes  ...    QLD  Australia   \n",
       "1      Mass Customer                  N       No  ...    NSW  Australia   \n",
       "2  Affluent Customer                  N       No  ...    VIC  Australia   \n",
       "3  Affluent Customer                  N      Yes  ...    QLD  Australia   \n",
       "4  Affluent Customer                  N       No  ...    NSW  Australia   \n",
       "\n",
       "   property_valuation Unnamed: 16 Unnamed: 17  Unnamed: 18  Unnamed: 19  \\\n",
       "0                   6        0.49      0.6125     0.765625     0.650781   \n",
       "1                  11        0.53      0.5300     0.662500     0.563125   \n",
       "2                   5        0.49      0.4900     0.490000     0.490000   \n",
       "3                   1        0.69      0.8625     0.862500     0.862500   \n",
       "4                   9        0.46      0.4600     0.575000     0.575000   \n",
       "\n",
       "   Unnamed: 20  Rank     Value  \n",
       "0            1     1  1.718750  \n",
       "1            1     1  1.718750  \n",
       "2            1     1  1.718750  \n",
       "3            4     4  1.703125  \n",
       "4            4     4  1.703125  \n",
       "\n",
       "[5 rows x 23 columns]"
      ]
     },
     "execution_count": 11,
     "metadata": {},
     "output_type": "execute_result"
    }
   ],
   "source": [
    "df_newlist = pd.read_excel('./data/KPMG_VI_New_raw_data_update_final.xlsx', sheet_name=2, skiprows=[0], usecols='A:W', engine='openpyxl')\n",
    "df_newlist.head()"
   ]
  },
  {
   "cell_type": "code",
   "execution_count": 12,
   "id": "9ddd973b",
   "metadata": {},
   "outputs": [
    {
     "name": "stdout",
     "output_type": "stream",
     "text": [
      "<class 'pandas.core.frame.DataFrame'>\n",
      "RangeIndex: 1000 entries, 0 to 999\n",
      "Data columns (total 23 columns):\n",
      " #   Column                               Non-Null Count  Dtype         \n",
      "---  ------                               --------------  -----         \n",
      " 0   first_name                           1000 non-null   object        \n",
      " 1   last_name                            971 non-null    object        \n",
      " 2   gender                               1000 non-null   object        \n",
      " 3   past_3_years_bike_related_purchases  1000 non-null   int64         \n",
      " 4   DOB                                  983 non-null    datetime64[ns]\n",
      " 5   job_title                            894 non-null    object        \n",
      " 6   job_industry_category                835 non-null    object        \n",
      " 7   wealth_segment                       1000 non-null   object        \n",
      " 8   deceased_indicator                   1000 non-null   object        \n",
      " 9   owns_car                             1000 non-null   object        \n",
      " 10  tenure                               1000 non-null   int64         \n",
      " 11  address                              1000 non-null   object        \n",
      " 12  postcode                             1000 non-null   int64         \n",
      " 13  state                                1000 non-null   object        \n",
      " 14  country                              1000 non-null   object        \n",
      " 15  property_valuation                   1000 non-null   int64         \n",
      " 16  Unnamed: 16                          1000 non-null   float64       \n",
      " 17  Unnamed: 17                          1000 non-null   float64       \n",
      " 18  Unnamed: 18                          1000 non-null   float64       \n",
      " 19  Unnamed: 19                          1000 non-null   float64       \n",
      " 20  Unnamed: 20                          1000 non-null   int64         \n",
      " 21  Rank                                 1000 non-null   int64         \n",
      " 22  Value                                1000 non-null   float64       \n",
      "dtypes: datetime64[ns](1), float64(5), int64(6), object(11)\n",
      "memory usage: 179.8+ KB\n"
     ]
    }
   ],
   "source": [
    "df_newlist.info()"
   ]
  },
  {
   "cell_type": "code",
   "execution_count": 13,
   "id": "d8a05201",
   "metadata": {},
   "outputs": [
    {
     "name": "stdout",
     "output_type": "stream",
     "text": [
      "The NewCustomerList Table has 1000 rows and 23 columns.\n"
     ]
    }
   ],
   "source": [
    "print('The NewCustomerList Table has', df_newlist.shape[0], 'rows and', df_newlist.shape[1], 'columns.')"
   ]
  },
  {
   "cell_type": "markdown",
   "id": "79096e4b",
   "metadata": {},
   "source": [
    "## 2. PROCESS DATA"
   ]
  },
  {
   "cell_type": "markdown",
   "id": "305fe87e",
   "metadata": {},
   "source": [
    "### 2.1. Check data in 3 tables"
   ]
  },
  {
   "cell_type": "markdown",
   "id": "534aface",
   "metadata": {},
   "source": [
    "**CustomerDemographic**"
   ]
  },
  {
   "cell_type": "code",
   "execution_count": 14,
   "id": "b4bd4967",
   "metadata": {},
   "outputs": [
    {
     "name": "stdout",
     "output_type": "stream",
     "text": [
      "Shape before dropping duplicates (4000, 13)\n",
      "Shape after dropping duplicates (4000, 13)\n"
     ]
    }
   ],
   "source": [
    "# Check the data for duplicates\n",
    "print('Shape before dropping duplicates', df_dem.shape)\n",
    "df_dem = df_dem.drop_duplicates()\n",
    "print('Shape after dropping duplicates', df_dem.shape)"
   ]
  },
  {
   "cell_type": "markdown",
   "id": "6269cace",
   "metadata": {},
   "source": [
    "- CustomerDemographic Table has no duplicates"
   ]
  },
  {
   "cell_type": "code",
   "execution_count": 15,
   "id": "ab725301",
   "metadata": {},
   "outputs": [
    {
     "name": "stdout",
     "output_type": "stream",
     "text": [
      "customer_id                              0\n",
      "first_name                               0\n",
      "last_name                              125\n",
      "gender                                   0\n",
      "past_3_years_bike_related_purchases      0\n",
      "DOB                                     87\n",
      "job_title                              506\n",
      "job_industry_category                  656\n",
      "wealth_segment                           0\n",
      "deceased_indicator                       0\n",
      "default                                302\n",
      "owns_car                                 0\n",
      "tenure                                  87\n",
      "dtype: int64 \n",
      "\n"
     ]
    }
   ],
   "source": [
    "# Check the data for missing values\n",
    "print(np.sum(df_dem.isnull()), '\\n')"
   ]
  },
  {
   "cell_type": "markdown",
   "id": "1ddb4bbc",
   "metadata": {},
   "source": [
    " - There are lots of missing data records in CustomerDemographic Table\n",
    " - The column named 'default' needs to be removed since it has no meaning"
   ]
  },
  {
   "cell_type": "code",
   "execution_count": 16,
   "id": "4a90ed5f",
   "metadata": {},
   "outputs": [
    {
     "data": {
      "text/html": [
       "<div>\n",
       "<style scoped>\n",
       "    .dataframe tbody tr th:only-of-type {\n",
       "        vertical-align: middle;\n",
       "    }\n",
       "\n",
       "    .dataframe tbody tr th {\n",
       "        vertical-align: top;\n",
       "    }\n",
       "\n",
       "    .dataframe thead th {\n",
       "        text-align: right;\n",
       "    }\n",
       "</style>\n",
       "<table border=\"1\" class=\"dataframe\">\n",
       "  <thead>\n",
       "    <tr style=\"text-align: right;\">\n",
       "      <th></th>\n",
       "      <th>customer_id</th>\n",
       "      <th>first_name</th>\n",
       "      <th>last_name</th>\n",
       "      <th>gender</th>\n",
       "      <th>past_3_years_bike_related_purchases</th>\n",
       "      <th>DOB</th>\n",
       "      <th>job_title</th>\n",
       "      <th>job_industry_category</th>\n",
       "      <th>wealth_segment</th>\n",
       "      <th>deceased_indicator</th>\n",
       "      <th>owns_car</th>\n",
       "      <th>tenure</th>\n",
       "    </tr>\n",
       "  </thead>\n",
       "  <tbody>\n",
       "    <tr>\n",
       "      <th>0</th>\n",
       "      <td>1</td>\n",
       "      <td>Laraine</td>\n",
       "      <td>Medendorp</td>\n",
       "      <td>F</td>\n",
       "      <td>93</td>\n",
       "      <td>1953-10-12</td>\n",
       "      <td>Executive Secretary</td>\n",
       "      <td>Health</td>\n",
       "      <td>Mass Customer</td>\n",
       "      <td>N</td>\n",
       "      <td>Yes</td>\n",
       "      <td>11.0</td>\n",
       "    </tr>\n",
       "    <tr>\n",
       "      <th>1</th>\n",
       "      <td>2</td>\n",
       "      <td>Eli</td>\n",
       "      <td>Bockman</td>\n",
       "      <td>Male</td>\n",
       "      <td>81</td>\n",
       "      <td>1980-12-16</td>\n",
       "      <td>Administrative Officer</td>\n",
       "      <td>Financial Services</td>\n",
       "      <td>Mass Customer</td>\n",
       "      <td>N</td>\n",
       "      <td>Yes</td>\n",
       "      <td>16.0</td>\n",
       "    </tr>\n",
       "    <tr>\n",
       "      <th>2</th>\n",
       "      <td>3</td>\n",
       "      <td>Arlin</td>\n",
       "      <td>Dearle</td>\n",
       "      <td>Male</td>\n",
       "      <td>61</td>\n",
       "      <td>1954-01-20</td>\n",
       "      <td>Recruiting Manager</td>\n",
       "      <td>Property</td>\n",
       "      <td>Mass Customer</td>\n",
       "      <td>N</td>\n",
       "      <td>Yes</td>\n",
       "      <td>15.0</td>\n",
       "    </tr>\n",
       "  </tbody>\n",
       "</table>\n",
       "</div>"
      ],
      "text/plain": [
       "   customer_id first_name  last_name gender  \\\n",
       "0            1    Laraine  Medendorp      F   \n",
       "1            2        Eli    Bockman   Male   \n",
       "2            3      Arlin     Dearle   Male   \n",
       "\n",
       "   past_3_years_bike_related_purchases        DOB               job_title  \\\n",
       "0                                   93 1953-10-12     Executive Secretary   \n",
       "1                                   81 1980-12-16  Administrative Officer   \n",
       "2                                   61 1954-01-20      Recruiting Manager   \n",
       "\n",
       "  job_industry_category wealth_segment deceased_indicator owns_car  tenure  \n",
       "0                Health  Mass Customer                  N      Yes    11.0  \n",
       "1    Financial Services  Mass Customer                  N      Yes    16.0  \n",
       "2              Property  Mass Customer                  N      Yes    15.0  "
      ]
     },
     "execution_count": 16,
     "metadata": {},
     "output_type": "execute_result"
    }
   ],
   "source": [
    "df_dem = df_dem.drop(['default'], axis=1)\n",
    "df_dem.head(3)"
   ]
  },
  {
   "cell_type": "markdown",
   "id": "826bff1e",
   "metadata": {},
   "source": [
    "**CustomerAddress**"
   ]
  },
  {
   "cell_type": "code",
   "execution_count": 17,
   "id": "a429303d",
   "metadata": {},
   "outputs": [
    {
     "name": "stdout",
     "output_type": "stream",
     "text": [
      "Shape before dropping duplicates (3999, 6)\n",
      "Shape after dropping duplicates (3999, 6)\n"
     ]
    }
   ],
   "source": [
    "# Check the data for duplicates\n",
    "print('Shape before dropping duplicates', df_add.shape)\n",
    "df_add = df_add.drop_duplicates()\n",
    "print('Shape after dropping duplicates', df_add.shape)"
   ]
  },
  {
   "cell_type": "markdown",
   "id": "ce5fa840",
   "metadata": {},
   "source": [
    "- CustomerAddress Table has no duplicates"
   ]
  },
  {
   "cell_type": "code",
   "execution_count": 18,
   "id": "accb33ec",
   "metadata": {},
   "outputs": [
    {
     "name": "stdout",
     "output_type": "stream",
     "text": [
      "customer_id           0\n",
      "address               0\n",
      "postcode              0\n",
      "state                 0\n",
      "country               0\n",
      "property_valuation    0\n",
      "dtype: int64 \n",
      "\n"
     ]
    }
   ],
   "source": [
    "# Check the data for missing values\n",
    "print(np.sum(df_add.isnull()), '\\n')"
   ]
  },
  {
   "cell_type": "markdown",
   "id": "4df770df",
   "metadata": {},
   "source": [
    " - There are no missing data records in CustomerAddress Table"
   ]
  },
  {
   "cell_type": "markdown",
   "id": "74753b08",
   "metadata": {},
   "source": [
    "**Transactions**"
   ]
  },
  {
   "cell_type": "code",
   "execution_count": 19,
   "id": "9c915e88",
   "metadata": {},
   "outputs": [
    {
     "name": "stdout",
     "output_type": "stream",
     "text": [
      "Shape before dropping duplicates (20000, 13)\n",
      "Shape after dropping duplicates (20000, 13)\n"
     ]
    }
   ],
   "source": [
    "# Check the data for duplicates\n",
    "print('Shape before dropping duplicates', df_trans.shape)\n",
    "df_trans = df_trans.drop_duplicates()\n",
    "print('Shape after dropping duplicates', df_trans.shape)"
   ]
  },
  {
   "cell_type": "markdown",
   "id": "e9cf4ece",
   "metadata": {},
   "source": [
    "- Transactions Table has no duplicates"
   ]
  },
  {
   "cell_type": "code",
   "execution_count": 20,
   "id": "bb9a2633",
   "metadata": {},
   "outputs": [
    {
     "name": "stdout",
     "output_type": "stream",
     "text": [
      "transaction_id               0\n",
      "product_id                   0\n",
      "customer_id                  0\n",
      "transaction_date             0\n",
      "online_order               360\n",
      "order_status                 0\n",
      "brand                      197\n",
      "product_line               197\n",
      "product_class              197\n",
      "product_size               197\n",
      "list_price                   0\n",
      "standard_cost              197\n",
      "product_first_sold_date    197\n",
      "dtype: int64 \n",
      "\n"
     ]
    }
   ],
   "source": [
    "# Check the data for missing values\n",
    "print(np.sum(df_trans.isnull()), '\\n')"
   ]
  },
  {
   "cell_type": "markdown",
   "id": "00b54753",
   "metadata": {},
   "source": [
    " - There are lots of missing data records in Transactions Table"
   ]
  },
  {
   "cell_type": "markdown",
   "id": "e8d1b5ba",
   "metadata": {},
   "source": [
    "### 2.2. Merge 3 tables into 1 table"
   ]
  },
  {
   "cell_type": "code",
   "execution_count": 21,
   "id": "9aab9ef1",
   "metadata": {},
   "outputs": [],
   "source": [
    "df_dem_add = pd.merge(df_dem, df_add, how='outer', on=['customer_id'])"
   ]
  },
  {
   "cell_type": "code",
   "execution_count": 22,
   "id": "4c77e289",
   "metadata": {},
   "outputs": [
    {
     "data": {
      "text/plain": [
       "(4000, 12)"
      ]
     },
     "execution_count": 22,
     "metadata": {},
     "output_type": "execute_result"
    }
   ],
   "source": [
    "df_dem.shape"
   ]
  },
  {
   "cell_type": "code",
   "execution_count": 23,
   "id": "95c036a2",
   "metadata": {},
   "outputs": [
    {
     "data": {
      "text/plain": [
       "(3999, 6)"
      ]
     },
     "execution_count": 23,
     "metadata": {},
     "output_type": "execute_result"
    }
   ],
   "source": [
    "df_add.shape"
   ]
  },
  {
   "cell_type": "code",
   "execution_count": 24,
   "id": "86f361ec",
   "metadata": {},
   "outputs": [
    {
     "data": {
      "text/plain": [
       "(4003, 17)"
      ]
     },
     "execution_count": 24,
     "metadata": {},
     "output_type": "execute_result"
    }
   ],
   "source": [
    "df_dem_add.shape"
   ]
  },
  {
   "cell_type": "code",
   "execution_count": 25,
   "id": "e422bc51",
   "metadata": {},
   "outputs": [],
   "source": [
    "df_all = pd.merge(df_trans, df_dem_add, how='outer', on=['customer_id'])"
   ]
  },
  {
   "cell_type": "code",
   "execution_count": 26,
   "id": "d67945a6",
   "metadata": {},
   "outputs": [
    {
     "data": {
      "text/plain": [
       "(20000, 13)"
      ]
     },
     "execution_count": 26,
     "metadata": {},
     "output_type": "execute_result"
    }
   ],
   "source": [
    "df_trans.shape"
   ]
  },
  {
   "cell_type": "code",
   "execution_count": 27,
   "id": "bc5a75d1",
   "metadata": {},
   "outputs": [
    {
     "data": {
      "text/plain": [
       "(20510, 29)"
      ]
     },
     "execution_count": 27,
     "metadata": {},
     "output_type": "execute_result"
    }
   ],
   "source": [
    "df_all.shape"
   ]
  },
  {
   "cell_type": "code",
   "execution_count": 28,
   "id": "8a3f8fa5",
   "metadata": {},
   "outputs": [
    {
     "data": {
      "text/html": [
       "<div>\n",
       "<style scoped>\n",
       "    .dataframe tbody tr th:only-of-type {\n",
       "        vertical-align: middle;\n",
       "    }\n",
       "\n",
       "    .dataframe tbody tr th {\n",
       "        vertical-align: top;\n",
       "    }\n",
       "\n",
       "    .dataframe thead th {\n",
       "        text-align: right;\n",
       "    }\n",
       "</style>\n",
       "<table border=\"1\" class=\"dataframe\">\n",
       "  <thead>\n",
       "    <tr style=\"text-align: right;\">\n",
       "      <th></th>\n",
       "      <th>transaction_id</th>\n",
       "      <th>product_id</th>\n",
       "      <th>customer_id</th>\n",
       "      <th>transaction_date</th>\n",
       "      <th>online_order</th>\n",
       "      <th>order_status</th>\n",
       "      <th>brand</th>\n",
       "      <th>product_line</th>\n",
       "      <th>product_class</th>\n",
       "      <th>product_size</th>\n",
       "      <th>...</th>\n",
       "      <th>job_industry_category</th>\n",
       "      <th>wealth_segment</th>\n",
       "      <th>deceased_indicator</th>\n",
       "      <th>owns_car</th>\n",
       "      <th>tenure</th>\n",
       "      <th>address</th>\n",
       "      <th>postcode</th>\n",
       "      <th>state</th>\n",
       "      <th>country</th>\n",
       "      <th>property_valuation</th>\n",
       "    </tr>\n",
       "  </thead>\n",
       "  <tbody>\n",
       "    <tr>\n",
       "      <th>0</th>\n",
       "      <td>1.0</td>\n",
       "      <td>2.0</td>\n",
       "      <td>2950</td>\n",
       "      <td>2017-02-25</td>\n",
       "      <td>0.0</td>\n",
       "      <td>Approved</td>\n",
       "      <td>Solex</td>\n",
       "      <td>Standard</td>\n",
       "      <td>medium</td>\n",
       "      <td>medium</td>\n",
       "      <td>...</td>\n",
       "      <td>Financial Services</td>\n",
       "      <td>Mass Customer</td>\n",
       "      <td>N</td>\n",
       "      <td>Yes</td>\n",
       "      <td>10.0</td>\n",
       "      <td>984 Hoepker Court</td>\n",
       "      <td>3064.0</td>\n",
       "      <td>VIC</td>\n",
       "      <td>Australia</td>\n",
       "      <td>6.0</td>\n",
       "    </tr>\n",
       "    <tr>\n",
       "      <th>1</th>\n",
       "      <td>11065.0</td>\n",
       "      <td>1.0</td>\n",
       "      <td>2950</td>\n",
       "      <td>2017-10-16</td>\n",
       "      <td>0.0</td>\n",
       "      <td>Approved</td>\n",
       "      <td>Giant Bicycles</td>\n",
       "      <td>Standard</td>\n",
       "      <td>medium</td>\n",
       "      <td>medium</td>\n",
       "      <td>...</td>\n",
       "      <td>Financial Services</td>\n",
       "      <td>Mass Customer</td>\n",
       "      <td>N</td>\n",
       "      <td>Yes</td>\n",
       "      <td>10.0</td>\n",
       "      <td>984 Hoepker Court</td>\n",
       "      <td>3064.0</td>\n",
       "      <td>VIC</td>\n",
       "      <td>Australia</td>\n",
       "      <td>6.0</td>\n",
       "    </tr>\n",
       "    <tr>\n",
       "      <th>2</th>\n",
       "      <td>18923.0</td>\n",
       "      <td>62.0</td>\n",
       "      <td>2950</td>\n",
       "      <td>2017-04-26</td>\n",
       "      <td>0.0</td>\n",
       "      <td>Approved</td>\n",
       "      <td>Solex</td>\n",
       "      <td>Standard</td>\n",
       "      <td>medium</td>\n",
       "      <td>medium</td>\n",
       "      <td>...</td>\n",
       "      <td>Financial Services</td>\n",
       "      <td>Mass Customer</td>\n",
       "      <td>N</td>\n",
       "      <td>Yes</td>\n",
       "      <td>10.0</td>\n",
       "      <td>984 Hoepker Court</td>\n",
       "      <td>3064.0</td>\n",
       "      <td>VIC</td>\n",
       "      <td>Australia</td>\n",
       "      <td>6.0</td>\n",
       "    </tr>\n",
       "  </tbody>\n",
       "</table>\n",
       "<p>3 rows × 29 columns</p>\n",
       "</div>"
      ],
      "text/plain": [
       "   transaction_id  product_id  customer_id transaction_date  online_order  \\\n",
       "0             1.0         2.0         2950       2017-02-25           0.0   \n",
       "1         11065.0         1.0         2950       2017-10-16           0.0   \n",
       "2         18923.0        62.0         2950       2017-04-26           0.0   \n",
       "\n",
       "  order_status           brand product_line product_class product_size  ...  \\\n",
       "0     Approved           Solex     Standard        medium       medium  ...   \n",
       "1     Approved  Giant Bicycles     Standard        medium       medium  ...   \n",
       "2     Approved           Solex     Standard        medium       medium  ...   \n",
       "\n",
       "   job_industry_category  wealth_segment  deceased_indicator owns_car tenure  \\\n",
       "0     Financial Services   Mass Customer                   N      Yes   10.0   \n",
       "1     Financial Services   Mass Customer                   N      Yes   10.0   \n",
       "2     Financial Services   Mass Customer                   N      Yes   10.0   \n",
       "\n",
       "             address  postcode state    country property_valuation  \n",
       "0  984 Hoepker Court    3064.0   VIC  Australia                6.0  \n",
       "1  984 Hoepker Court    3064.0   VIC  Australia                6.0  \n",
       "2  984 Hoepker Court    3064.0   VIC  Australia                6.0  \n",
       "\n",
       "[3 rows x 29 columns]"
      ]
     },
     "execution_count": 28,
     "metadata": {},
     "output_type": "execute_result"
    }
   ],
   "source": [
    "df_all.head(3)"
   ]
  },
  {
   "cell_type": "code",
   "execution_count": 29,
   "id": "1fd3f9f9",
   "metadata": {},
   "outputs": [
    {
     "data": {
      "text/plain": [
       "Index(['transaction_id', 'product_id', 'customer_id', 'transaction_date',\n",
       "       'online_order', 'order_status', 'brand', 'product_line',\n",
       "       'product_class', 'product_size', 'list_price', 'standard_cost',\n",
       "       'product_first_sold_date', 'first_name', 'last_name', 'gender',\n",
       "       'past_3_years_bike_related_purchases', 'DOB', 'job_title',\n",
       "       'job_industry_category', 'wealth_segment', 'deceased_indicator',\n",
       "       'owns_car', 'tenure', 'address', 'postcode', 'state', 'country',\n",
       "       'property_valuation'],\n",
       "      dtype='object')"
      ]
     },
     "execution_count": 29,
     "metadata": {},
     "output_type": "execute_result"
    }
   ],
   "source": [
    "df_all.columns"
   ]
  },
  {
   "cell_type": "code",
   "execution_count": 30,
   "id": "c5ddc31f",
   "metadata": {},
   "outputs": [
    {
     "name": "stdout",
     "output_type": "stream",
     "text": [
      "transaction_id                          510\n",
      "product_id                              510\n",
      "customer_id                               0\n",
      "transaction_date                        510\n",
      "online_order                            870\n",
      "order_status                            510\n",
      "brand                                   707\n",
      "product_line                            707\n",
      "product_class                           707\n",
      "product_size                            707\n",
      "list_price                              510\n",
      "standard_cost                           707\n",
      "product_first_sold_date                 707\n",
      "first_name                                6\n",
      "last_name                               661\n",
      "gender                                    6\n",
      "past_3_years_bike_related_purchases       6\n",
      "DOB                                     463\n",
      "job_title                              2483\n",
      "job_industry_category                  3330\n",
      "wealth_segment                            6\n",
      "deceased_indicator                        6\n",
      "owns_car                                  6\n",
      "tenure                                  463\n",
      "address                                  32\n",
      "postcode                                 32\n",
      "state                                    32\n",
      "country                                  32\n",
      "property_valuation                       32\n",
      "dtype: int64 \n",
      "\n"
     ]
    }
   ],
   "source": [
    "# Check the data for missing values\n",
    "print(np.sum(df_all.isnull()), '\\n')"
   ]
  },
  {
   "cell_type": "markdown",
   "id": "7798f9cf",
   "metadata": {},
   "source": [
    "- There are **510 customers without having any transactions** => Need to be removed 510 records where 'transaction_id' is empty"
   ]
  },
  {
   "cell_type": "code",
   "execution_count": 31,
   "id": "45390c9e",
   "metadata": {},
   "outputs": [],
   "source": [
    "df_all = df_all.loc[~df_all['transaction_id'].isnull()]"
   ]
  },
  {
   "cell_type": "code",
   "execution_count": 32,
   "id": "2d4f5376",
   "metadata": {},
   "outputs": [
    {
     "data": {
      "text/html": [
       "<div>\n",
       "<style scoped>\n",
       "    .dataframe tbody tr th:only-of-type {\n",
       "        vertical-align: middle;\n",
       "    }\n",
       "\n",
       "    .dataframe tbody tr th {\n",
       "        vertical-align: top;\n",
       "    }\n",
       "\n",
       "    .dataframe thead th {\n",
       "        text-align: right;\n",
       "    }\n",
       "</style>\n",
       "<table border=\"1\" class=\"dataframe\">\n",
       "  <thead>\n",
       "    <tr style=\"text-align: right;\">\n",
       "      <th></th>\n",
       "      <th>transaction_id</th>\n",
       "      <th>product_id</th>\n",
       "      <th>customer_id</th>\n",
       "      <th>transaction_date</th>\n",
       "      <th>online_order</th>\n",
       "      <th>order_status</th>\n",
       "      <th>brand</th>\n",
       "      <th>product_line</th>\n",
       "      <th>product_class</th>\n",
       "      <th>product_size</th>\n",
       "      <th>...</th>\n",
       "      <th>job_industry_category</th>\n",
       "      <th>wealth_segment</th>\n",
       "      <th>deceased_indicator</th>\n",
       "      <th>owns_car</th>\n",
       "      <th>tenure</th>\n",
       "      <th>address</th>\n",
       "      <th>postcode</th>\n",
       "      <th>state</th>\n",
       "      <th>country</th>\n",
       "      <th>property_valuation</th>\n",
       "    </tr>\n",
       "  </thead>\n",
       "  <tbody>\n",
       "    <tr>\n",
       "      <th>19997</th>\n",
       "      <td>18462.0</td>\n",
       "      <td>80.0</td>\n",
       "      <td>2789</td>\n",
       "      <td>2017-06-20</td>\n",
       "      <td>0.0</td>\n",
       "      <td>Approved</td>\n",
       "      <td>OHM Cycles</td>\n",
       "      <td>Touring</td>\n",
       "      <td>low</td>\n",
       "      <td>medium</td>\n",
       "      <td>...</td>\n",
       "      <td>Financial Services</td>\n",
       "      <td>Affluent Customer</td>\n",
       "      <td>N</td>\n",
       "      <td>Yes</td>\n",
       "      <td>7.0</td>\n",
       "      <td>724 West Park</td>\n",
       "      <td>2112.0</td>\n",
       "      <td>NSW</td>\n",
       "      <td>Australia</td>\n",
       "      <td>11.0</td>\n",
       "    </tr>\n",
       "    <tr>\n",
       "      <th>19998</th>\n",
       "      <td>17981.0</td>\n",
       "      <td>69.0</td>\n",
       "      <td>3446</td>\n",
       "      <td>2017-12-26</td>\n",
       "      <td>1.0</td>\n",
       "      <td>Approved</td>\n",
       "      <td>Giant Bicycles</td>\n",
       "      <td>Road</td>\n",
       "      <td>medium</td>\n",
       "      <td>medium</td>\n",
       "      <td>...</td>\n",
       "      <td>Manufacturing</td>\n",
       "      <td>Mass Customer</td>\n",
       "      <td>N</td>\n",
       "      <td>No</td>\n",
       "      <td>14.0</td>\n",
       "      <td>8 Becker Drive</td>\n",
       "      <td>4868.0</td>\n",
       "      <td>QLD</td>\n",
       "      <td>Australia</td>\n",
       "      <td>4.0</td>\n",
       "    </tr>\n",
       "    <tr>\n",
       "      <th>19999</th>\n",
       "      <td>18165.0</td>\n",
       "      <td>86.0</td>\n",
       "      <td>3446</td>\n",
       "      <td>2017-12-03</td>\n",
       "      <td>0.0</td>\n",
       "      <td>Approved</td>\n",
       "      <td>OHM Cycles</td>\n",
       "      <td>Standard</td>\n",
       "      <td>medium</td>\n",
       "      <td>medium</td>\n",
       "      <td>...</td>\n",
       "      <td>Manufacturing</td>\n",
       "      <td>Mass Customer</td>\n",
       "      <td>N</td>\n",
       "      <td>No</td>\n",
       "      <td>14.0</td>\n",
       "      <td>8 Becker Drive</td>\n",
       "      <td>4868.0</td>\n",
       "      <td>QLD</td>\n",
       "      <td>Australia</td>\n",
       "      <td>4.0</td>\n",
       "    </tr>\n",
       "  </tbody>\n",
       "</table>\n",
       "<p>3 rows × 29 columns</p>\n",
       "</div>"
      ],
      "text/plain": [
       "       transaction_id  product_id  customer_id transaction_date  online_order  \\\n",
       "19997         18462.0        80.0         2789       2017-06-20           0.0   \n",
       "19998         17981.0        69.0         3446       2017-12-26           1.0   \n",
       "19999         18165.0        86.0         3446       2017-12-03           0.0   \n",
       "\n",
       "      order_status           brand product_line product_class product_size  \\\n",
       "19997     Approved      OHM Cycles      Touring           low       medium   \n",
       "19998     Approved  Giant Bicycles         Road        medium       medium   \n",
       "19999     Approved      OHM Cycles     Standard        medium       medium   \n",
       "\n",
       "       ...  job_industry_category     wealth_segment  deceased_indicator  \\\n",
       "19997  ...     Financial Services  Affluent Customer                   N   \n",
       "19998  ...          Manufacturing      Mass Customer                   N   \n",
       "19999  ...          Manufacturing      Mass Customer                   N   \n",
       "\n",
       "      owns_car tenure         address  postcode state    country  \\\n",
       "19997      Yes    7.0   724 West Park    2112.0   NSW  Australia   \n",
       "19998       No   14.0  8 Becker Drive    4868.0   QLD  Australia   \n",
       "19999       No   14.0  8 Becker Drive    4868.0   QLD  Australia   \n",
       "\n",
       "      property_valuation  \n",
       "19997               11.0  \n",
       "19998                4.0  \n",
       "19999                4.0  \n",
       "\n",
       "[3 rows x 29 columns]"
      ]
     },
     "execution_count": 32,
     "metadata": {},
     "output_type": "execute_result"
    }
   ],
   "source": [
    "df_all.tail(3)"
   ]
  },
  {
   "cell_type": "code",
   "execution_count": 33,
   "id": "89a6b8c0",
   "metadata": {},
   "outputs": [
    {
     "name": "stdout",
     "output_type": "stream",
     "text": [
      "The table has 20000 rows and 29 columns.\n"
     ]
    }
   ],
   "source": [
    "print('The table has', df_all.shape[0], 'rows and', df_all.shape[1], 'columns.')"
   ]
  },
  {
   "cell_type": "markdown",
   "id": "ed7852ff",
   "metadata": {},
   "source": [
    "**Create 'age' column and 'profit' column**"
   ]
  },
  {
   "cell_type": "code",
   "execution_count": null,
   "id": "b270e089",
   "metadata": {},
   "outputs": [],
   "source": [
    "df_all['DOB'].sort_values(ascending=True)"
   ]
  },
  {
   "cell_type": "code",
   "execution_count": 34,
   "id": "0369b320",
   "metadata": {},
   "outputs": [],
   "source": [
    "# Create 'age' column\n",
    "now = pd.Timestamp('now')\n",
    "\n",
    "df_all['DOB'] = pd.to_datetime(df_all['DOB'])\n",
    "df_all['age'] = now.year - df_all['DOB'].dt.year - (now.dayofyear < df_all['DOB'].dt.dayofyear)"
   ]
  },
  {
   "cell_type": "code",
   "execution_count": 35,
   "id": "33ed12bd",
   "metadata": {},
   "outputs": [],
   "source": [
    "# Create 'profit' column\n",
    "df_all['profit'] = df_all['list_price'] - df_all['standard_cost']"
   ]
  },
  {
   "cell_type": "code",
   "execution_count": 36,
   "id": "6df0f5ac",
   "metadata": {},
   "outputs": [
    {
     "data": {
      "text/html": [
       "<div>\n",
       "<style scoped>\n",
       "    .dataframe tbody tr th:only-of-type {\n",
       "        vertical-align: middle;\n",
       "    }\n",
       "\n",
       "    .dataframe tbody tr th {\n",
       "        vertical-align: top;\n",
       "    }\n",
       "\n",
       "    .dataframe thead th {\n",
       "        text-align: right;\n",
       "    }\n",
       "</style>\n",
       "<table border=\"1\" class=\"dataframe\">\n",
       "  <thead>\n",
       "    <tr style=\"text-align: right;\">\n",
       "      <th></th>\n",
       "      <th>transaction_id</th>\n",
       "      <th>product_id</th>\n",
       "      <th>customer_id</th>\n",
       "      <th>transaction_date</th>\n",
       "      <th>online_order</th>\n",
       "      <th>order_status</th>\n",
       "      <th>brand</th>\n",
       "      <th>product_line</th>\n",
       "      <th>product_class</th>\n",
       "      <th>product_size</th>\n",
       "      <th>...</th>\n",
       "      <th>deceased_indicator</th>\n",
       "      <th>owns_car</th>\n",
       "      <th>tenure</th>\n",
       "      <th>address</th>\n",
       "      <th>postcode</th>\n",
       "      <th>state</th>\n",
       "      <th>country</th>\n",
       "      <th>property_valuation</th>\n",
       "      <th>age</th>\n",
       "      <th>profit</th>\n",
       "    </tr>\n",
       "  </thead>\n",
       "  <tbody>\n",
       "    <tr>\n",
       "      <th>0</th>\n",
       "      <td>1.0</td>\n",
       "      <td>2.0</td>\n",
       "      <td>2950</td>\n",
       "      <td>2017-02-25</td>\n",
       "      <td>0.0</td>\n",
       "      <td>Approved</td>\n",
       "      <td>Solex</td>\n",
       "      <td>Standard</td>\n",
       "      <td>medium</td>\n",
       "      <td>medium</td>\n",
       "      <td>...</td>\n",
       "      <td>N</td>\n",
       "      <td>Yes</td>\n",
       "      <td>10.0</td>\n",
       "      <td>984 Hoepker Court</td>\n",
       "      <td>3064.0</td>\n",
       "      <td>VIC</td>\n",
       "      <td>Australia</td>\n",
       "      <td>6.0</td>\n",
       "      <td>68.0</td>\n",
       "      <td>17.87</td>\n",
       "    </tr>\n",
       "    <tr>\n",
       "      <th>1</th>\n",
       "      <td>11065.0</td>\n",
       "      <td>1.0</td>\n",
       "      <td>2950</td>\n",
       "      <td>2017-10-16</td>\n",
       "      <td>0.0</td>\n",
       "      <td>Approved</td>\n",
       "      <td>Giant Bicycles</td>\n",
       "      <td>Standard</td>\n",
       "      <td>medium</td>\n",
       "      <td>medium</td>\n",
       "      <td>...</td>\n",
       "      <td>N</td>\n",
       "      <td>Yes</td>\n",
       "      <td>10.0</td>\n",
       "      <td>984 Hoepker Court</td>\n",
       "      <td>3064.0</td>\n",
       "      <td>VIC</td>\n",
       "      <td>Australia</td>\n",
       "      <td>6.0</td>\n",
       "      <td>68.0</td>\n",
       "      <td>448.68</td>\n",
       "    </tr>\n",
       "    <tr>\n",
       "      <th>2</th>\n",
       "      <td>18923.0</td>\n",
       "      <td>62.0</td>\n",
       "      <td>2950</td>\n",
       "      <td>2017-04-26</td>\n",
       "      <td>0.0</td>\n",
       "      <td>Approved</td>\n",
       "      <td>Solex</td>\n",
       "      <td>Standard</td>\n",
       "      <td>medium</td>\n",
       "      <td>medium</td>\n",
       "      <td>...</td>\n",
       "      <td>N</td>\n",
       "      <td>Yes</td>\n",
       "      <td>10.0</td>\n",
       "      <td>984 Hoepker Court</td>\n",
       "      <td>3064.0</td>\n",
       "      <td>VIC</td>\n",
       "      <td>Australia</td>\n",
       "      <td>6.0</td>\n",
       "      <td>68.0</td>\n",
       "      <td>179.44</td>\n",
       "    </tr>\n",
       "  </tbody>\n",
       "</table>\n",
       "<p>3 rows × 31 columns</p>\n",
       "</div>"
      ],
      "text/plain": [
       "   transaction_id  product_id  customer_id transaction_date  online_order  \\\n",
       "0             1.0         2.0         2950       2017-02-25           0.0   \n",
       "1         11065.0         1.0         2950       2017-10-16           0.0   \n",
       "2         18923.0        62.0         2950       2017-04-26           0.0   \n",
       "\n",
       "  order_status           brand product_line product_class product_size  ...  \\\n",
       "0     Approved           Solex     Standard        medium       medium  ...   \n",
       "1     Approved  Giant Bicycles     Standard        medium       medium  ...   \n",
       "2     Approved           Solex     Standard        medium       medium  ...   \n",
       "\n",
       "   deceased_indicator  owns_car  tenure            address postcode state  \\\n",
       "0                   N       Yes    10.0  984 Hoepker Court   3064.0   VIC   \n",
       "1                   N       Yes    10.0  984 Hoepker Court   3064.0   VIC   \n",
       "2                   N       Yes    10.0  984 Hoepker Court   3064.0   VIC   \n",
       "\n",
       "     country property_valuation   age  profit  \n",
       "0  Australia                6.0  68.0   17.87  \n",
       "1  Australia                6.0  68.0  448.68  \n",
       "2  Australia                6.0  68.0  179.44  \n",
       "\n",
       "[3 rows x 31 columns]"
      ]
     },
     "execution_count": 36,
     "metadata": {},
     "output_type": "execute_result"
    }
   ],
   "source": [
    "df_all = df_all.fillna(0)\n",
    "df_all.head(3)"
   ]
  },
  {
   "cell_type": "code",
   "execution_count": 37,
   "id": "a2309975",
   "metadata": {},
   "outputs": [
    {
     "data": {
      "text/plain": [
       "transaction_id                                float64\n",
       "product_id                                    float64\n",
       "customer_id                                     int64\n",
       "transaction_date                       datetime64[ns]\n",
       "online_order                                  float64\n",
       "order_status                                   object\n",
       "brand                                          object\n",
       "product_line                                   object\n",
       "product_class                                  object\n",
       "product_size                                   object\n",
       "list_price                                    float64\n",
       "standard_cost                                 float64\n",
       "product_first_sold_date                       float64\n",
       "first_name                                     object\n",
       "last_name                                      object\n",
       "gender                                         object\n",
       "past_3_years_bike_related_purchases           float64\n",
       "DOB                                            object\n",
       "job_title                                      object\n",
       "job_industry_category                          object\n",
       "wealth_segment                                 object\n",
       "deceased_indicator                             object\n",
       "owns_car                                       object\n",
       "tenure                                        float64\n",
       "address                                        object\n",
       "postcode                                      float64\n",
       "state                                          object\n",
       "country                                        object\n",
       "property_valuation                            float64\n",
       "age                                           float64\n",
       "profit                                        float64\n",
       "dtype: object"
      ]
     },
     "execution_count": 37,
     "metadata": {},
     "output_type": "execute_result"
    }
   ],
   "source": [
    "df_all.dtypes"
   ]
  },
  {
   "cell_type": "markdown",
   "id": "c52ccd66",
   "metadata": {},
   "source": [
    "### 2.4. Convert"
   ]
  },
  {
   "cell_type": "code",
   "execution_count": 38,
   "id": "112031f6",
   "metadata": {},
   "outputs": [],
   "source": [
    "# Convert 'float' type into 'int' type\n",
    "df_all['transaction_id'] = df_all['transaction_id'].apply(np.int64)\n",
    "df_all['product_id'] = df_all['product_id'].apply(np.int64)\n",
    "df_all['property_valuation'] = df_all['property_valuation'].apply(np.int64)\n",
    "df_all['past_3_years_bike_related_purchases'] = df_all['past_3_years_bike_related_purchases'].apply(np.int64)\n",
    "df_all['property_valuation'] = df_all['property_valuation'].apply(np.int64)\n",
    "df_all['age'] = df_all['age'].apply(np.int64)\n",
    "df_all['tenure'] = df_all['tenure'].apply(np.int64)"
   ]
  },
  {
   "cell_type": "code",
   "execution_count": 42,
   "id": "7d7b48b1",
   "metadata": {},
   "outputs": [
    {
     "data": {
      "text/html": [
       "<div>\n",
       "<style scoped>\n",
       "    .dataframe tbody tr th:only-of-type {\n",
       "        vertical-align: middle;\n",
       "    }\n",
       "\n",
       "    .dataframe tbody tr th {\n",
       "        vertical-align: top;\n",
       "    }\n",
       "\n",
       "    .dataframe thead th {\n",
       "        text-align: right;\n",
       "    }\n",
       "</style>\n",
       "<table border=\"1\" class=\"dataframe\">\n",
       "  <thead>\n",
       "    <tr style=\"text-align: right;\">\n",
       "      <th></th>\n",
       "      <th>online_order</th>\n",
       "      <th>list_price</th>\n",
       "      <th>standard_cost</th>\n",
       "      <th>product_first_sold_date</th>\n",
       "      <th>past_3_years_bike_related_purchases</th>\n",
       "      <th>tenure</th>\n",
       "      <th>postcode</th>\n",
       "      <th>property_valuation</th>\n",
       "      <th>age</th>\n",
       "      <th>profit</th>\n",
       "    </tr>\n",
       "  </thead>\n",
       "  <tbody>\n",
       "    <tr>\n",
       "      <th>count</th>\n",
       "      <td>20000.00</td>\n",
       "      <td>20000.00</td>\n",
       "      <td>20000.00</td>\n",
       "      <td>20000.00</td>\n",
       "      <td>20000.00</td>\n",
       "      <td>20000.00</td>\n",
       "      <td>20000.00</td>\n",
       "      <td>20000.00</td>\n",
       "      <td>20000.00</td>\n",
       "      <td>20000.00</td>\n",
       "    </tr>\n",
       "    <tr>\n",
       "      <th>mean</th>\n",
       "      <td>0.49</td>\n",
       "      <td>1107.83</td>\n",
       "      <td>550.57</td>\n",
       "      <td>37823.51</td>\n",
       "      <td>48.77</td>\n",
       "      <td>10.44</td>\n",
       "      <td>2982.84</td>\n",
       "      <td>7.50</td>\n",
       "      <td>44.46</td>\n",
       "      <td>546.51</td>\n",
       "    </tr>\n",
       "    <tr>\n",
       "      <th>std</th>\n",
       "      <td>0.50</td>\n",
       "      <td>582.83</td>\n",
       "      <td>407.67</td>\n",
       "      <td>4734.75</td>\n",
       "      <td>28.60</td>\n",
       "      <td>5.83</td>\n",
       "      <td>858.97</td>\n",
       "      <td>2.84</td>\n",
       "      <td>14.45</td>\n",
       "      <td>493.99</td>\n",
       "    </tr>\n",
       "    <tr>\n",
       "      <th>min</th>\n",
       "      <td>0.00</td>\n",
       "      <td>12.01</td>\n",
       "      <td>0.00</td>\n",
       "      <td>0.00</td>\n",
       "      <td>0.00</td>\n",
       "      <td>0.00</td>\n",
       "      <td>0.00</td>\n",
       "      <td>0.00</td>\n",
       "      <td>0.00</td>\n",
       "      <td>0.00</td>\n",
       "    </tr>\n",
       "    <tr>\n",
       "      <th>25%</th>\n",
       "      <td>0.00</td>\n",
       "      <td>575.27</td>\n",
       "      <td>215.03</td>\n",
       "      <td>35560.00</td>\n",
       "      <td>24.00</td>\n",
       "      <td>6.00</td>\n",
       "      <td>2200.00</td>\n",
       "      <td>6.00</td>\n",
       "      <td>35.00</td>\n",
       "      <td>133.78</td>\n",
       "    </tr>\n",
       "    <tr>\n",
       "      <th>50%</th>\n",
       "      <td>0.00</td>\n",
       "      <td>1163.89</td>\n",
       "      <td>464.72</td>\n",
       "      <td>38206.00</td>\n",
       "      <td>48.00</td>\n",
       "      <td>10.00</td>\n",
       "      <td>2767.00</td>\n",
       "      <td>8.00</td>\n",
       "      <td>45.00</td>\n",
       "      <td>437.46</td>\n",
       "    </tr>\n",
       "    <tr>\n",
       "      <th>75%</th>\n",
       "      <td>1.00</td>\n",
       "      <td>1635.30</td>\n",
       "      <td>795.10</td>\n",
       "      <td>40672.00</td>\n",
       "      <td>73.00</td>\n",
       "      <td>15.00</td>\n",
       "      <td>3752.00</td>\n",
       "      <td>10.00</td>\n",
       "      <td>55.00</td>\n",
       "      <td>827.16</td>\n",
       "    </tr>\n",
       "    <tr>\n",
       "      <th>max</th>\n",
       "      <td>1.00</td>\n",
       "      <td>2091.47</td>\n",
       "      <td>1759.85</td>\n",
       "      <td>42710.00</td>\n",
       "      <td>99.00</td>\n",
       "      <td>22.00</td>\n",
       "      <td>4883.00</td>\n",
       "      <td>12.00</td>\n",
       "      <td>179.00</td>\n",
       "      <td>1702.55</td>\n",
       "    </tr>\n",
       "  </tbody>\n",
       "</table>\n",
       "</div>"
      ],
      "text/plain": [
       "      online_order list_price standard_cost product_first_sold_date  \\\n",
       "count     20000.00   20000.00      20000.00                20000.00   \n",
       "mean          0.49    1107.83        550.57                37823.51   \n",
       "std           0.50     582.83        407.67                 4734.75   \n",
       "min           0.00      12.01          0.00                    0.00   \n",
       "25%           0.00     575.27        215.03                35560.00   \n",
       "50%           0.00    1163.89        464.72                38206.00   \n",
       "75%           1.00    1635.30        795.10                40672.00   \n",
       "max           1.00    2091.47       1759.85                42710.00   \n",
       "\n",
       "      past_3_years_bike_related_purchases    tenure  postcode  \\\n",
       "count                            20000.00  20000.00  20000.00   \n",
       "mean                                48.77     10.44   2982.84   \n",
       "std                                 28.60      5.83    858.97   \n",
       "min                                  0.00      0.00      0.00   \n",
       "25%                                 24.00      6.00   2200.00   \n",
       "50%                                 48.00     10.00   2767.00   \n",
       "75%                                 73.00     15.00   3752.00   \n",
       "max                                 99.00     22.00   4883.00   \n",
       "\n",
       "      property_valuation       age    profit  \n",
       "count           20000.00  20000.00  20000.00  \n",
       "mean                7.50     44.46    546.51  \n",
       "std                 2.84     14.45    493.99  \n",
       "min                 0.00      0.00      0.00  \n",
       "25%                 6.00     35.00    133.78  \n",
       "50%                 8.00     45.00    437.46  \n",
       "75%                10.00     55.00    827.16  \n",
       "max                12.00    179.00   1702.55  "
      ]
     },
     "execution_count": 42,
     "metadata": {},
     "output_type": "execute_result"
    }
   ],
   "source": [
    "df_all.drop(['transaction_id', 'product_id', 'customer_id'], axis=1).describe().applymap(lambda x: f'{x:0.2f}')"
   ]
  },
  {
   "cell_type": "markdown",
   "id": "236297f9",
   "metadata": {},
   "source": [
    "- There are outliers at the 'age' column with min age is 0 and max age is 179 => needs to be removed since they are wrong infomation"
   ]
  },
  {
   "cell_type": "code",
   "execution_count": 44,
   "id": "c4ac4106",
   "metadata": {},
   "outputs": [
    {
     "data": {
      "text/html": [
       "<div>\n",
       "<style scoped>\n",
       "    .dataframe tbody tr th:only-of-type {\n",
       "        vertical-align: middle;\n",
       "    }\n",
       "\n",
       "    .dataframe tbody tr th {\n",
       "        vertical-align: top;\n",
       "    }\n",
       "\n",
       "    .dataframe thead th {\n",
       "        text-align: right;\n",
       "    }\n",
       "</style>\n",
       "<table border=\"1\" class=\"dataframe\">\n",
       "  <thead>\n",
       "    <tr style=\"text-align: right;\">\n",
       "      <th></th>\n",
       "      <th>transaction_id</th>\n",
       "      <th>product_id</th>\n",
       "      <th>customer_id</th>\n",
       "      <th>transaction_date</th>\n",
       "      <th>online_order</th>\n",
       "      <th>order_status</th>\n",
       "      <th>brand</th>\n",
       "      <th>product_line</th>\n",
       "      <th>product_class</th>\n",
       "      <th>product_size</th>\n",
       "      <th>...</th>\n",
       "      <th>deceased_indicator</th>\n",
       "      <th>owns_car</th>\n",
       "      <th>tenure</th>\n",
       "      <th>address</th>\n",
       "      <th>postcode</th>\n",
       "      <th>state</th>\n",
       "      <th>country</th>\n",
       "      <th>property_valuation</th>\n",
       "      <th>age</th>\n",
       "      <th>profit</th>\n",
       "    </tr>\n",
       "  </thead>\n",
       "  <tbody>\n",
       "    <tr>\n",
       "      <th>7710</th>\n",
       "      <td>1445</td>\n",
       "      <td>32</td>\n",
       "      <td>1244</td>\n",
       "      <td>2017-11-14</td>\n",
       "      <td>0.0</td>\n",
       "      <td>Approved</td>\n",
       "      <td>Giant Bicycles</td>\n",
       "      <td>Standard</td>\n",
       "      <td>medium</td>\n",
       "      <td>medium</td>\n",
       "      <td>...</td>\n",
       "      <td>N</td>\n",
       "      <td>Yes</td>\n",
       "      <td>0</td>\n",
       "      <td>3466 Truax Terrace</td>\n",
       "      <td>2127.0</td>\n",
       "      <td>NSW</td>\n",
       "      <td>Australia</td>\n",
       "      <td>8</td>\n",
       "      <td>0</td>\n",
       "      <td>431.33</td>\n",
       "    </tr>\n",
       "    <tr>\n",
       "      <th>7627</th>\n",
       "      <td>18276</td>\n",
       "      <td>7</td>\n",
       "      <td>2469</td>\n",
       "      <td>2017-09-09</td>\n",
       "      <td>1.0</td>\n",
       "      <td>Approved</td>\n",
       "      <td>Trek Bicycles</td>\n",
       "      <td>Road</td>\n",
       "      <td>low</td>\n",
       "      <td>medium</td>\n",
       "      <td>...</td>\n",
       "      <td>N</td>\n",
       "      <td>Yes</td>\n",
       "      <td>0</td>\n",
       "      <td>49 Talmadge Trail</td>\n",
       "      <td>2036.0</td>\n",
       "      <td>NSW</td>\n",
       "      <td>Australia</td>\n",
       "      <td>11</td>\n",
       "      <td>0</td>\n",
       "      <td>745.94</td>\n",
       "    </tr>\n",
       "    <tr>\n",
       "      <th>7626</th>\n",
       "      <td>17668</td>\n",
       "      <td>8</td>\n",
       "      <td>2469</td>\n",
       "      <td>2017-06-19</td>\n",
       "      <td>1.0</td>\n",
       "      <td>Approved</td>\n",
       "      <td>Solex</td>\n",
       "      <td>Road</td>\n",
       "      <td>medium</td>\n",
       "      <td>small</td>\n",
       "      <td>...</td>\n",
       "      <td>N</td>\n",
       "      <td>Yes</td>\n",
       "      <td>0</td>\n",
       "      <td>49 Talmadge Trail</td>\n",
       "      <td>2036.0</td>\n",
       "      <td>NSW</td>\n",
       "      <td>Australia</td>\n",
       "      <td>11</td>\n",
       "      <td>0</td>\n",
       "      <td>187.39</td>\n",
       "    </tr>\n",
       "    <tr>\n",
       "      <th>7624</th>\n",
       "      <td>12802</td>\n",
       "      <td>33</td>\n",
       "      <td>2469</td>\n",
       "      <td>2017-06-06</td>\n",
       "      <td>1.0</td>\n",
       "      <td>Approved</td>\n",
       "      <td>Giant Bicycles</td>\n",
       "      <td>Standard</td>\n",
       "      <td>medium</td>\n",
       "      <td>small</td>\n",
       "      <td>...</td>\n",
       "      <td>N</td>\n",
       "      <td>Yes</td>\n",
       "      <td>0</td>\n",
       "      <td>49 Talmadge Trail</td>\n",
       "      <td>2036.0</td>\n",
       "      <td>NSW</td>\n",
       "      <td>Australia</td>\n",
       "      <td>11</td>\n",
       "      <td>0</td>\n",
       "      <td>144.26</td>\n",
       "    </tr>\n",
       "    <tr>\n",
       "      <th>7623</th>\n",
       "      <td>10859</td>\n",
       "      <td>45</td>\n",
       "      <td>2469</td>\n",
       "      <td>2017-08-06</td>\n",
       "      <td>1.0</td>\n",
       "      <td>Approved</td>\n",
       "      <td>Solex</td>\n",
       "      <td>Standard</td>\n",
       "      <td>medium</td>\n",
       "      <td>medium</td>\n",
       "      <td>...</td>\n",
       "      <td>N</td>\n",
       "      <td>Yes</td>\n",
       "      <td>0</td>\n",
       "      <td>49 Talmadge Trail</td>\n",
       "      <td>2036.0</td>\n",
       "      <td>NSW</td>\n",
       "      <td>Australia</td>\n",
       "      <td>11</td>\n",
       "      <td>0</td>\n",
       "      <td>356.50</td>\n",
       "    </tr>\n",
       "    <tr>\n",
       "      <th>...</th>\n",
       "      <td>...</td>\n",
       "      <td>...</td>\n",
       "      <td>...</td>\n",
       "      <td>...</td>\n",
       "      <td>...</td>\n",
       "      <td>...</td>\n",
       "      <td>...</td>\n",
       "      <td>...</td>\n",
       "      <td>...</td>\n",
       "      <td>...</td>\n",
       "      <td>...</td>\n",
       "      <td>...</td>\n",
       "      <td>...</td>\n",
       "      <td>...</td>\n",
       "      <td>...</td>\n",
       "      <td>...</td>\n",
       "      <td>...</td>\n",
       "      <td>...</td>\n",
       "      <td>...</td>\n",
       "      <td>...</td>\n",
       "      <td>...</td>\n",
       "    </tr>\n",
       "    <tr>\n",
       "      <th>5907</th>\n",
       "      <td>12083</td>\n",
       "      <td>13</td>\n",
       "      <td>34</td>\n",
       "      <td>2017-07-23</td>\n",
       "      <td>0.0</td>\n",
       "      <td>Approved</td>\n",
       "      <td>Solex</td>\n",
       "      <td>Standard</td>\n",
       "      <td>medium</td>\n",
       "      <td>medium</td>\n",
       "      <td>...</td>\n",
       "      <td>N</td>\n",
       "      <td>No</td>\n",
       "      <td>20</td>\n",
       "      <td>833 Luster Way</td>\n",
       "      <td>4005.0</td>\n",
       "      <td>QLD</td>\n",
       "      <td>Australia</td>\n",
       "      <td>8</td>\n",
       "      <td>179</td>\n",
       "      <td>574.62</td>\n",
       "    </tr>\n",
       "    <tr>\n",
       "      <th>5908</th>\n",
       "      <td>16935</td>\n",
       "      <td>0</td>\n",
       "      <td>34</td>\n",
       "      <td>2017-02-14</td>\n",
       "      <td>0.0</td>\n",
       "      <td>Approved</td>\n",
       "      <td>0</td>\n",
       "      <td>0</td>\n",
       "      <td>0</td>\n",
       "      <td>0</td>\n",
       "      <td>...</td>\n",
       "      <td>N</td>\n",
       "      <td>No</td>\n",
       "      <td>20</td>\n",
       "      <td>833 Luster Way</td>\n",
       "      <td>4005.0</td>\n",
       "      <td>QLD</td>\n",
       "      <td>Australia</td>\n",
       "      <td>8</td>\n",
       "      <td>179</td>\n",
       "      <td>0.00</td>\n",
       "    </tr>\n",
       "    <tr>\n",
       "      <th>5909</th>\n",
       "      <td>17808</td>\n",
       "      <td>96</td>\n",
       "      <td>34</td>\n",
       "      <td>2017-04-10</td>\n",
       "      <td>1.0</td>\n",
       "      <td>Approved</td>\n",
       "      <td>WeareA2B</td>\n",
       "      <td>Road</td>\n",
       "      <td>low</td>\n",
       "      <td>small</td>\n",
       "      <td>...</td>\n",
       "      <td>N</td>\n",
       "      <td>No</td>\n",
       "      <td>20</td>\n",
       "      <td>833 Luster Way</td>\n",
       "      <td>4005.0</td>\n",
       "      <td>QLD</td>\n",
       "      <td>Australia</td>\n",
       "      <td>8</td>\n",
       "      <td>179</td>\n",
       "      <td>129.01</td>\n",
       "    </tr>\n",
       "    <tr>\n",
       "      <th>5910</th>\n",
       "      <td>19291</td>\n",
       "      <td>65</td>\n",
       "      <td>34</td>\n",
       "      <td>2017-09-19</td>\n",
       "      <td>0.0</td>\n",
       "      <td>Approved</td>\n",
       "      <td>WeareA2B</td>\n",
       "      <td>Standard</td>\n",
       "      <td>medium</td>\n",
       "      <td>medium</td>\n",
       "      <td>...</td>\n",
       "      <td>N</td>\n",
       "      <td>No</td>\n",
       "      <td>20</td>\n",
       "      <td>833 Luster Way</td>\n",
       "      <td>4005.0</td>\n",
       "      <td>QLD</td>\n",
       "      <td>Australia</td>\n",
       "      <td>8</td>\n",
       "      <td>179</td>\n",
       "      <td>1028.76</td>\n",
       "    </tr>\n",
       "    <tr>\n",
       "      <th>5905</th>\n",
       "      <td>9044</td>\n",
       "      <td>12</td>\n",
       "      <td>34</td>\n",
       "      <td>2017-02-13</td>\n",
       "      <td>0.0</td>\n",
       "      <td>Approved</td>\n",
       "      <td>WeareA2B</td>\n",
       "      <td>Standard</td>\n",
       "      <td>medium</td>\n",
       "      <td>medium</td>\n",
       "      <td>...</td>\n",
       "      <td>N</td>\n",
       "      <td>No</td>\n",
       "      <td>20</td>\n",
       "      <td>833 Luster Way</td>\n",
       "      <td>4005.0</td>\n",
       "      <td>QLD</td>\n",
       "      <td>Australia</td>\n",
       "      <td>8</td>\n",
       "      <td>179</td>\n",
       "      <td>1069.55</td>\n",
       "    </tr>\n",
       "  </tbody>\n",
       "</table>\n",
       "<p>20000 rows × 31 columns</p>\n",
       "</div>"
      ],
      "text/plain": [
       "      transaction_id  product_id  customer_id transaction_date  online_order  \\\n",
       "7710            1445          32         1244       2017-11-14           0.0   \n",
       "7627           18276           7         2469       2017-09-09           1.0   \n",
       "7626           17668           8         2469       2017-06-19           1.0   \n",
       "7624           12802          33         2469       2017-06-06           1.0   \n",
       "7623           10859          45         2469       2017-08-06           1.0   \n",
       "...              ...         ...          ...              ...           ...   \n",
       "5907           12083          13           34       2017-07-23           0.0   \n",
       "5908           16935           0           34       2017-02-14           0.0   \n",
       "5909           17808          96           34       2017-04-10           1.0   \n",
       "5910           19291          65           34       2017-09-19           0.0   \n",
       "5905            9044          12           34       2017-02-13           0.0   \n",
       "\n",
       "     order_status           brand product_line product_class product_size  \\\n",
       "7710     Approved  Giant Bicycles     Standard        medium       medium   \n",
       "7627     Approved   Trek Bicycles         Road           low       medium   \n",
       "7626     Approved           Solex         Road        medium        small   \n",
       "7624     Approved  Giant Bicycles     Standard        medium        small   \n",
       "7623     Approved           Solex     Standard        medium       medium   \n",
       "...           ...             ...          ...           ...          ...   \n",
       "5907     Approved           Solex     Standard        medium       medium   \n",
       "5908     Approved               0            0             0            0   \n",
       "5909     Approved        WeareA2B         Road           low        small   \n",
       "5910     Approved        WeareA2B     Standard        medium       medium   \n",
       "5905     Approved        WeareA2B     Standard        medium       medium   \n",
       "\n",
       "      ...  deceased_indicator  owns_car  tenure             address postcode  \\\n",
       "7710  ...                   N       Yes       0  3466 Truax Terrace   2127.0   \n",
       "7627  ...                   N       Yes       0   49 Talmadge Trail   2036.0   \n",
       "7626  ...                   N       Yes       0   49 Talmadge Trail   2036.0   \n",
       "7624  ...                   N       Yes       0   49 Talmadge Trail   2036.0   \n",
       "7623  ...                   N       Yes       0   49 Talmadge Trail   2036.0   \n",
       "...   ...                 ...       ...     ...                 ...      ...   \n",
       "5907  ...                   N        No      20      833 Luster Way   4005.0   \n",
       "5908  ...                   N        No      20      833 Luster Way   4005.0   \n",
       "5909  ...                   N        No      20      833 Luster Way   4005.0   \n",
       "5910  ...                   N        No      20      833 Luster Way   4005.0   \n",
       "5905  ...                   N        No      20      833 Luster Way   4005.0   \n",
       "\n",
       "     state    country property_valuation  age   profit  \n",
       "7710   NSW  Australia                  8    0   431.33  \n",
       "7627   NSW  Australia                 11    0   745.94  \n",
       "7626   NSW  Australia                 11    0   187.39  \n",
       "7624   NSW  Australia                 11    0   144.26  \n",
       "7623   NSW  Australia                 11    0   356.50  \n",
       "...    ...        ...                ...  ...      ...  \n",
       "5907   QLD  Australia                  8  179   574.62  \n",
       "5908   QLD  Australia                  8  179     0.00  \n",
       "5909   QLD  Australia                  8  179   129.01  \n",
       "5910   QLD  Australia                  8  179  1028.76  \n",
       "5905   QLD  Australia                  8  179  1069.55  \n",
       "\n",
       "[20000 rows x 31 columns]"
      ]
     },
     "execution_count": 44,
     "metadata": {},
     "output_type": "execute_result"
    }
   ],
   "source": [
    "df_all.sort_values(['age'])"
   ]
  },
  {
   "cell_type": "code",
   "execution_count": null,
   "id": "0371632b",
   "metadata": {},
   "outputs": [],
   "source": []
  },
  {
   "cell_type": "code",
   "execution_count": null,
   "id": "5673ec99",
   "metadata": {},
   "outputs": [],
   "source": []
  },
  {
   "cell_type": "code",
   "execution_count": 43,
   "id": "47906289",
   "metadata": {},
   "outputs": [
    {
     "data": {
      "text/html": [
       "<div>\n",
       "<style scoped>\n",
       "    .dataframe tbody tr th:only-of-type {\n",
       "        vertical-align: middle;\n",
       "    }\n",
       "\n",
       "    .dataframe tbody tr th {\n",
       "        vertical-align: top;\n",
       "    }\n",
       "\n",
       "    .dataframe thead th {\n",
       "        text-align: right;\n",
       "    }\n",
       "</style>\n",
       "<table border=\"1\" class=\"dataframe\">\n",
       "  <thead>\n",
       "    <tr style=\"text-align: right;\">\n",
       "      <th></th>\n",
       "      <th>online_order</th>\n",
       "      <th>list_price</th>\n",
       "      <th>standard_cost</th>\n",
       "      <th>product_first_sold_date</th>\n",
       "      <th>past_3_years_bike_related_purchases</th>\n",
       "      <th>tenure</th>\n",
       "      <th>postcode</th>\n",
       "      <th>property_valuation</th>\n",
       "      <th>age</th>\n",
       "      <th>profit</th>\n",
       "    </tr>\n",
       "  </thead>\n",
       "  <tbody>\n",
       "    <tr>\n",
       "      <th>online_order</th>\n",
       "      <td>1.000000</td>\n",
       "      <td>-0.001491</td>\n",
       "      <td>0.006535</td>\n",
       "      <td>0.006441</td>\n",
       "      <td>0.003365</td>\n",
       "      <td>0.008264</td>\n",
       "      <td>0.001224</td>\n",
       "      <td>-0.000185</td>\n",
       "      <td>-0.007693</td>\n",
       "      <td>-0.006230</td>\n",
       "    </tr>\n",
       "    <tr>\n",
       "      <th>list_price</th>\n",
       "      <td>-0.001491</td>\n",
       "      <td>1.000000</td>\n",
       "      <td>0.544153</td>\n",
       "      <td>0.038001</td>\n",
       "      <td>0.007130</td>\n",
       "      <td>-0.008476</td>\n",
       "      <td>0.012627</td>\n",
       "      <td>-0.009905</td>\n",
       "      <td>-0.006321</td>\n",
       "      <td>0.719563</td>\n",
       "    </tr>\n",
       "    <tr>\n",
       "      <th>standard_cost</th>\n",
       "      <td>0.006535</td>\n",
       "      <td>0.544153</td>\n",
       "      <td>1.000000</td>\n",
       "      <td>0.125946</td>\n",
       "      <td>-0.007101</td>\n",
       "      <td>-0.012669</td>\n",
       "      <td>0.011500</td>\n",
       "      <td>0.000073</td>\n",
       "      <td>0.003330</td>\n",
       "      <td>-0.153864</td>\n",
       "    </tr>\n",
       "    <tr>\n",
       "      <th>product_first_sold_date</th>\n",
       "      <td>0.006441</td>\n",
       "      <td>0.038001</td>\n",
       "      <td>0.125946</td>\n",
       "      <td>1.000000</td>\n",
       "      <td>0.010218</td>\n",
       "      <td>0.008932</td>\n",
       "      <td>0.016546</td>\n",
       "      <td>-0.001472</td>\n",
       "      <td>0.011883</td>\n",
       "      <td>0.114673</td>\n",
       "    </tr>\n",
       "    <tr>\n",
       "      <th>past_3_years_bike_related_purchases</th>\n",
       "      <td>0.003365</td>\n",
       "      <td>0.007130</td>\n",
       "      <td>-0.007101</td>\n",
       "      <td>0.010218</td>\n",
       "      <td>1.000000</td>\n",
       "      <td>-0.009356</td>\n",
       "      <td>-0.018122</td>\n",
       "      <td>0.011350</td>\n",
       "      <td>-0.015272</td>\n",
       "      <td>0.016697</td>\n",
       "    </tr>\n",
       "    <tr>\n",
       "      <th>tenure</th>\n",
       "      <td>0.008264</td>\n",
       "      <td>-0.008476</td>\n",
       "      <td>-0.012669</td>\n",
       "      <td>0.008932</td>\n",
       "      <td>-0.009356</td>\n",
       "      <td>1.000000</td>\n",
       "      <td>0.011496</td>\n",
       "      <td>-0.018016</td>\n",
       "      <td>0.499967</td>\n",
       "      <td>0.000920</td>\n",
       "    </tr>\n",
       "    <tr>\n",
       "      <th>postcode</th>\n",
       "      <td>0.001224</td>\n",
       "      <td>0.012627</td>\n",
       "      <td>0.011500</td>\n",
       "      <td>0.016546</td>\n",
       "      <td>-0.018122</td>\n",
       "      <td>0.011496</td>\n",
       "      <td>1.000000</td>\n",
       "      <td>-0.495346</td>\n",
       "      <td>-0.009721</td>\n",
       "      <td>0.009429</td>\n",
       "    </tr>\n",
       "    <tr>\n",
       "      <th>property_valuation</th>\n",
       "      <td>-0.000185</td>\n",
       "      <td>-0.009905</td>\n",
       "      <td>0.000073</td>\n",
       "      <td>-0.001472</td>\n",
       "      <td>0.011350</td>\n",
       "      <td>-0.018016</td>\n",
       "      <td>-0.495346</td>\n",
       "      <td>1.000000</td>\n",
       "      <td>0.012282</td>\n",
       "      <td>-0.011828</td>\n",
       "    </tr>\n",
       "    <tr>\n",
       "      <th>age</th>\n",
       "      <td>-0.007693</td>\n",
       "      <td>-0.006321</td>\n",
       "      <td>0.003330</td>\n",
       "      <td>0.011883</td>\n",
       "      <td>-0.015272</td>\n",
       "      <td>0.499967</td>\n",
       "      <td>-0.009721</td>\n",
       "      <td>0.012282</td>\n",
       "      <td>1.000000</td>\n",
       "      <td>-0.009513</td>\n",
       "    </tr>\n",
       "    <tr>\n",
       "      <th>profit</th>\n",
       "      <td>-0.006230</td>\n",
       "      <td>0.719563</td>\n",
       "      <td>-0.153864</td>\n",
       "      <td>0.114673</td>\n",
       "      <td>0.016697</td>\n",
       "      <td>0.000920</td>\n",
       "      <td>0.009429</td>\n",
       "      <td>-0.011828</td>\n",
       "      <td>-0.009513</td>\n",
       "      <td>1.000000</td>\n",
       "    </tr>\n",
       "  </tbody>\n",
       "</table>\n",
       "</div>"
      ],
      "text/plain": [
       "                                     online_order  list_price  standard_cost  \\\n",
       "online_order                             1.000000   -0.001491       0.006535   \n",
       "list_price                              -0.001491    1.000000       0.544153   \n",
       "standard_cost                            0.006535    0.544153       1.000000   \n",
       "product_first_sold_date                  0.006441    0.038001       0.125946   \n",
       "past_3_years_bike_related_purchases      0.003365    0.007130      -0.007101   \n",
       "tenure                                   0.008264   -0.008476      -0.012669   \n",
       "postcode                                 0.001224    0.012627       0.011500   \n",
       "property_valuation                      -0.000185   -0.009905       0.000073   \n",
       "age                                     -0.007693   -0.006321       0.003330   \n",
       "profit                                  -0.006230    0.719563      -0.153864   \n",
       "\n",
       "                                     product_first_sold_date  \\\n",
       "online_order                                        0.006441   \n",
       "list_price                                          0.038001   \n",
       "standard_cost                                       0.125946   \n",
       "product_first_sold_date                             1.000000   \n",
       "past_3_years_bike_related_purchases                 0.010218   \n",
       "tenure                                              0.008932   \n",
       "postcode                                            0.016546   \n",
       "property_valuation                                 -0.001472   \n",
       "age                                                 0.011883   \n",
       "profit                                              0.114673   \n",
       "\n",
       "                                     past_3_years_bike_related_purchases  \\\n",
       "online_order                                                    0.003365   \n",
       "list_price                                                      0.007130   \n",
       "standard_cost                                                  -0.007101   \n",
       "product_first_sold_date                                         0.010218   \n",
       "past_3_years_bike_related_purchases                             1.000000   \n",
       "tenure                                                         -0.009356   \n",
       "postcode                                                       -0.018122   \n",
       "property_valuation                                              0.011350   \n",
       "age                                                            -0.015272   \n",
       "profit                                                          0.016697   \n",
       "\n",
       "                                       tenure  postcode  property_valuation  \\\n",
       "online_order                         0.008264  0.001224           -0.000185   \n",
       "list_price                          -0.008476  0.012627           -0.009905   \n",
       "standard_cost                       -0.012669  0.011500            0.000073   \n",
       "product_first_sold_date              0.008932  0.016546           -0.001472   \n",
       "past_3_years_bike_related_purchases -0.009356 -0.018122            0.011350   \n",
       "tenure                               1.000000  0.011496           -0.018016   \n",
       "postcode                             0.011496  1.000000           -0.495346   \n",
       "property_valuation                  -0.018016 -0.495346            1.000000   \n",
       "age                                  0.499967 -0.009721            0.012282   \n",
       "profit                               0.000920  0.009429           -0.011828   \n",
       "\n",
       "                                          age    profit  \n",
       "online_order                        -0.007693 -0.006230  \n",
       "list_price                          -0.006321  0.719563  \n",
       "standard_cost                        0.003330 -0.153864  \n",
       "product_first_sold_date              0.011883  0.114673  \n",
       "past_3_years_bike_related_purchases -0.015272  0.016697  \n",
       "tenure                               0.499967  0.000920  \n",
       "postcode                            -0.009721  0.009429  \n",
       "property_valuation                   0.012282 -0.011828  \n",
       "age                                  1.000000 -0.009513  \n",
       "profit                              -0.009513  1.000000  "
      ]
     },
     "execution_count": 43,
     "metadata": {},
     "output_type": "execute_result"
    }
   ],
   "source": [
    "df_all.drop(['transaction_id', 'product_id', 'customer_id'], axis=1).corr()"
   ]
  },
  {
   "cell_type": "code",
   "execution_count": null,
   "id": "9baea9fb",
   "metadata": {},
   "outputs": [],
   "source": [
    "# Numerical columns\n",
    "number_vars = [f for f in df_all.columns if df_all.dtypes[f] != 'object']\n",
    "list_nums = ', '.join(number_vars)\n",
    "list_nums"
   ]
  },
  {
   "cell_type": "code",
   "execution_count": null,
   "id": "0abbf520",
   "metadata": {},
   "outputs": [],
   "source": [
    "# Categorical columns\n",
    "object_vars = [f for f in df_all.columns if df_all.dtypes[f] == 'object']\n",
    "list_objs = ', '.join(object_vars)\n",
    "list_objs"
   ]
  },
  {
   "cell_type": "code",
   "execution_count": null,
   "id": "fc835ac7",
   "metadata": {},
   "outputs": [],
   "source": [
    "# Components in categorical columns\n",
    "i = 1\n",
    "for ob in object_vars:\n",
    " print(i, '/', ob, '\\t',len(df_all[ob].unique()),':', df_all[ob].unique())\n",
    " i = i+1"
   ]
  },
  {
   "cell_type": "markdown",
   "id": "532386b7",
   "metadata": {},
   "source": [
    "**Categorical variables** include: 'order_status', 'brand', 'product_line', 'product_class', 'product_size', 'gender', 'job_industry_category', 'wealth_segment', 'deceased_indicator', 'owns_car', 'state', 'country'"
   ]
  },
  {
   "cell_type": "markdown",
   "id": "a862e6d8",
   "metadata": {},
   "source": [
    "## 3. ANALYZE"
   ]
  },
  {
   "cell_type": "markdown",
   "id": "1afb5db8",
   "metadata": {},
   "source": [
    "_Analyzing variables based on NewCustomerList table_"
   ]
  },
  {
   "cell_type": "markdown",
   "id": "b47cd7a5",
   "metadata": {},
   "source": [
    "### 3.1. 'order_status'"
   ]
  },
  {
   "cell_type": "code",
   "execution_count": null,
   "id": "28b7f13f",
   "metadata": {},
   "outputs": [],
   "source": [
    "df_all_status = df_all.groupby(['order_status']).order_status.count()\n",
    "df_all_status"
   ]
  },
  {
   "cell_type": "code",
   "execution_count": null,
   "id": "073604e0",
   "metadata": {},
   "outputs": [],
   "source": [
    "plt.figure(figsize=(6,4))\n",
    "df_all_status.plot.bar(color=['coral', 'sienna'], title='Approved Vs. Cancelled')\n",
    "plt.xlabel('Order Status')\n",
    "plt.ylabel('Count');"
   ]
  },
  {
   "cell_type": "markdown",
   "id": "006be4e9",
   "metadata": {},
   "source": [
    "- Number of approved status is much greater than cancelled status"
   ]
  },
  {
   "cell_type": "markdown",
   "id": "eb0988a3",
   "metadata": {},
   "source": [
    "### 3.2. 'brand'"
   ]
  },
  {
   "cell_type": "code",
   "execution_count": null,
   "id": "d00851a8",
   "metadata": {},
   "outputs": [],
   "source": [
    "df_all_brand = df_all.groupby(['brand']).brand.count().sort_values()\n",
    "df_all_brand"
   ]
  },
  {
   "cell_type": "code",
   "execution_count": null,
   "id": "78d7ae62",
   "metadata": {},
   "outputs": [],
   "source": [
    "plt.figure(figsize=(6,4))\n",
    "df_all_brand.plot.bar(color=['coral', 'sienna'], title='Comparasion of Brands')\n",
    "plt.xlabel('Brands')\n",
    "plt.ylabel('Count');"
   ]
  },
  {
   "cell_type": "markdown",
   "id": "6f5da2df",
   "metadata": {},
   "source": [
    "- Solex has highest number of customers (4253)\n",
    "- Norco Bicycles has smallest number of customers (2910)"
   ]
  },
  {
   "cell_type": "markdown",
   "id": "b4660b6d",
   "metadata": {},
   "source": [
    "### 3.3. 'gender'"
   ]
  },
  {
   "cell_type": "code",
   "execution_count": null,
   "id": "af95df13",
   "metadata": {},
   "outputs": [],
   "source": [
    "df_all['gender'].unique()"
   ]
  },
  {
   "cell_type": "markdown",
   "id": "a948d049",
   "metadata": {},
   "source": [
    "**Transform 'M' to 'Male'; 'Femal' and 'F' to 'Female'**"
   ]
  },
  {
   "cell_type": "code",
   "execution_count": null,
   "id": "78a02659",
   "metadata": {},
   "outputs": [],
   "source": [
    "df_all['gender'] = df_all['gender'].replace('M', 'Male')\n",
    "df_all['gender'] = df_all['gender'].replace('F', 'Female')\n",
    "df_all['gender'] = df_all['gender'].replace('Femal', 'Female')"
   ]
  },
  {
   "cell_type": "code",
   "execution_count": null,
   "id": "46924582",
   "metadata": {},
   "outputs": [],
   "source": [
    "df_all_gen = df_all.groupby(['gender']).gender.count().sort_values()\n",
    "df_all_gen"
   ]
  },
  {
   "cell_type": "code",
   "execution_count": null,
   "id": "48bff8fb",
   "metadata": {},
   "outputs": [],
   "source": [
    "plt.figure(figsize=(6,4))\n",
    "df_all_gen.plot.bar(color=['coral', 'sienna'], title='Comparison of Gender')\n",
    "plt.xlabel('Gender')\n",
    "plt.ylabel('Count');"
   ]
  },
  {
   "cell_type": "markdown",
   "id": "207c609e",
   "metadata": {},
   "source": [
    "- Gender records where ‘U’ have been replaced based on the distribution from the training dataset\n",
    "- Male and Female have similar number of customers"
   ]
  },
  {
   "cell_type": "markdown",
   "id": "ca368345",
   "metadata": {},
   "source": [
    "### 3.4. 'job_industry_category'"
   ]
  },
  {
   "cell_type": "code",
   "execution_count": null,
   "id": "6a2b40e2",
   "metadata": {},
   "outputs": [],
   "source": [
    "df_all_jobcate = df_all.groupby(['job_industry_category']).job_industry_category.count().sort_values()\n",
    "df_all_jobcate"
   ]
  },
  {
   "cell_type": "code",
   "execution_count": null,
   "id": "38015ded",
   "metadata": {},
   "outputs": [],
   "source": [
    "plt.figure(figsize=(6,4))\n",
    "df_all_jobcate.plot.bar(color=['coral', 'sienna'], title='Comparasion of Job Industry Categories')\n",
    "plt.xlabel('Categories')\n",
    "plt.ylabel('Count');"
   ]
  },
  {
   "cell_type": "markdown",
   "id": "73f83222",
   "metadata": {},
   "source": [
    "- There are lots of customers are working at Financial Services and Manufacturing."
   ]
  },
  {
   "cell_type": "markdown",
   "id": "0cb85129",
   "metadata": {},
   "source": [
    "### 3.5. 'wealth_segment'"
   ]
  },
  {
   "cell_type": "code",
   "execution_count": null,
   "id": "4273cf13",
   "metadata": {},
   "outputs": [],
   "source": [
    "df_all_wealthseg = df_all.groupby(['wealth_segment']).wealth_segment.count().sort_values()\n",
    "df_all_wealthseg"
   ]
  },
  {
   "cell_type": "code",
   "execution_count": null,
   "id": "1b67b46b",
   "metadata": {},
   "outputs": [],
   "source": [
    "plt.figure(figsize=(6,4))\n",
    "df_all_wealthseg.plot.bar(color=['coral', 'sienna'], title='Comparasion of Wealth Segments')\n",
    "plt.xlabel('Segments')\n",
    "plt.ylabel('Count');"
   ]
  },
  {
   "cell_type": "markdown",
   "id": "5da626da",
   "metadata": {},
   "source": [
    "- Mass Customer is the highest"
   ]
  },
  {
   "cell_type": "markdown",
   "id": "dae0b309",
   "metadata": {},
   "source": [
    "### 3.6. 'deceased_indicator'"
   ]
  },
  {
   "cell_type": "code",
   "execution_count": null,
   "id": "12a3b7e5",
   "metadata": {},
   "outputs": [],
   "source": [
    "df_all_decind = df_all.groupby(['deceased_indicator']).deceased_indicator.count().sort_values()\n",
    "df_all_decind"
   ]
  },
  {
   "cell_type": "code",
   "execution_count": null,
   "id": "3c46fcdd",
   "metadata": {},
   "outputs": [],
   "source": [
    "plt.figure(figsize=(6,4))\n",
    "df_all_decind.plot.bar(color=['coral', 'sienna'], title='Deceased Indicator')\n",
    "plt.xlabel('Yes/No')\n",
    "plt.ylabel('Count');"
   ]
  },
  {
   "cell_type": "markdown",
   "id": "bda88e77",
   "metadata": {},
   "source": [
    "### 3.7. 'owns_car'"
   ]
  },
  {
   "cell_type": "code",
   "execution_count": null,
   "id": "b6a98552",
   "metadata": {},
   "outputs": [],
   "source": [
    "df_all_own = df_all.groupby(['owns_car']).owns_car.count().sort_values()\n",
    "df_all_own"
   ]
  },
  {
   "cell_type": "code",
   "execution_count": null,
   "id": "476244de",
   "metadata": {},
   "outputs": [],
   "source": [
    "plt.figure(figsize=(6,4))\n",
    "df_all_own.plot.bar(color=['coral', 'sienna'], title='Customer Owns Car')\n",
    "plt.xlabel('Yes/No')\n",
    "plt.ylabel('Count');"
   ]
  },
  {
   "cell_type": "markdown",
   "id": "817af870",
   "metadata": {},
   "source": [
    "### 3.8. 'state'"
   ]
  },
  {
   "cell_type": "code",
   "execution_count": null,
   "id": "72e8518e",
   "metadata": {},
   "outputs": [],
   "source": [
    "df_all_state = df_all.groupby(['state']).state.count().sort_values()\n",
    "df_all_state"
   ]
  },
  {
   "cell_type": "code",
   "execution_count": null,
   "id": "33e668dd",
   "metadata": {},
   "outputs": [],
   "source": [
    "plt.figure(figsize=(6,4))\n",
    "df_all_state.plot.bar(color=['coral', 'sienna'], title='Comparasion of States')\n",
    "plt.xlabel('States')\n",
    "plt.ylabel('Count');"
   ]
  },
  {
   "cell_type": "markdown",
   "id": "33a2c1a6",
   "metadata": {},
   "source": [
    "### 3.10. 'postcode'"
   ]
  },
  {
   "cell_type": "markdown",
   "id": "bbea9ff7",
   "metadata": {},
   "source": [
    "### 3.11. 'DOB'"
   ]
  },
  {
   "cell_type": "markdown",
   "id": "1b9ef745",
   "metadata": {},
   "source": [
    "### 3.12. 'tenure'"
   ]
  },
  {
   "cell_type": "markdown",
   "id": "0ffa2c7f",
   "metadata": {},
   "source": [
    "### 3.13. 'past_3_years_bike_related_purchases'"
   ]
  },
  {
   "cell_type": "markdown",
   "id": "607a9dd4",
   "metadata": {},
   "source": [
    "### 3.14. 'property_valuation'"
   ]
  }
 ],
 "metadata": {
  "kernelspec": {
   "display_name": "Python 3",
   "language": "python",
   "name": "python3"
  },
  "language_info": {
   "codemirror_mode": {
    "name": "ipython",
    "version": 3
   },
   "file_extension": ".py",
   "mimetype": "text/x-python",
   "name": "python",
   "nbconvert_exporter": "python",
   "pygments_lexer": "ipython3",
   "version": "3.6.8"
  }
 },
 "nbformat": 4,
 "nbformat_minor": 5
}
